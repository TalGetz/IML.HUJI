{
  "nbformat": 4,
  "nbformat_minor": 0,
  "metadata": {
    "colab": {
      "name": "data_challenge.ipynb",
      "provenance": [],
      "collapsed_sections": [
        "50YXyljYjUzx",
        "5dsgoef5jg8D",
        "ElogxZK3mteD",
        "_mIjD5j10MoR"
      ]
    },
    "kernelspec": {
      "name": "python3",
      "display_name": "Python 3"
    },
    "language_info": {
      "name": "python"
    }
  },
  "cells": [
    {
      "cell_type": "markdown",
      "source": [
        "# Utils"
      ],
      "metadata": {
        "id": "w3CpKFeRcYj9"
      }
    },
    {
      "cell_type": "code",
      "source": [
        "import matplotlib.pyplot as plt\n",
        "def roc_curve(y_pred, y_true, pos_label=1):\n",
        "  fpr, tpr, thresholds = sklearn.metrics.roc_curve(y_pred, y_true, pos_label=pos_label)\n",
        "  roc_auc = sklearn.metrics.auc(fpr, tpr)\n",
        "  display = sklearn.metrics.RocCurveDisplay(fpr=fpr, tpr=tpr, roc_auc=roc_auc, estimator_name='roc_curve')\n",
        "  display.plot()\n",
        "  plt.show()\n",
        "  return roc_auc"
      ],
      "metadata": {
        "id": "lkKQav-TgKrF"
      },
      "execution_count": 1,
      "outputs": []
    },
    {
      "cell_type": "markdown",
      "source": [
        "# Setup"
      ],
      "metadata": {
        "id": "50YXyljYjUzx"
      }
    },
    {
      "cell_type": "code",
      "source": [
        "\"\"\"\n",
        "The following file contains base classes for all estimators.\n",
        "Class design and part of the code is taken and/or influenced\n",
        "by the Python scikit-learn package, and specifically the\n",
        "BaseEstimator.py file\n",
        "\n",
        "# Author: Gilad Green <iml@mail.huji.ac.il>\n",
        "# License: BSD 3 clause\n",
        "\"\"\"\n",
        "!pip install currencyconverter \n",
        "from __future__ import annotations\n",
        "from abc import ABC, abstractmethod\n",
        "from typing import NoReturn\n",
        "import numpy as np\n",
        "import pandas as pd\n",
        "import sklearn\n",
        "\n",
        "class BaseEstimator(ABC):\n",
        "    \"\"\"\n",
        "    Base class of supervised estimators (classifiers and regressors)\n",
        "    \"\"\"\n",
        "\n",
        "    def __init__(self) -> BaseEstimator:\n",
        "        \"\"\"\n",
        "        Initialize a supervised estimator instance\n",
        "\n",
        "        Attributes\n",
        "        ----------\n",
        "        fitted_ : bool\n",
        "            Indicates if estimator has been fitted. Set by ``self.fit`` function\n",
        "        \"\"\"\n",
        "        self.fitted_ = False\n",
        "\n",
        "    def fit(self, X: np.ndarray, y: np.ndarray) -> BaseEstimator:\n",
        "        \"\"\"\n",
        "        Fit estimator for given input samples and responses\n",
        "\n",
        "        Parameters\n",
        "        ----------\n",
        "        X : ndarray of shape (n_samples, n_features)\n",
        "            Input data to fit an estimator for\n",
        "        y : ndarray of shape (n_samples, )\n",
        "            Responses of input data to fit to\n",
        "\n",
        "        Returns\n",
        "        -------\n",
        "        self : returns an instance of self.\n",
        "\n",
        "        Notes\n",
        "        -----\n",
        "        After fitting sets ``self.fitted_`` attribute to `True`\n",
        "        \"\"\"\n",
        "        self._fit(X, y)\n",
        "        self.fitted_ = True\n",
        "        return self\n",
        "\n",
        "    def predict(self, X: np.ndarray) -> np.ndarray:\n",
        "        \"\"\"\n",
        "        Predict responses for given samples using fitted estimator\n",
        "\n",
        "        Parameters\n",
        "        ----------\n",
        "        X : ndarray of shape (n_samples, n_features)\n",
        "            Input data to predict responses for\n",
        "\n",
        "        Returns\n",
        "        -------\n",
        "        responses : ndarray of shape (n_samples, )\n",
        "            Predicted responses of given samples\n",
        "\n",
        "        Raises\n",
        "        ------\n",
        "        ValueError is raised if ``self.predict`` was called before calling ``self.fit``\n",
        "        \"\"\"\n",
        "        if not self.fitted_:\n",
        "            raise ValueError(\"Estimator must first be fitted before calling ``predict``\")\n",
        "        return self._predict(X)\n",
        "\n",
        "    def loss(self, X: np.ndarray, y: np.ndarray) -> float:\n",
        "        \"\"\"\n",
        "        Evaluate performance under loss function specified for estimator\n",
        "\n",
        "        Parameters\n",
        "        ----------\n",
        "        X : ndarray of shape (n_samples, n_features)\n",
        "            Test samples\n",
        "\n",
        "        y : ndarray of shape (n_samples, )\n",
        "            True labels of test samples\n",
        "\n",
        "        Returns\n",
        "        -------\n",
        "        loss : float\n",
        "            Performance under loss function specified for estimator\n",
        "\n",
        "        Raises\n",
        "        ------\n",
        "        ValueError is raised if ``self.loss`` was called before calling ``self.fit``\n",
        "        \"\"\"\n",
        "        if not self.fitted_:\n",
        "            raise ValueError(\"Estimator must first be fitted before calling ``loss``\")\n",
        "        return self._loss(X, y)\n",
        "\n",
        "    @abstractmethod\n",
        "    def _fit(self, X: np.ndarray, y: np.ndarray) -> NoReturn:\n",
        "        \"\"\"\n",
        "        Fit estimator for given input samples and responses\n",
        "\n",
        "        Parameters\n",
        "        ----------\n",
        "        X : ndarray of shape (n_samples, n_features)\n",
        "            Input data to fit an estimator for\n",
        "\n",
        "        y : ndarray of shape (n_samples, )\n",
        "            Responses of input data to fit to\n",
        "        \"\"\"\n",
        "        raise NotImplementedError()\n",
        "\n",
        "    @abstractmethod\n",
        "    def _predict(self, X: np.ndarray) -> np.ndarray:\n",
        "        \"\"\"\n",
        "        Predict responses for given samples using fitted estimator\n",
        "\n",
        "        Parameters\n",
        "        ----------\n",
        "        X : ndarray of shape (n_samples, n_features)\n",
        "            Input data to predict responses for\n",
        "\n",
        "        Returns\n",
        "        -------\n",
        "        responses : ndarray of shape (n_samples, )\n",
        "            Predicted responses of given samples\n",
        "        \"\"\"\n",
        "        raise NotImplementedError()\n",
        "\n",
        "    @abstractmethod\n",
        "    def _loss(self, X: np.ndarray, y: np.ndarray) -> float:\n",
        "        \"\"\"\n",
        "        Evaluate performance under loss function specified for estimator\n",
        "\n",
        "        Parameters\n",
        "        ----------\n",
        "        X : ndarray of shape (n_samples, n_features)\n",
        "            Test samples\n",
        "\n",
        "        y : ndarray of shape (n_samples, )\n",
        "            True labels of test samples\n",
        "\n",
        "        Returns\n",
        "        -------\n",
        "        loss : float\n",
        "            Performance under loss function specified for estimator\n",
        "        \"\"\"\n",
        "        raise NotImplementedError()\n",
        "\n",
        "    def fit_predict(self, X: np.ndarray, y: np.ndarray) -> np.ndarray:\n",
        "        \"\"\"\n",
        "        Fit an estimator over given input data and predict responses for given samples\n",
        "\n",
        "        Parameters\n",
        "        ----------\n",
        "        X : ndarray of shape (n_samples, n_features)\n",
        "            Input data to fit an estimator for\n",
        "\n",
        "        y : ndarray of shape (n_samples, )\n",
        "            Responses of input data to fit to\n",
        "\n",
        "        Returns\n",
        "        -------\n",
        "        responses : ndarray of shape (n_samples, )\n",
        "            Predicted responses of given samples\n",
        "        \"\"\"\n",
        "        self.fit(X, y)\n",
        "        return self.predict(X)\n"
      ],
      "metadata": {
        "id": "uzvvIwCBi_bW",
        "colab": {
          "base_uri": "https://localhost:8080/"
        },
        "outputId": "c8d37b37-5e46-4aa8-897c-a8f7af2af0c9"
      },
      "execution_count": 7,
      "outputs": [
        {
          "output_type": "stream",
          "name": "stdout",
          "text": [
            "Requirement already satisfied: currencyconverter in /usr/local/lib/python3.7/dist-packages (0.16.12)\n"
          ]
        }
      ]
    },
    {
      "cell_type": "markdown",
      "source": [
        "# Model"
      ],
      "metadata": {
        "id": "5dsgoef5jg8D"
      }
    },
    {
      "cell_type": "code",
      "execution_count": 8,
      "metadata": {
        "id": "H18CYcUAi1aE"
      },
      "outputs": [],
      "source": [
        "from __future__ import annotations\n",
        "from typing import NoReturn\n",
        "import numpy as np\n",
        "from sklearn import svm\n",
        "\n",
        "class AgodaCancellationEstimator(BaseEstimator):\n",
        "    \"\"\"\n",
        "    An estimator for solving the Agoda Cancellation challenge\n",
        "    \"\"\"\n",
        "\n",
        "    def __init__(self):\n",
        "        \"\"\"\n",
        "        Instantiate an estimator for solving the Agoda Cancellation challenge\n",
        "\n",
        "        Parameters\n",
        "        ----------\n",
        "\n",
        "\n",
        "        Attributes\n",
        "        ----------\n",
        "\n",
        "        \"\"\"\n",
        "        super().__init__()\n",
        "        self.clf = svm.SVC(gamma=0.01, C=1000.)\n",
        "\n",
        "    def _fit(self, X: np.ndarray, y: np.ndarray) -> NoReturn:\n",
        "        \"\"\"\n",
        "        Fit an estimator for given samples\n",
        "\n",
        "        Parameters\n",
        "        ----------\n",
        "        X : ndarray of shape (n_samples, n_features)\n",
        "            Input data to fit an estimator for\n",
        "\n",
        "        y : ndarray of shape (n_samples, )\n",
        "            Responses of input data to fit to\n",
        "\n",
        "        Notes\n",
        "        -----\n",
        "\n",
        "        \"\"\"\n",
        "        self.clf.fit(X,y)\n",
        "\n",
        "    def _predict(self, X: np.ndarray) -> np.ndarray:\n",
        "        \"\"\"\n",
        "        Predict responses for given samples using fitted estimator\n",
        "\n",
        "        Parameters\n",
        "        ----------\n",
        "        X : ndarray of shape (n_samples, n_features)\n",
        "            Input data to predict responses for\n",
        "\n",
        "        Returns\n",
        "        -------\n",
        "        responses : ndarray of shape (n_samples, )\n",
        "            Predicted responses of given samples\n",
        "        \"\"\"\n",
        "        return self.clf.predict(X)\n",
        "\n",
        "    def _loss(self, X: np.ndarray, y: np.ndarray) -> float:\n",
        "        \"\"\"\n",
        "        Evaluate performance under loss function\n",
        "\n",
        "        Parameters\n",
        "        ----------\n",
        "        X : ndarray of shape (n_samples, n_features)\n",
        "            Test samples\n",
        "\n",
        "        y : ndarray of shape (n_samples, )\n",
        "            True labels of test samples\n",
        "\n",
        "        Returns\n",
        "        -------\n",
        "        loss : float\n",
        "            Performance under loss function\n",
        "        \"\"\"\n",
        "        pass\n"
      ]
    },
    {
      "cell_type": "markdown",
      "source": [
        "# Data Preproccessing"
      ],
      "metadata": {
        "id": "4nZf6VjojaqU"
      }
    },
    {
      "cell_type": "code",
      "source": [
        "dummy_dict = dict()"
      ],
      "metadata": {
        "id": "GDVTK8LC5QZB"
      },
      "execution_count": 9,
      "outputs": []
    },
    {
      "cell_type": "code",
      "source": [
        "import numpy as np\n",
        "import pandas as pd\n",
        "from sklearn.model_selection import train_test_split\n",
        "from currency_converter import CurrencyConverter\n",
        "from datetime import date\n",
        "from datetime import datetime\n",
        "\n",
        "\n",
        "\n",
        "def add_one_hot_encoding_of_column(features: pd.DataFrame, feature_name: str):\n",
        "    column_dummies = pd.get_dummies(features[feature_name], prefix=feature_name).apply(pd.Series)\n",
        "    if not feature_name in dummy_dict:\n",
        "      dummy_dict[feature_name] = column_dummies.columns\n",
        "    column_dummies = column_dummies.T.reindex(dummy_dict[feature_name]).T.fillna(0)\n",
        "    return pd.concat([features.drop(columns=feature_name), column_dummies], axis=1)\n",
        "\n",
        "DATETIME_FORMAT = \"%Y-%m-%d %H:%M:%S\"\n",
        "\n",
        "def load_data(filename: str, classifier_mode=True):\n",
        "    \"\"\"\n",
        "    Load Agoda booking cancellation dataset\n",
        "    Parameters\n",
        "    ----------\n",
        "    filename: str\n",
        "        Path to house prices dataset\n",
        "\n",
        "    Returns\n",
        "    -------\n",
        "    Design matrix and response vector in either of the following formats:\n",
        "    1) Single dataframe with last column representing the response\n",
        "    2) Tuple of pandas.DataFrame and Series\n",
        "    3) Tuple of ndarray of shape (n_samples, n_features) and ndarray of shape (n_samples,)\n",
        "    \"\"\"\n",
        "    # TODO - replace below code with any desired preprocessing\n",
        "    full_data = pd.read_csv(filename).drop_duplicates()\n",
        "\n",
        "    # features = full_data[[\"h_booking_id\",\n",
        "    #                       \"hotel_id\",\n",
        "    #                       \"accommadation_type_name\",\n",
        "    #                       \"hotel_star_rating\",\n",
        "    #                       \"customer_nationality\"]]\n",
        "    if not classifier_mode:\n",
        "      full_data = full_data.dropna()\n",
        "    labels = full_data[\"cancellation_datetime\"]\n",
        "    features = full_data\n",
        "    return features, labels\n",
        "  \n",
        "\n",
        "def pre_proccess_data(features, labels, classifier_mode=True):\n",
        "    features = features.fillna(0)\n",
        "    if \"cancellation_datetime\" in features:\n",
        "      del features[\"cancellation_datetime\"]\n",
        "    del features[\"h_booking_id\"]\n",
        "    del features[\"hotel_id\"]\n",
        "    del features[\"h_customer_id\"]\n",
        "    del features[\"customer_nationality\"] # related to many other columns\n",
        "    del features[\"hotel_area_code\"] # could be usful\n",
        "    del features[\"hotel_brand_code\"] # ^\n",
        "    del features[\"hotel_chain_code\"] # ^\n",
        "    del features[\"language\"] # requires further analysis perhaps\n",
        "    del features[\"guest_nationality_country_name\"] # also could be useful\n",
        "    features[\"is_first_booking\"] = features[\"is_first_booking\"].astype(float)\n",
        "    features[\"is_user_logged_in\"] = features[\"is_user_logged_in\"].astype(float)\n",
        "    features = add_one_hot_encoding_of_column(features, \"original_payment_type\")\n",
        "    features = add_one_hot_encoding_of_column(features, \"hotel_country_code\")\n",
        "    features = add_one_hot_encoding_of_column(features, \"charge_option\")\n",
        "    features = add_one_hot_encoding_of_column(features, \"original_payment_method\")\n",
        "    features = add_one_hot_encoding_of_column(features, \"accommadation_type_name\")\n",
        "    features = add_one_hot_encoding_of_column(features, \"origin_country_code\")\n",
        "    features[\"stay_length_seconds\"] = (pd.to_datetime(features[\"checkout_date\"]) - pd.to_datetime(features[\"checkin_date\"])).apply(lambda x: x.total_seconds())\n",
        "    features[\"booking_to_checkin_time\"] = (pd.to_datetime(features[\"checkin_date\"]) - pd.to_datetime(features[\"booking_datetime\"])).apply(lambda x: x.total_seconds())\n",
        "    features[\"booking_to_checkout_time\"] = (pd.to_datetime(features[\"checkout_date\"]) - pd.to_datetime(features[\"booking_datetime\"])).apply(lambda x: x.total_seconds())\n",
        "    features[\"hotel_live_year\"] = pd.to_datetime(features[\"hotel_live_date\"]).apply(lambda x: x.year)\n",
        "    # currency conversion to USD\n",
        "    c = CurrencyConverter(fallback_on_missing_rate=True)\n",
        "    def cur_to_dollar(row):\n",
        "      return c.convert(row.original_selling_amount, row.original_payment_currency, \"USD\", date=datetime.strptime(row.booking_datetime, DATETIME_FORMAT)) if row.original_payment_currency in c.currencies else row.original_selling_amount\n",
        "    features['original_selling_amount_usd'] = features.apply(cur_to_dollar, axis=1)\n",
        "    del features['original_payment_currency']\n",
        "    del features['original_selling_amount']\n",
        "    # t = c.convert(100, 'USD', 'BGN', date=date(2010, 11, 21)) - possible to do according to timestamp\n",
        "\n",
        "    my_labels = None\n",
        "\n",
        "    # change labels to contain delta time checkin - cancelled\n",
        "    if labels is not None:\n",
        "      my_labels = (pd.to_datetime(features['checkin_date']) - pd.to_datetime(labels)).apply(lambda x: x.days)\n",
        "\n",
        "    if classifier_mode and labels is not None:\n",
        "      my_labels = my_labels.apply(lambda x: 1 if np.all(pd.notnull([x])) else 0)\n",
        "\n",
        "    # can possibly turn into seconds amounts for mathimatical fitting\n",
        "    del features[\"booking_datetime\"]\n",
        "    del features[\"checkin_date\"]\n",
        "    del features[\"checkout_date\"]\n",
        "    del features[\"hotel_live_date\"]\n",
        "\n",
        "    # cancellation_policy_code needs to be treated but removed for now\n",
        "    del features[\"cancellation_policy_code\"]\n",
        "\n",
        "    return features, my_labels, labels"
      ],
      "metadata": {
        "id": "kq0tHKTJi-g5"
      },
      "execution_count": 10,
      "outputs": []
    },
    {
      "cell_type": "code",
      "source": [
        "features_no_null, labels_no_null = load_data(\"/content/drive/MyDrive/data challenge/agoda_cancellation_train.csv\", classifier_mode=False)\n",
        "features_with_null, labels_with_null = load_data(\"/content/drive/MyDrive/data challenge/agoda_cancellation_train.csv\", classifier_mode=True)\n",
        "\n",
        "df_with_null, cancellation_labels_with_null, true_labels_with_null = pre_proccess_data(features_with_null, labels_with_null, classifier_mode=True)\n",
        "df_no_null, cancellation_labels_no_null, true_labels_no_null = pre_proccess_data(features_no_null, labels_no_null, classifier_mode=False)"
      ],
      "metadata": {
        "id": "o5DWLISxrk2b"
      },
      "execution_count": 11,
      "outputs": []
    },
    {
      "cell_type": "markdown",
      "source": [
        "# Fitting Classifier"
      ],
      "metadata": {
        "id": "jqh9Z8Jix3tX"
      }
    },
    {
      "cell_type": "code",
      "source": [
        "train_X, test_X, train_y , test_y = train_test_split(df_with_null, cancellation_labels_with_null)\n",
        "\n",
        "import xgboost as xgb\n",
        "from sklearn.ensemble import GradientBoostingRegressor\n",
        "from sklearn.model_selection import GridSearchCV\n",
        "classifier = GradientBoostingRegressor(n_estimators=100, learning_rate = 0.2, max_depth=8, verbose=1).fit(train_X, train_y)"
      ],
      "metadata": {
        "colab": {
          "base_uri": "https://localhost:8080/"
        },
        "id": "IwYVPIGd9kCm",
        "outputId": "a7ef44ac-82c5-4bf5-9da0-fbc4d2339ce4"
      },
      "execution_count": 12,
      "outputs": [
        {
          "output_type": "stream",
          "name": "stdout",
          "text": [
            "      Iter       Train Loss   Remaining Time \n",
            "         1           0.1756            2.17m\n",
            "         2           0.1610            1.98m\n",
            "         3           0.1510            2.07m\n",
            "         4           0.1439            2.35m\n",
            "         5           0.1388            2.49m\n",
            "         6           0.1346            2.60m\n",
            "         7           0.1319            2.68m\n",
            "         8           0.1295            2.69m\n",
            "         9           0.1274            2.68m\n",
            "        10           0.1259            2.68m\n",
            "        20           0.1174            2.36m\n",
            "        30           0.1133            2.03m\n",
            "        40           0.1113            1.52m\n",
            "        50           0.1085            1.14m\n",
            "        60           0.1064           50.49s\n",
            "        70           0.1051           35.63s\n",
            "        80           0.1035           22.61s\n",
            "        90           0.1011           10.90s\n",
            "       100           0.0989            0.00s\n"
          ]
        }
      ]
    },
    {
      "cell_type": "code",
      "source": [
        "roc_curve(test_y, classifier.predict(test_X), pos_label=1)"
      ],
      "metadata": {
        "colab": {
          "base_uri": "https://localhost:8080/",
          "height": 296
        },
        "id": "4GsNYqKrb2sg",
        "outputId": "fa13c89a-a97e-4ab4-e495-60737eb2a42b"
      },
      "execution_count": 13,
      "outputs": [
        {
          "output_type": "display_data",
          "data": {
            "text/plain": [
              "<Figure size 432x288 with 1 Axes>"
            ],
            "image/png": "[encoded data removed]"
          },
          "metadata": {
            "needs_background": "light"
          }
        },
        {
          "output_type": "execute_result",
          "data": {
            "text/plain": [
              "0.8416364793217028"
            ]
          },
          "metadata": {},
          "execution_count": 13
        }
      ]
    },
    {
      "cell_type": "markdown",
      "source": [
        "# Hyper Params"
      ],
      "metadata": {
        "id": "ElogxZK3mteD"
      }
    },
    {
      "cell_type": "code",
      "source": [
        "max_depth = list(range(1,11))\n",
        "accuracies = []\n",
        "precisions = []\n",
        "# from sklearn.ensemble import GradientBoostingClassifier, GradientBoostingRegressor\n",
        "train_X, test_X, train_y , test_y = train_test_split(df_with_null, cancellation_labels_with_null)\n",
        "\n",
        "for i in max_depth:\n",
        "  print(f\"Max Depth {i}\")\n",
        "  estimator = xgb.XGBRegressor(n_estimators=200, learning_rate = float(i)/10, max_depth=8, verbosity=2).fit(train_X, train_y)\n",
        "  accuracy = sklearn.metrics.accuracy_score(estimator.predict(test_X), test_y)\n",
        "  precision = sklearn.metrics.precision_score(estimator.predict(test_X), test_y)\n",
        "  accuracies.append(accuracy)\n",
        "  precisions.append(precision)"
      ],
      "metadata": {
        "id": "3yve0LpyFCHa"
      },
      "execution_count": null,
      "outputs": []
    },
    {
      "cell_type": "code",
      "source": [
        "import matplotlib.pyplot as plt\n",
        "\n",
        "#accuracy\n",
        "fig, ax = plt.subplots()\n",
        "ax.plot(max_depth[:15], accuracies)\n",
        "\n",
        "ax.set(xlabel='Max Depth', ylabel='Accuracy',\n",
        "       title='Accuracy vs. Max Depth')\n",
        "ax.grid()\n",
        "\n",
        "plt.show()\n",
        "\n",
        "# precision\n",
        "fig, ax = plt.subplots()\n",
        "\n",
        "ax.set(xlabel='Max Depth', ylabel='Precision',\n",
        "       title='Precision vs. Max Depth')\n",
        "ax.grid()\n",
        "\n",
        "ax.plot(max_depth[:15], precisions)\n",
        "\n",
        "plt.show()"
      ],
      "metadata": {
        "id": "6xZJ_JdhF6yQ"
      },
      "execution_count": null,
      "outputs": []
    },
    {
      "cell_type": "markdown",
      "source": [
        "# Fitting Regressor"
      ],
      "metadata": {
        "id": "2exlzTjy9ys9"
      }
    },
    {
      "cell_type": "code",
      "source": [
        "np.random.seed(0)\n",
        "train_X, test_X, train_y , test_y = train_test_split(df_no_null, cancellation_labels_no_null)\n",
        "\n",
        "from sklearn.ensemble import GradientBoostingRegressor\n",
        "regressor = xgb.XGBRegressor(base_score=0.5, booster='gbtree', colsample_bylevel=1,\n",
        "       colsample_bynode=1, colsample_bytree=1, gamma=0,\n",
        "       importance_type='gain', learning_rate=0.1, max_delta_step=0,\n",
        "       max_depth=3, min_child_weight=1, missing=None, n_estimators=100,\n",
        "       n_jobs=1, nthread=None, objective='reg:linear', random_state=0,\n",
        "       reg_alpha=0, reg_lambda=1, scale_pos_weight=1, seed=None,\n",
        "       silent=None, subsample=1, verbosity=1).fit(train_X, train_y)\n",
        "# regressor = xgb.XGBRegressor(n_estimators=200, learning_rate = 0.1, max_depth=3, verbosity=0).fit(train_X, train_y)\n",
        "# regressor = GradientBoostingRegressor(n_estimators=1000, subsample=1, learning_rate = 0.1, max_depth=1, verbose=1, criterion=\"squared_error\").fit(train_X, train_y)"
      ],
      "metadata": {
        "colab": {
          "base_uri": "https://localhost:8080/"
        },
        "id": "ZMoaUiaWxxId",
        "outputId": "98a23aaf-4f02-4c1c-9122-9a023df5a379"
      },
      "execution_count": 145,
      "outputs": [
        {
          "output_type": "stream",
          "name": "stdout",
          "text": [
            "[20:38:53] WARNING: /workspace/src/objective/regression_obj.cu:152: reg:linear is now deprecated in favor of reg:squarederror.\n"
          ]
        }
      ]
    },
    {
      "cell_type": "code",
      "source": [
        "sklearn.metrics.mean_squared_error(regressor.predict(test_X), test_y)"
      ],
      "metadata": {
        "colab": {
          "base_uri": "https://localhost:8080/"
        },
        "id": "L6wq-ueZpfLq",
        "outputId": "cebd1756-c5b2-4a83-af6d-46233dbd3fb5"
      },
      "execution_count": 146,
      "outputs": [
        {
          "output_type": "execute_result",
          "data": {
            "text/plain": [
              "857.9079944599183"
            ]
          },
          "metadata": {},
          "execution_count": 146
        }
      ]
    },
    {
      "cell_type": "code",
      "source": [
        "roc_curve(test_y, regressor.predict(test_X), pos_label=1)"
      ],
      "metadata": {
        "colab": {
          "base_uri": "https://localhost:8080/",
          "height": 296
        },
        "id": "c0kf9VBjoFHk",
        "outputId": "d0c87d41-c0c5-406d-9c38-54d6b7fbbd44"
      },
      "execution_count": 147,
      "outputs": [
        {
          "output_type": "display_data",
          "data": {
            "text/plain": [
              "<Figure size 432x288 with 1 Axes>"
            ],
            "image/png": "[encoded data removed]"
          },
          "metadata": {
            "needs_background": "light"
          }
        },
        {
          "output_type": "execute_result",
          "data": {
            "text/plain": [
              "0.15054881571346043"
            ]
          },
          "metadata": {},
          "execution_count": 147
        }
      ]
    },
    {
      "cell_type": "markdown",
      "source": [
        "# Hyper-Params"
      ],
      "metadata": {
        "id": "_mIjD5j10MoR"
      }
    },
    {
      "cell_type": "code",
      "source": [
        "np.random.seed(0)\n",
        "for i in range(1,50):\n",
        "\n",
        "  # Fit model over data\n",
        "  # estimator = AgodaCancellationEstimator().fit(train_X, train_y)\n",
        "\n",
        "  from sklearn.ensemble import RandomForestRegressor\n",
        "  estimator =RandomForestRegressor(n_estimators=50,\n",
        "                            max_depth=i,\n",
        "                            criterion='mse',\n",
        "                          ).fit(train_X, train_y)"
      ],
      "metadata": {
        "colab": {
          "base_uri": "https://localhost:8080/",
          "height": 235
        },
        "id": "NqjBLAH90Kmv",
        "outputId": "73c56a87-dfbf-4a04-c3e2-59429cc7362b"
      },
      "execution_count": null,
      "outputs": [
        {
          "output_type": "error",
          "ename": "TypeError",
          "evalue": "ignored",
          "traceback": [
            "\u001b[0;31m---------------------------------------------------------------------------\u001b[0m",
            "\u001b[0;31mTypeError\u001b[0m                                 Traceback (most recent call last)",
            "\u001b[0;32m<ipython-input-38-3b486c82924e>\u001b[0m in \u001b[0;36m<module>\u001b[0;34m()\u001b[0m\n\u001b[1;32m      8\u001b[0m   estimator =RandomForestRegressor(n_estimators=50, learning_rate=1.0,\n\u001b[1;32m      9\u001b[0m                             \u001b[0mmax_depth\u001b[0m\u001b[0;34m=\u001b[0m\u001b[0mi\u001b[0m\u001b[0;34m,\u001b[0m\u001b[0;34m\u001b[0m\u001b[0;34m\u001b[0m\u001b[0m\n\u001b[0;32m---> 10\u001b[0;31m                             \u001b[0mcriterion\u001b[0m\u001b[0;34m=\u001b[0m\u001b[0;34m'mse'\u001b[0m\u001b[0;34m,\u001b[0m\u001b[0;34m\u001b[0m\u001b[0;34m\u001b[0m\u001b[0m\n\u001b[0m\u001b[1;32m     11\u001b[0m                           ).fit(train_X, train_y)\n\u001b[1;32m     12\u001b[0m \u001b[0;34m\u001b[0m\u001b[0m\n",
            "\u001b[0;31mTypeError\u001b[0m: __init__() got an unexpected keyword argument 'learning_rate'"
          ]
        }
      ]
    },
    {
      "cell_type": "markdown",
      "source": [
        "# Extras"
      ],
      "metadata": {
        "id": "VtFAKsI60E11"
      }
    },
    {
      "cell_type": "code",
      "source": [
        "sklearn.metrics.accuracy_score(estimator.predict(test_X), test_y)"
      ],
      "metadata": {
        "id": "xgviHFZfyMUr"
      },
      "execution_count": null,
      "outputs": []
    },
    {
      "cell_type": "code",
      "source": [
        "sklearn.metrics.precision_score(estimator.predict(test_X), test_y)"
      ],
      "metadata": {
        "id": "L-9XJDuoDn_Z"
      },
      "execution_count": null,
      "outputs": []
    },
    {
      "cell_type": "code",
      "source": [
        "total_test = test_X.copy()\n",
        "total_test[\"label\"] = test_y\n",
        "total_test[\"prediction\"] = regressor.predict(test_X)"
      ],
      "metadata": {
        "id": "b2mQpq4RfFhY"
      },
      "execution_count": null,
      "outputs": []
    },
    {
      "cell_type": "code",
      "source": [
        "pd.set_option('display.max_columns', None)\n",
        "pd.set_option('display.max_rows', None)\n",
        "total_test[[\"label\", \"prediction\"]]"
      ],
      "metadata": {
        "id": "KmKTsa-742c3"
      },
      "execution_count": null,
      "outputs": []
    },
    {
      "cell_type": "code",
      "source": [
        "true_labels.unique()"
      ],
      "metadata": {
        "id": "zp-WZAnp1fCM"
      },
      "execution_count": null,
      "outputs": []
    },
    {
      "cell_type": "code",
      "source": [
        "cancellation_labels"
      ],
      "metadata": {
        "id": "ntIU5ia-2mfP"
      },
      "execution_count": null,
      "outputs": []
    },
    {
      "cell_type": "code",
      "source": [
        "# potential for learning all hyper params\n",
        "\n",
        "param_grid = {\n",
        "    \"n_estimators\": [5],\n",
        "    \"max_depth\": [3, 4],\n",
        "    \"learning_rate\": [0.1],\n",
        "}\n",
        "\n",
        "grid_cv = GridSearchCV(estimator, param_grid, n_jobs=-1, cv=10, scoring=\"roc_auc\", verbose=1)\n",
        "\n",
        "# Fit\n",
        "_ = grid_cv.fit(train_X, train_y)"
      ],
      "metadata": {
        "id": "elnB-wCTmDk5"
      },
      "execution_count": null,
      "outputs": []
    },
    {
      "cell_type": "markdown",
      "source": [
        "# Output"
      ],
      "metadata": {
        "id": "CSBUQby2zNhR"
      }
    },
    {
      "cell_type": "code",
      "source": [
        "def evaluate_and_export(pred_y: np.ndarray, filename: str):\n",
        "    \"\"\"\n",
        "    Export to specified file the prediction results of given estimator on given testset.\n",
        "\n",
        "    File saved is in csv format with a single column named 'predicted_values' and n_samples rows containing\n",
        "    predicted values.\n",
        "\n",
        "    Parameters\n",
        "    ----------\n",
        "    estimator: BaseEstimator or any object implementing predict() method as in BaseEstimator (for example sklearn)\n",
        "        Fitted estimator to use for prediction\n",
        "\n",
        "    X: ndarray of shape (n_samples, n_features)\n",
        "        Test design matrix to predict its responses\n",
        "\n",
        "    filename:\n",
        "        path to store file at\n",
        "\n",
        "    \"\"\"\n",
        "    pd.DataFrame(pred_y, columns=[\"predicted_values\"]).to_csv(filename, index=False)"
      ],
      "metadata": {
        "id": "ZvSUFCBRqE78"
      },
      "execution_count": 16,
      "outputs": []
    },
    {
      "cell_type": "code",
      "source": [
        "test_data_x = pd.read_csv(\"/content/drive/MyDrive/data challenge/week_6_test_data.csv\")\n",
        "test_data_y = pd.read_csv(\"/content/drive/MyDrive/data challenge/week_2_labels.csv\")\n"
      ],
      "metadata": {
        "id": "XLWTaVeMqM2F"
      },
      "execution_count": 259,
      "outputs": []
    },
    {
      "cell_type": "code",
      "source": [
        "proccessed_test_data_x, _, _ = pre_proccess_data(test_data_x, None, classifier_mode=True)"
      ],
      "metadata": {
        "id": "mZ-vurLrwEwI"
      },
      "execution_count": 260,
      "outputs": []
    },
    {
      "cell_type": "code",
      "source": [
        "# predict if cancelled\n",
        "cancelled = classifier.predict(proccessed_test_data_x) >= 0"
      ],
      "metadata": {
        "id": "Ffv0gO7_wu_7"
      },
      "execution_count": 261,
      "outputs": []
    },
    {
      "cell_type": "code",
      "source": [
        "proccessed_test_data_no_null_x, _, _ = pre_proccess_data(test_data_x, None, classifier_mode=False)"
      ],
      "metadata": {
        "id": "4xEqftbJzWRU"
      },
      "execution_count": 262,
      "outputs": []
    },
    {
      "cell_type": "code",
      "source": [
        "proccessed_test_data_only_cancelled = proccessed_test_data_no_null_x[cancelled]"
      ],
      "metadata": {
        "id": "I__gC5zMzf3F"
      },
      "execution_count": 263,
      "outputs": []
    },
    {
      "cell_type": "code",
      "source": [
        "predicted_days_before_to_cancel = regressor.predict(proccessed_test_data_only_cancelled)"
      ],
      "metadata": {
        "id": "lj16Pidc1Gfw"
      },
      "execution_count": 264,
      "outputs": []
    },
    {
      "cell_type": "code",
      "source": [
        "from datetime import timedelta\n",
        "time_deltas = np.array([timedelta(days=float(x)) for x in predicted_days_before_to_cancel])"
      ],
      "metadata": {
        "id": "0HJ4feA11hgj"
      },
      "execution_count": 265,
      "outputs": []
    },
    {
      "cell_type": "code",
      "source": [
        "checkin_dates = test_data_x[cancelled][\"checkin_date\"]"
      ],
      "metadata": {
        "id": "DRsay-Qn3ndN"
      },
      "execution_count": 266,
      "outputs": []
    },
    {
      "cell_type": "code",
      "source": [
        "final_times = pd.to_datetime(checkin_dates) - time_deltas"
      ],
      "metadata": {
        "id": "p4jvg1952fKC",
        "colab": {
          "base_uri": "https://localhost:8080/"
        },
        "outputId": "3ad1422a-d2cc-467c-b719-768f04ff3910"
      },
      "execution_count": 267,
      "outputs": [
        {
          "output_type": "stream",
          "name": "stderr",
          "text": [
            "/usr/local/lib/python3.7/dist-packages/pandas/core/arrays/datetimelike.py:1190: PerformanceWarning: Adding/subtracting object-dtype array to DatetimeArray not vectorized\n",
            "  PerformanceWarning,\n"
          ]
        }
      ]
    },
    {
      "cell_type": "code",
      "source": [
        "pd.set_option('display.max_rows', None)\n",
        "final_answer_no_non_cancels = (datetime(2018, 12, 13, 0, 0, 0) >= final_times) & (final_times >= datetime(2018, 12, 7, 0, 0, 0))\n",
        "final_answer_no_non_cancels = np.where(final_answer_no_non_cancels)\n",
        "# 2018-12-07 and 2018-12-13"
      ],
      "metadata": {
        "id": "P08Cub7V39hq"
      },
      "execution_count": 268,
      "outputs": []
    },
    {
      "cell_type": "code",
      "source": [
        "final_answer_no_non_cancels"
      ],
      "metadata": {
        "colab": {
          "base_uri": "https://localhost:8080/"
        },
        "id": "jLsZF36U_r21",
        "outputId": "67430fc1-d975-4b69-b81f-e737f49d27c9"
      },
      "execution_count": 269,
      "outputs": [
        {
          "output_type": "execute_result",
          "data": {
            "text/plain": [
              "(array([  2,  13,  30,  42,  52,  54,  65,  66,  73,  78,  79,  82,  92,\n",
              "        111, 114, 123, 130, 131, 139, 151, 154, 155, 158, 160, 170, 176,\n",
              "        179, 183, 184, 196, 201, 203, 212, 218, 222, 223, 230, 237, 242,\n",
              "        243, 250, 257, 271, 274, 275, 280, 294, 303, 318, 321, 326, 329,\n",
              "        335, 337, 349, 359, 368, 377, 381, 386, 391, 392, 395, 401, 405,\n",
              "        406, 417, 425, 430, 435, 445, 450, 451, 458, 467, 472, 490, 500,\n",
              "        508, 513, 517, 519, 524, 533, 551, 553, 554, 556, 563, 567, 568,\n",
              "        573, 577, 587, 588, 609, 613, 616, 618, 620, 621, 625, 626, 631,\n",
              "        637, 649, 655, 659, 662, 673, 681, 684]),)"
            ]
          },
          "metadata": {},
          "execution_count": 269
        }
      ]
    },
    {
      "cell_type": "code",
      "source": [
        "final_answer = np.zeros(test_data_x.shape[0])"
      ],
      "metadata": {
        "id": "6j5Ji6Y8-0LF"
      },
      "execution_count": 270,
      "outputs": []
    },
    {
      "cell_type": "code",
      "source": [
        "final_answer[final_answer_no_non_cancels] = True"
      ],
      "metadata": {
        "id": "xZRpY3TZAcRN"
      },
      "execution_count": 271,
      "outputs": []
    },
    {
      "cell_type": "code",
      "source": [
        "total_test = test_data_x.copy()\n",
        "total_test[\"label\"] = test_data_y[\"cancel\"]\n",
        "total_test[\"prediction\"] = final_answer"
      ],
      "metadata": {
        "id": "g-5PSSXQ_y9Q"
      },
      "execution_count": 272,
      "outputs": []
    },
    {
      "cell_type": "code",
      "source": [
        "pd.set_option('display.max_columns', None)\n",
        "pd.set_option('display.max_rows', None)\n",
        "total_test[[\"label\", \"prediction\"]]"
      ],
      "metadata": {
        "id": "mgziho_3BhOK"
      },
      "execution_count": null,
      "outputs": []
    },
    {
      "cell_type": "code",
      "source": [
        "print(sklearn.metrics.precision_score(test_data_y[\"cancel\"], final_answer))\n",
        "print(sklearn.metrics.accuracy_score(test_data_y[\"cancel\"], final_answer))"
      ],
      "metadata": {
        "colab": {
          "base_uri": "https://localhost:8080/"
        },
        "id": "UC0e6dOEBybv",
        "outputId": "f8602448-ba08-4cbe-b7c8-0a16a12090d3"
      },
      "execution_count": 274,
      "outputs": [
        {
          "output_type": "stream",
          "name": "stdout",
          "text": [
            "0.008928571428571428\n",
            "0.8171428571428572\n"
          ]
        }
      ]
    },
    {
      "cell_type": "code",
      "source": [
        "roc_curve(test_data_y[\"cancel\"], final_answer)"
      ],
      "metadata": {
        "colab": {
          "base_uri": "https://localhost:8080/",
          "height": 296
        },
        "id": "UTWZNAYzDwUR",
        "outputId": "91e845f8-9a7d-407b-95c1-bcada3a5a272"
      },
      "execution_count": 275,
      "outputs": [
        {
          "output_type": "display_data",
          "data": {
            "text/plain": [
              "<Figure size 432x288 with 1 Axes>"
            ],
            "image/png": "[encoded data removed]"
          },
          "metadata": {
            "needs_background": "light"
          }
        },
        {
          "output_type": "execute_result",
          "data": {
            "text/plain": [
              "0.4463994786575432"
            ]
          },
          "metadata": {},
          "execution_count": 275
        }
      ]
    },
    {
      "cell_type": "code",
      "source": [
        "evaluate_and_export(final_answer, \"212554026\")"
      ],
      "metadata": {
        "id": "z8XFwc9fEC0Z"
      },
      "execution_count": 276,
      "outputs": []
    }
  ]
}
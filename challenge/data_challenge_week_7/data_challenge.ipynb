{
  "nbformat": 4,
  "nbformat_minor": 0,
  "metadata": {
    "colab": {
      "name": "data_challenge.ipynb",
      "provenance": [],
      "collapsed_sections": [
        "w3CpKFeRcYj9",
        "50YXyljYjUzx",
        "5dsgoef5jg8D",
        "4nZf6VjojaqU",
        "YORbRqlvRjHU",
        "jqh9Z8Jix3tX",
        "ElogxZK3mteD",
        "uzKILwOBCyAn",
        "oAIvjPeaIEa-",
        "-q6e0qI1I8EL",
        "uccOo-KNLhg-",
        "eFlqcTwJRo8w",
        "2exlzTjy9ys9",
        "_mIjD5j10MoR",
        "_g5FRbHw-NL6",
        "ZcOmcbyoAEoE",
        "j4k_VnrFOnni",
        "ZYvo96-COnnp",
        "rpZSACDO2jPM",
        "4u5c6CWC2jPS",
        "CSBUQby2zNhR",
        "5TnuczABAg3v",
        "5kj81NPfAm9X",
        "Uo18Ed2JA62s"
      ]
    },
    "kernelspec": {
      "name": "python3",
      "display_name": "Python 3"
    },
    "language_info": {
      "name": "python"
    }
  },
  "cells": [
    {
      "cell_type": "markdown",
      "source": [
        ".env:\n",
        "  - defaults\n",
        "dependencies:\n",
        "  - nb_conda_kernels\n",
        "  - pandas\n",
        "  - scipy\n",
        "  - plotly\n",
        "  - psutil\n",
        "  - nb_conda\n",
        "  - requests\n",
        "  - numpy\n",
        "  - scikit-learn\n",
        "  - python=3.7\n",
        "  - plotly-orca\n",
        "  - statsmodels\n",
        "  - pip\n",
        "  - pip:\n",
        "    - gif==3.0.0\n",
        "    - kaleido==0.2.1\n",
        "    - pillow==8.1.2"
      ],
      "metadata": {
        "id": "fBplUSR6yVab"
      }
    },
    {
      "cell_type": "markdown",
      "source": [
        "# Utils"
      ],
      "metadata": {
        "id": "w3CpKFeRcYj9"
      }
    },
    {
      "cell_type": "code",
      "source": [
        "def get_statistics(y_pred, y_true, printing=True):\n",
        "  precision_score = sklearn.metrics.precision_score(y_pred, y_true)\n",
        "  accuracy_score = sklearn.metrics.accuracy_score(y_pred, y_true)\n",
        "  fpr, tpr, thresholds = sklearn.metrics.roc_curve(y_pred, y_true, pos_label=1)\n",
        "  roc_auc = sklearn.metrics.auc(fpr, tpr)\n",
        "  mse = sklearn.metrics.mean_squared_error(y_pred, y_true)\n",
        "  if printing:\n",
        "    print(f\"\"\"Accuracy Score: {accuracy_score}\n",
        "Precision Score: {precision_score}\n",
        "MSE: {mse}\n",
        "ROC_AUC: {roc_auc}\"\"\")\n",
        "  return accuracy_score, precision_score, mse, roc_auc\n"
      ],
      "metadata": {
        "id": "5RcXUEXXtS9C"
      },
      "execution_count": 1,
      "outputs": []
    },
    {
      "cell_type": "code",
      "source": [
        "import matplotlib.pyplot as plt\n",
        "import pandas as pd\n",
        "import sklearn\n",
        "\n",
        "def roc_curve(y_pred, y_true, pos_label=1, showing=True):\n",
        "  fpr, tpr, thresholds = sklearn.metrics.roc_curve(y_pred, y_true, pos_label=pos_label)\n",
        "  roc_auc = sklearn.metrics.auc(fpr, tpr)\n",
        "  if not showing:\n",
        "    return roc_auc\n",
        "  display = sklearn.metrics.RocCurveDisplay(fpr=fpr, tpr=tpr, roc_auc=roc_auc, estimator_name='roc_curve')\n",
        "  display.plot()\n",
        "  plt.show()\n",
        "  return roc_auc\n"
      ],
      "metadata": {
        "id": "lkKQav-TgKrF"
      },
      "execution_count": 2,
      "outputs": []
    },
    {
      "cell_type": "code",
      "source": [
        "import pandas as pd\n",
        "def parse_cancellation_policy(row):\n",
        "  policy, cost_per_night, total_cost = row[\"cancellation_policy_code\"], row[\"original_selling_amount_usd\"]/row[\"stay_length_days\"], row[\"original_selling_amount_usd\"]\n",
        "  price_row = pd.Series([0,0,0,0,0,0,0,0,0,0,0,0], index=[-100,-80,-60,-40,-30,-20,-10,-5,-3,-1,0,1])\n",
        "  rules = policy.split(\"_\")\n",
        "  if policy!=\"UNKNOWN\":\n",
        "    for rule in rules:\n",
        "      days = 1\n",
        "      if \"D\" in rule:\n",
        "        days = -int(rule.split(\"D\")[0])\n",
        "        price = rule.split(\"D\")[1]\n",
        "      else:\n",
        "        price=rule\n",
        "      if \"P\" in price:\n",
        "        price_usd = total_cost * int(price.replace(\"P\", \"\")) / 100.0\n",
        "      elif \"N\" in price:\n",
        "        price_usd = cost_per_night * int(price.replace(\"N\", \"\"))\n",
        "      price_row.loc[price_row.index >= days] = price_usd\n",
        "      # ret_val[\"cost\"][ret_val[\"day\"] >= days] = price_usd\n",
        "  else:\n",
        "    price_row.loc[:] = total_cost\n",
        "  row = pd.concat([row, price_row.add_prefix(\"cancellation_price_\").add_suffix(\"_days\")])\n",
        "  return row"
      ],
      "metadata": {
        "id": "r3HIsh5mPE9_"
      },
      "execution_count": 3,
      "outputs": []
    },
    {
      "cell_type": "code",
      "source": [
        "import matplotlib.pyplot as plt\n",
        "import numpy as np\n",
        "\n",
        "def plot_grid_search(cv_results, grid_param_1, grid_param_2, name_param_1, name_param_2):\n",
        "    # Get Test Scores Mean and std for each grid search\n",
        "    scores_mean = cv_results['mean_test_score']\n",
        "    scores_mean = np.array(scores_mean).reshape(len(grid_param_2),len(grid_param_1))\n",
        "\n",
        "    scores_sd = cv_results['std_test_score']\n",
        "    scores_sd = np.array(scores_sd).reshape(len(grid_param_2),len(grid_param_1))\n",
        "\n",
        "    # Plot Grid search scores\n",
        "    _, ax = plt.subplots(1,1)\n",
        "\n",
        "    # Param1 is the X-axis, Param 2 is represented as a different curve (color line)\n",
        "    for idx, val in enumerate(grid_param_2):\n",
        "        ax.plot(grid_param_1, scores_mean[idx,:], '-o', label= name_param_2 + ': ' + str(val))\n",
        "\n",
        "    ax.set_title(\"Grid Search Scores\", fontsize=20, fontweight='bold')\n",
        "    ax.set_xlabel(name_param_1, fontsize=16)\n",
        "    ax.set_ylabel('CV Average Score', fontsize=16)\n",
        "    ax.legend(loc=\"best\", fontsize=15)\n",
        "    ax.grid('on')"
      ],
      "metadata": {
        "id": "Z12PhFVDa0rQ"
      },
      "execution_count": 4,
      "outputs": []
    },
    {
      "cell_type": "markdown",
      "source": [
        "# Setup"
      ],
      "metadata": {
        "id": "50YXyljYjUzx"
      }
    },
    {
      "cell_type": "code",
      "source": [
        "\"\"\"\n",
        "The following file contains base classes for all estimators.\n",
        "Class design and part of the code is taken and/or influenced\n",
        "by the Python scikit-learn package, and specifically the\n",
        "BaseEstimator.py file\n",
        "\n",
        "# Author: Gilad Green <iml@mail.huji.ac.il>\n",
        "# License: BSD 3 clause\n",
        "\"\"\"\n",
        "from __future__ import annotations\n",
        "from abc import ABC, abstractmethod\n",
        "from typing import NoReturn\n",
        "import numpy as np\n",
        "import pandas as pd\n",
        "import sklearn\n",
        "\n",
        "class BaseEstimator(ABC):\n",
        "    \"\"\"\n",
        "    Base class of supervised estimators (classifiers and regressors)\n",
        "    \"\"\"\n",
        "\n",
        "    def __init__(self) -> BaseEstimator:\n",
        "        \"\"\"\n",
        "        Initialize a supervised estimator instance\n",
        "\n",
        "        Attributes\n",
        "        ----------\n",
        "        fitted_ : bool\n",
        "            Indicates if estimator has been fitted. Set by ``self.fit`` function\n",
        "        \"\"\"\n",
        "        self.fitted_ = False\n",
        "\n",
        "    def fit(self, X: np.ndarray, y: np.ndarray) -> BaseEstimator:\n",
        "        \"\"\"\n",
        "        Fit estimator for given input samples and responses\n",
        "\n",
        "        Parameters\n",
        "        ----------\n",
        "        X : ndarray of shape (n_samples, n_features)\n",
        "            Input data to fit an estimator for\n",
        "        y : ndarray of shape (n_samples, )\n",
        "            Responses of input data to fit to\n",
        "\n",
        "        Returns\n",
        "        -------\n",
        "        self : returns an instance of self.\n",
        "\n",
        "        Notes\n",
        "        -----\n",
        "        After fitting sets ``self.fitted_`` attribute to `True`\n",
        "        \"\"\"\n",
        "        self._fit(X, y)\n",
        "        self.fitted_ = True\n",
        "        return self\n",
        "\n",
        "    def predict(self, X: np.ndarray) -> np.ndarray:\n",
        "        \"\"\"\n",
        "        Predict responses for given samples using fitted estimator\n",
        "\n",
        "        Parameters\n",
        "        ----------\n",
        "        X : ndarray of shape (n_samples, n_features)\n",
        "            Input data to predict responses for\n",
        "\n",
        "        Returns\n",
        "        -------\n",
        "        responses : ndarray of shape (n_samples, )\n",
        "            Predicted responses of given samples\n",
        "\n",
        "        Raises\n",
        "        ------\n",
        "        ValueError is raised if ``self.predict`` was called before calling ``self.fit``\n",
        "        \"\"\"\n",
        "        if not self.fitted_:\n",
        "            raise ValueError(\"Estimator must first be fitted before calling ``predict``\")\n",
        "        return self._predict(X)\n",
        "\n",
        "    def loss(self, X: np.ndarray, y: np.ndarray) -> float:\n",
        "        \"\"\"\n",
        "        Evaluate performance under loss function specified for estimator\n",
        "\n",
        "        Parameters\n",
        "        ----------\n",
        "        X : ndarray of shape (n_samples, n_features)\n",
        "            Test samples\n",
        "\n",
        "        y : ndarray of shape (n_samples, )\n",
        "            True labels of test samples\n",
        "\n",
        "        Returns\n",
        "        -------\n",
        "        loss : float\n",
        "            Performance under loss function specified for estimator\n",
        "\n",
        "        Raises\n",
        "        ------\n",
        "        ValueError is raised if ``self.loss`` was called before calling ``self.fit``\n",
        "        \"\"\"\n",
        "        if not self.fitted_:\n",
        "            raise ValueError(\"Estimator must first be fitted before calling ``loss``\")\n",
        "        return self._loss(X, y)\n",
        "\n",
        "    @abstractmethod\n",
        "    def _fit(self, X: np.ndarray, y: np.ndarray) -> NoReturn:\n",
        "        \"\"\"\n",
        "        Fit estimator for given input samples and responses\n",
        "\n",
        "        Parameters\n",
        "        ----------\n",
        "        X : ndarray of shape (n_samples, n_features)\n",
        "            Input data to fit an estimator for\n",
        "\n",
        "        y : ndarray of shape (n_samples, )\n",
        "            Responses of input data to fit to\n",
        "        \"\"\"\n",
        "        raise NotImplementedError()\n",
        "\n",
        "    @abstractmethod\n",
        "    def _predict(self, X: np.ndarray) -> np.ndarray:\n",
        "        \"\"\"\n",
        "        Predict responses for given samples using fitted estimator\n",
        "\n",
        "        Parameters\n",
        "        ----------\n",
        "        X : ndarray of shape (n_samples, n_features)\n",
        "            Input data to predict responses for\n",
        "\n",
        "        Returns\n",
        "        -------\n",
        "        responses : ndarray of shape (n_samples, )\n",
        "            Predicted responses of given samples\n",
        "        \"\"\"\n",
        "        raise NotImplementedError()\n",
        "\n",
        "    @abstractmethod\n",
        "    def _loss(self, X: np.ndarray, y: np.ndarray) -> float:\n",
        "        \"\"\"\n",
        "        Evaluate performance under loss function specified for estimator\n",
        "\n",
        "        Parameters\n",
        "        ----------\n",
        "        X : ndarray of shape (n_samples, n_features)\n",
        "            Test samples\n",
        "\n",
        "        y : ndarray of shape (n_samples, )\n",
        "            True labels of test samples\n",
        "\n",
        "        Returns\n",
        "        -------\n",
        "        loss : float\n",
        "            Performance under loss function specified for estimator\n",
        "        \"\"\"\n",
        "        raise NotImplementedError()\n",
        "\n",
        "    def fit_predict(self, X: np.ndarray, y: np.ndarray) -> np.ndarray:\n",
        "        \"\"\"\n",
        "        Fit an estimator over given input data and predict responses for given samples\n",
        "\n",
        "        Parameters\n",
        "        ----------\n",
        "        X : ndarray of shape (n_samples, n_features)\n",
        "            Input data to fit an estimator for\n",
        "\n",
        "        y : ndarray of shape (n_samples, )\n",
        "            Responses of input data to fit to\n",
        "\n",
        "        Returns\n",
        "        -------\n",
        "        responses : ndarray of shape (n_samples, )\n",
        "            Predicted responses of given samples\n",
        "        \"\"\"\n",
        "        self.fit(X, y)\n",
        "        return self.predict(X)\n"
      ],
      "metadata": {
        "id": "uzvvIwCBi_bW"
      },
      "execution_count": 5,
      "outputs": []
    },
    {
      "cell_type": "markdown",
      "source": [
        "# Model"
      ],
      "metadata": {
        "id": "5dsgoef5jg8D"
      }
    },
    {
      "cell_type": "code",
      "execution_count": 6,
      "metadata": {
        "id": "H18CYcUAi1aE"
      },
      "outputs": [],
      "source": [
        "from __future__ import annotations\n",
        "from typing import NoReturn\n",
        "import numpy as np\n",
        "from sklearn import svm\n",
        "\n",
        "class AgodaCancellationEstimator(BaseEstimator):\n",
        "    \"\"\"\n",
        "    An estimator for solving the Agoda Cancellation challenge\n",
        "    \"\"\"\n",
        "\n",
        "    def __init__(self):\n",
        "        \"\"\"\n",
        "        Instantiate an estimator for solving the Agoda Cancellation challenge\n",
        "\n",
        "        Parameters\n",
        "        ----------\n",
        "\n",
        "\n",
        "        Attributes\n",
        "        ----------\n",
        "\n",
        "        \"\"\"\n",
        "        super().__init__()\n",
        "        self.clf = svm.SVC(gamma=0.01, C=1000.)\n",
        "\n",
        "    def _fit(self, X: np.ndarray, y: np.ndarray) -> NoReturn:\n",
        "        \"\"\"\n",
        "        Fit an estimator for given samples\n",
        "\n",
        "        Parameters\n",
        "        ----------\n",
        "        X : ndarray of shape (n_samples, n_features)\n",
        "            Input data to fit an estimator for\n",
        "\n",
        "        y : ndarray of shape (n_samples, )\n",
        "            Responses of input data to fit to\n",
        "\n",
        "        Notes\n",
        "        -----\n",
        "\n",
        "        \"\"\"\n",
        "        self.clf.fit(X,y)\n",
        "\n",
        "    def _predict(self, X: np.ndarray) -> np.ndarray:\n",
        "        \"\"\"\n",
        "        Predict responses for given samples using fitted estimator\n",
        "\n",
        "        Parameters\n",
        "        ----------\n",
        "        X : ndarray of shape (n_samples, n_features)\n",
        "            Input data to predict responses for\n",
        "\n",
        "        Returns\n",
        "        -------\n",
        "        responses : ndarray of shape (n_samples, )\n",
        "            Predicted responses of given samples\n",
        "        \"\"\"\n",
        "        return self.clf.predict(X)\n",
        "\n",
        "    def _loss(self, X: np.ndarray, y: np.ndarray) -> float:\n",
        "        \"\"\"\n",
        "        Evaluate performance under loss function\n",
        "\n",
        "        Parameters\n",
        "        ----------\n",
        "        X : ndarray of shape (n_samples, n_features)\n",
        "            Test samples\n",
        "\n",
        "        y : ndarray of shape (n_samples, )\n",
        "            True labels of test samples\n",
        "\n",
        "        Returns\n",
        "        -------\n",
        "        loss : float\n",
        "            Performance under loss function\n",
        "        \"\"\"\n",
        "        pass\n"
      ]
    },
    {
      "cell_type": "markdown",
      "source": [
        "# Data Preproccessing"
      ],
      "metadata": {
        "id": "4nZf6VjojaqU"
      }
    },
    {
      "cell_type": "code",
      "source": [
        "dummy_dict = dict()"
      ],
      "metadata": {
        "id": "GDVTK8LC5QZB"
      },
      "execution_count": 7,
      "outputs": []
    },
    {
      "cell_type": "code",
      "source": [
        "import numpy as np\n",
        "import pandas as pd\n",
        "from sklearn.model_selection import train_test_split\n",
        "from datetime import date\n",
        "from datetime import datetime\n",
        "\n",
        "\n",
        "\n",
        "def add_one_hot_encoding_of_column(features: pd.DataFrame, feature_name: str):\n",
        "    column_dummies = pd.get_dummies(features[feature_name], prefix=feature_name).apply(pd.Series)\n",
        "    if not feature_name in dummy_dict:\n",
        "      dummy_dict[feature_name] = column_dummies.columns\n",
        "    column_dummies = column_dummies.T.reindex(dummy_dict[feature_name]).T.fillna(0)\n",
        "    return pd.concat([features.drop(columns=feature_name), column_dummies], axis=1)\n",
        "\n",
        "DATETIME_FORMAT = \"%Y-%m-%d %H:%M:%S\"\n",
        "\n",
        "def load_data(filename: str, classifier_mode=True):\n",
        "    \"\"\"\n",
        "    Load Agoda booking cancellation dataset\n",
        "    Parameters\n",
        "    ----------\n",
        "    filename: str\n",
        "        Path to house prices dataset\n",
        "\n",
        "    Returns\n",
        "    -------\n",
        "    Design matrix and response vector in either of the following formats:\n",
        "    1) Single dataframe with last column representing the response\n",
        "    2) Tuple of pandas.DataFrame and Series\n",
        "    3) Tuple of ndarray of shape (n_samples, n_features) and ndarray of shape (n_samples,)\n",
        "    \"\"\"\n",
        "    # TODO - replace below code with any desired preprocessing\n",
        "    full_data = pd.read_csv(filename).drop_duplicates()\n",
        "\n",
        "    # features = full_data[[\"h_booking_id\",\n",
        "    #                       \"hotel_id\",\n",
        "    #                       \"accommadation_type_name\",\n",
        "    #                       \"hotel_star_rating\",\n",
        "    #                       \"customer_nationality\"]]\n",
        "    if not classifier_mode:\n",
        "      full_data = full_data.dropna()\n",
        "    labels = full_data[\"cancellation_datetime\"]\n",
        "    features = full_data\n",
        "    return features, labels\n",
        "  \n",
        "\n",
        "def pre_proccess_data(features, labels, classifier_mode=True):\n",
        "    features = features.fillna(0)\n",
        "    if \"cancellation_datetime\" in features:\n",
        "      del features[\"cancellation_datetime\"]\n",
        "    del features[\"h_booking_id\"]\n",
        "    del features[\"hotel_id\"]\n",
        "    del features[\"h_customer_id\"]\n",
        "    # del features[\"customer_nationality\"] # related to many other columns\n",
        "    features = add_one_hot_encoding_of_column(features, \"customer_nationality\")\n",
        "    del features[\"hotel_area_code\"] # could be usful\n",
        "    del features[\"hotel_brand_code\"] # ^\n",
        "    del features[\"hotel_chain_code\"] # ^\n",
        "    del features[\"hotel_city_code\"] # ^\n",
        "    del features[\"language\"] # requires further analysis perhaps\n",
        "    features = add_one_hot_encoding_of_column(features, \"guest_nationality_country_name\") # also could be useful\n",
        "    features[\"is_first_booking\"] = features[\"is_first_booking\"].astype(float)\n",
        "    features[\"is_user_logged_in\"] = features[\"is_user_logged_in\"].astype(float)\n",
        "    features = add_one_hot_encoding_of_column(features, \"original_payment_type\")\n",
        "    features = add_one_hot_encoding_of_column(features, \"hotel_country_code\")\n",
        "    features = add_one_hot_encoding_of_column(features, \"charge_option\")\n",
        "    features = add_one_hot_encoding_of_column(features, \"original_payment_method\")\n",
        "    features = add_one_hot_encoding_of_column(features, \"accommadation_type_name\")\n",
        "    features = add_one_hot_encoding_of_column(features, \"origin_country_code\")\n",
        "    features[\"stay_length_days\"] = (pd.to_datetime(features[\"checkout_date\"]) - pd.to_datetime(features[\"checkin_date\"])).dt.days\n",
        "    features[\"booking_to_checkin_days\"] = (pd.to_datetime(features[\"checkin_date\"]) - pd.to_datetime(features[\"booking_datetime\"])).dt.days\n",
        "    features[\"booking_to_checkout_days\"] = (pd.to_datetime(features[\"checkout_date\"]) - pd.to_datetime(features[\"booking_datetime\"])).dt.days\n",
        "    features[\"hotel_live_year\"] = (pd.to_datetime(features[\"booking_datetime\"]) - pd.to_datetime(features[\"hotel_live_date\"])).dt.days / 365\n",
        "    # currency conversion to USD\n",
        "    features['original_selling_amount_usd'] = features['original_selling_amount']\n",
        "    del features['original_payment_currency']\n",
        "    del features['original_selling_amount']\n",
        "    # t = c.convert(100, 'USD', 'BGN', date=date(2010, 11, 21)) - possible to do according to timestamp\n",
        "\n",
        "    my_labels = None\n",
        "\n",
        "    # change labels to contain delta time checkin - cancelled\n",
        "    if labels is not None:\n",
        "      my_labels = (pd.to_datetime(features['checkin_date']) - pd.to_datetime(labels)).apply(lambda x: x.days)\n",
        "\n",
        "    if classifier_mode and labels is not None:\n",
        "      my_labels = my_labels.apply(lambda x: 1 if np.all(pd.notnull([x])) else 0)\n",
        "\n",
        "    # can possibly turn into seconds amounts for mathimatical fitting\n",
        "    features[\"order_hour\"] = pd.to_datetime(features[\"booking_datetime\"]).dt.hour\n",
        "    del features[\"booking_datetime\"]\n",
        "    del features[\"checkin_date\"]\n",
        "    del features[\"checkout_date\"]\n",
        "    del features[\"hotel_live_date\"]\n",
        "\n",
        "    # cancellation_policy_code needs to be treated but removed for now\n",
        "    features = features.apply(parse_cancellation_policy, axis=1)\n",
        "    # features = features.apply(preprocess_policy, axis=1)\n",
        "    del features[\"cancellation_policy_code\"]\n",
        "\n",
        "    return features, my_labels, labels"
      ],
      "metadata": {
        "id": "kq0tHKTJi-g5"
      },
      "execution_count": 8,
      "outputs": []
    },
    {
      "cell_type": "code",
      "source": [
        "features_no_null, labels_no_null = load_data(\"/content/drive/MyDrive/data challenge/agoda_cancellation_train.csv\", classifier_mode=False)\n",
        "features_with_null, labels_with_null = load_data(\"/content/drive/MyDrive/data challenge/agoda_cancellation_train.csv\", classifier_mode=True)\n",
        "\n",
        "df_with_null, cancellation_labels_with_null, true_labels_with_null = pre_proccess_data(features_with_null, labels_with_null, classifier_mode=True)\n",
        "df_no_null, cancellation_labels_no_null, true_labels_no_null = pre_proccess_data(features_no_null, labels_no_null, classifier_mode=False)"
      ],
      "metadata": {
        "id": "o5DWLISxrk2b"
      },
      "execution_count": 9,
      "outputs": []
    },
    {
      "cell_type": "code",
      "source": [
        "NULL_LABEL_AMOUNT = 0\n",
        "fixed_labels = cancellation_labels_with_null.head(NULL_LABEL_AMOUNT)\n",
        "fixed_labels = fixed_labels.where(fixed_labels == 0).dropna()\n",
        "fixed_labels.apply(lambda x: 0)\n",
        "df_small_null = df_no_null.append(df_with_null.head(NULL_LABEL_AMOUNT).where(fixed_labels == 0).dropna(), ignore_index = False)\n",
        "cancellation_labels_small_null = cancellation_labels_no_null.append(fixed_labels, ignore_index = False)"
      ],
      "metadata": {
        "id": "j7Bdg4-0gdlN"
      },
      "execution_count": 10,
      "outputs": []
    },
    {
      "cell_type": "markdown",
      "source": [
        "# Classifier"
      ],
      "metadata": {
        "id": "YORbRqlvRjHU"
      }
    },
    {
      "cell_type": "markdown",
      "source": [
        "## Fitting Classifier #1 (GradientBoostedClassifier) (using for classification but actually using threshold = 0 so not really using..)"
      ],
      "metadata": {
        "id": "jqh9Z8Jix3tX"
      }
    },
    {
      "cell_type": "code",
      "source": [
        "np.random.seed(0)\n",
        "train_X, test_X, train_y , test_y = train_test_split(df_with_null, cancellation_labels_with_null)\n",
        "\n",
        "from sklearn.ensemble import GradientBoostingRegressor, GradientBoostingClassifier\n",
        "from sklearn.model_selection import GridSearchCV\n",
        "classifier = GradientBoostingClassifier(n_estimators=300, subsample=0.5, min_samples_leaf=1, learning_rate = 0.01, max_depth=3, verbose=1).fit(train_X, train_y)"
      ],
      "metadata": {
        "colab": {
          "base_uri": "https://localhost:8080/"
        },
        "id": "IwYVPIGd9kCm",
        "outputId": "c6a09c2f-ae1d-4f51-bd36-e74b800de32b"
      },
      "execution_count": 43,
      "outputs": [
        {
          "output_type": "stream",
          "name": "stdout",
          "text": [
            "      Iter       Train Loss      OOB Improve   Remaining Time \n",
            "         1           1.1623           0.0052            1.56m\n",
            "         2           1.1572           0.0051            1.56m\n",
            "         3           1.1468           0.0049            1.55m\n",
            "         4           1.1406           0.0048            1.56m\n",
            "         5           1.1390           0.0047            1.55m\n",
            "         6           1.1342           0.0046            1.54m\n",
            "         7           1.1280           0.0045            1.53m\n",
            "         8           1.1276           0.0044            1.52m\n",
            "         9           1.1179           0.0044            1.52m\n",
            "        10           1.1179           0.0043            1.51m\n",
            "        20           1.0874           0.0035            1.45m\n",
            "        30           1.0546           0.0029            1.39m\n",
            "        40           1.0231           0.0024            1.34m\n",
            "        50           1.0054           0.0018            1.29m\n",
            "        60           0.9804           0.0018            1.23m\n",
            "        70           0.9752           0.0013            1.18m\n",
            "        80           0.9523           0.0015            1.13m\n",
            "        90           0.9465           0.0013            1.08m\n",
            "       100           0.9307           0.0011            1.03m\n",
            "       200           0.8702           0.0002           30.91s\n",
            "       300           0.8462           0.0002            0.00s\n"
          ]
        }
      ]
    },
    {
      "cell_type": "code",
      "source": [
        "classifier.feature_importances_\n",
        "\n",
        "classifier_coefs = pd.DataFrame(\n",
        "   classifier.feature_importances_,\n",
        "   columns=['Coefficients'], index=train_X.columns\n",
        ")"
      ],
      "metadata": {
        "id": "wjLH03M5CSE8"
      },
      "execution_count": 44,
      "outputs": []
    },
    {
      "cell_type": "code",
      "source": [
        "classifier_coefs.sort_values(by=\"Coefficients\", ascending=False).head(40)"
      ],
      "metadata": {
        "id": "f-Y1ejI4C9eE",
        "colab": {
          "base_uri": "https://localhost:8080/",
          "height": 0
        },
        "outputId": "30db8443-86c3-45a4-80a1-279c8082b835"
      },
      "execution_count": 45,
      "outputs": [
        {
          "output_type": "execute_result",
          "data": {
            "text/plain": [
              "                                            Coefficients\n",
              "charge_option_Pay Now                           0.397217\n",
              "booking_to_checkout_days                        0.190431\n",
              "cancellation_price_-100_days                    0.059148\n",
              "booking_to_checkin_days                         0.056600\n",
              "original_payment_method_UNKNOWN                 0.051135\n",
              "cancellation_price_-80_days                     0.044971\n",
              "hotel_live_year                                 0.038862\n",
              "cancellation_price_-20_days                     0.035097\n",
              "cancellation_price_-10_days                     0.026146\n",
              "cancellation_price_-60_days                     0.011359\n",
              "original_payment_type_Credit Card               0.011073\n",
              "is_user_logged_in                               0.009118\n",
              "charge_option_Pay Later                         0.008913\n",
              "cancellation_price_-3_days                      0.007264\n",
              "original_selling_amount_usd                     0.006860\n",
              "stay_length_days                                0.006291\n",
              "cancellation_price_-30_days                     0.006268\n",
              "cancellation_price_-40_days                     0.005639\n",
              "customer_nationality_South Korea                0.004612\n",
              "hotel_country_code_JP                           0.003036\n",
              "origin_country_code_KR                          0.002767\n",
              "cancellation_price_-1_days                      0.002080\n",
              "accommadation_type_name_Apartment               0.001959\n",
              "cancellation_price_1_days                       0.001775\n",
              "cancellation_price_-5_days                      0.001615\n",
              "request_largebed                                0.001510\n",
              "is_first_booking                                0.000902\n",
              "hotel_star_rating                               0.000902\n",
              "cancellation_price_0_days                       0.000638\n",
              "origin_country_code_AU                          0.000465\n",
              "origin_country_code_TR                          0.000434\n",
              "origin_country_code_MA                          0.000348\n",
              "no_of_adults                                    0.000290\n",
              "accommadation_type_name_Hostel                  0.000281\n",
              "hotel_country_code_KH                           0.000246\n",
              "guest_nationality_country_name_South Korea      0.000242\n",
              "hotel_country_code_FR                           0.000213\n",
              "customer_nationality_Angola                     0.000209\n",
              "customer_nationality_Thailand                   0.000180\n",
              "customer_nationality_Philippines                0.000171"
            ],
            "text/html": [
              "\n",
              "  <div id=\"df-2bc78a22-3d55-4f48-941d-7497e2bb3ba5\">\n",
              "    <div class=\"colab-df-container\">\n",
              "      <div>\n",
              "<style scoped>\n",
              "    .dataframe tbody tr th:only-of-type {\n",
              "        vertical-align: middle;\n",
              "    }\n",
              "\n",
              "    .dataframe tbody tr th {\n",
              "        vertical-align: top;\n",
              "    }\n",
              "\n",
              "    .dataframe thead th {\n",
              "        text-align: right;\n",
              "    }\n",
              "</style>\n",
              "<table border=\"1\" class=\"dataframe\">\n",
              "  <thead>\n",
              "    <tr style=\"text-align: right;\">\n",
              "      <th></th>\n",
              "      <th>Coefficients</th>\n",
              "    </tr>\n",
              "  </thead>\n",
              "  <tbody>\n",
              "    <tr>\n",
              "      <th>charge_option_Pay Now</th>\n",
              "      <td>0.397217</td>\n",
              "    </tr>\n",
              "    <tr>\n",
              "      <th>booking_to_checkout_days</th>\n",
              "      <td>0.190431</td>\n",
              "    </tr>\n",
              "    <tr>\n",
              "      <th>cancellation_price_-100_days</th>\n",
              "      <td>0.059148</td>\n",
              "    </tr>\n",
              "    <tr>\n",
              "      <th>booking_to_checkin_days</th>\n",
              "      <td>0.056600</td>\n",
              "    </tr>\n",
              "    <tr>\n",
              "      <th>original_payment_method_UNKNOWN</th>\n",
              "      <td>0.051135</td>\n",
              "    </tr>\n",
              "    <tr>\n",
              "      <th>cancellation_price_-80_days</th>\n",
              "      <td>0.044971</td>\n",
              "    </tr>\n",
              "    <tr>\n",
              "      <th>hotel_live_year</th>\n",
              "      <td>0.038862</td>\n",
              "    </tr>\n",
              "    <tr>\n",
              "      <th>cancellation_price_-20_days</th>\n",
              "      <td>0.035097</td>\n",
              "    </tr>\n",
              "    <tr>\n",
              "      <th>cancellation_price_-10_days</th>\n",
              "      <td>0.026146</td>\n",
              "    </tr>\n",
              "    <tr>\n",
              "      <th>cancellation_price_-60_days</th>\n",
              "      <td>0.011359</td>\n",
              "    </tr>\n",
              "    <tr>\n",
              "      <th>original_payment_type_Credit Card</th>\n",
              "      <td>0.011073</td>\n",
              "    </tr>\n",
              "    <tr>\n",
              "      <th>is_user_logged_in</th>\n",
              "      <td>0.009118</td>\n",
              "    </tr>\n",
              "    <tr>\n",
              "      <th>charge_option_Pay Later</th>\n",
              "      <td>0.008913</td>\n",
              "    </tr>\n",
              "    <tr>\n",
              "      <th>cancellation_price_-3_days</th>\n",
              "      <td>0.007264</td>\n",
              "    </tr>\n",
              "    <tr>\n",
              "      <th>original_selling_amount_usd</th>\n",
              "      <td>0.006860</td>\n",
              "    </tr>\n",
              "    <tr>\n",
              "      <th>stay_length_days</th>\n",
              "      <td>0.006291</td>\n",
              "    </tr>\n",
              "    <tr>\n",
              "      <th>cancellation_price_-30_days</th>\n",
              "      <td>0.006268</td>\n",
              "    </tr>\n",
              "    <tr>\n",
              "      <th>cancellation_price_-40_days</th>\n",
              "      <td>0.005639</td>\n",
              "    </tr>\n",
              "    <tr>\n",
              "      <th>customer_nationality_South Korea</th>\n",
              "      <td>0.004612</td>\n",
              "    </tr>\n",
              "    <tr>\n",
              "      <th>hotel_country_code_JP</th>\n",
              "      <td>0.003036</td>\n",
              "    </tr>\n",
              "    <tr>\n",
              "      <th>origin_country_code_KR</th>\n",
              "      <td>0.002767</td>\n",
              "    </tr>\n",
              "    <tr>\n",
              "      <th>cancellation_price_-1_days</th>\n",
              "      <td>0.002080</td>\n",
              "    </tr>\n",
              "    <tr>\n",
              "      <th>accommadation_type_name_Apartment</th>\n",
              "      <td>0.001959</td>\n",
              "    </tr>\n",
              "    <tr>\n",
              "      <th>cancellation_price_1_days</th>\n",
              "      <td>0.001775</td>\n",
              "    </tr>\n",
              "    <tr>\n",
              "      <th>cancellation_price_-5_days</th>\n",
              "      <td>0.001615</td>\n",
              "    </tr>\n",
              "    <tr>\n",
              "      <th>request_largebed</th>\n",
              "      <td>0.001510</td>\n",
              "    </tr>\n",
              "    <tr>\n",
              "      <th>is_first_booking</th>\n",
              "      <td>0.000902</td>\n",
              "    </tr>\n",
              "    <tr>\n",
              "      <th>hotel_star_rating</th>\n",
              "      <td>0.000902</td>\n",
              "    </tr>\n",
              "    <tr>\n",
              "      <th>cancellation_price_0_days</th>\n",
              "      <td>0.000638</td>\n",
              "    </tr>\n",
              "    <tr>\n",
              "      <th>origin_country_code_AU</th>\n",
              "      <td>0.000465</td>\n",
              "    </tr>\n",
              "    <tr>\n",
              "      <th>origin_country_code_TR</th>\n",
              "      <td>0.000434</td>\n",
              "    </tr>\n",
              "    <tr>\n",
              "      <th>origin_country_code_MA</th>\n",
              "      <td>0.000348</td>\n",
              "    </tr>\n",
              "    <tr>\n",
              "      <th>no_of_adults</th>\n",
              "      <td>0.000290</td>\n",
              "    </tr>\n",
              "    <tr>\n",
              "      <th>accommadation_type_name_Hostel</th>\n",
              "      <td>0.000281</td>\n",
              "    </tr>\n",
              "    <tr>\n",
              "      <th>hotel_country_code_KH</th>\n",
              "      <td>0.000246</td>\n",
              "    </tr>\n",
              "    <tr>\n",
              "      <th>guest_nationality_country_name_South Korea</th>\n",
              "      <td>0.000242</td>\n",
              "    </tr>\n",
              "    <tr>\n",
              "      <th>hotel_country_code_FR</th>\n",
              "      <td>0.000213</td>\n",
              "    </tr>\n",
              "    <tr>\n",
              "      <th>customer_nationality_Angola</th>\n",
              "      <td>0.000209</td>\n",
              "    </tr>\n",
              "    <tr>\n",
              "      <th>customer_nationality_Thailand</th>\n",
              "      <td>0.000180</td>\n",
              "    </tr>\n",
              "    <tr>\n",
              "      <th>customer_nationality_Philippines</th>\n",
              "      <td>0.000171</td>\n",
              "    </tr>\n",
              "  </tbody>\n",
              "</table>\n",
              "</div>\n",
              "      <button class=\"colab-df-convert\" onclick=\"convertToInteractive('df-2bc78a22-3d55-4f48-941d-7497e2bb3ba5')\"\n",
              "              title=\"Convert this dataframe to an interactive table.\"\n",
              "              style=\"display:none;\">\n",
              "        \n",
              "  <svg xmlns=\"http://www.w3.org/2000/svg\" height=\"24px\"viewBox=\"0 0 24 24\"\n",
              "       width=\"24px\">\n",
              "    <path d=\"M0 0h24v24H0V0z\" fill=\"none\"/>\n",
              "    <path d=\"M18.56 5.44l.94 2.06.94-2.06 2.06-.94-2.06-.94-.94-2.06-.94 2.06-2.06.94zm-11 1L8.5 8.5l.94-2.06 2.06-.94-2.06-.94L8.5 2.5l-.94 2.06-2.06.94zm10 10l.94 2.06.94-2.06 2.06-.94-2.06-.94-.94-2.06-.94 2.06-2.06.94z\"/><path d=\"M17.41 7.96l-1.37-1.37c-.4-.4-.92-.59-1.43-.59-.52 0-1.04.2-1.43.59L10.3 9.45l-7.72 7.72c-.78.78-.78 2.05 0 2.83L4 21.41c.39.39.9.59 1.41.59.51 0 1.02-.2 1.41-.59l7.78-7.78 2.81-2.81c.8-.78.8-2.07 0-2.86zM5.41 20L4 18.59l7.72-7.72 1.47 1.35L5.41 20z\"/>\n",
              "  </svg>\n",
              "      </button>\n",
              "      \n",
              "  <style>\n",
              "    .colab-df-container {\n",
              "      display:flex;\n",
              "      flex-wrap:wrap;\n",
              "      gap: 12px;\n",
              "    }\n",
              "\n",
              "    .colab-df-convert {\n",
              "      background-color: #E8F0FE;\n",
              "      border: none;\n",
              "      border-radius: 50%;\n",
              "      cursor: pointer;\n",
              "      display: none;\n",
              "      fill: #1967D2;\n",
              "      height: 32px;\n",
              "      padding: 0 0 0 0;\n",
              "      width: 32px;\n",
              "    }\n",
              "\n",
              "    .colab-df-convert:hover {\n",
              "      background-color: #E2EBFA;\n",
              "      box-shadow: 0px 1px 2px rgba(60, 64, 67, 0.3), 0px 1px 3px 1px rgba(60, 64, 67, 0.15);\n",
              "      fill: #174EA6;\n",
              "    }\n",
              "\n",
              "    [theme=dark] .colab-df-convert {\n",
              "      background-color: #3B4455;\n",
              "      fill: #D2E3FC;\n",
              "    }\n",
              "\n",
              "    [theme=dark] .colab-df-convert:hover {\n",
              "      background-color: #434B5C;\n",
              "      box-shadow: 0px 1px 3px 1px rgba(0, 0, 0, 0.15);\n",
              "      filter: drop-shadow(0px 1px 2px rgba(0, 0, 0, 0.3));\n",
              "      fill: #FFFFFF;\n",
              "    }\n",
              "  </style>\n",
              "\n",
              "      <script>\n",
              "        const buttonEl =\n",
              "          document.querySelector('#df-2bc78a22-3d55-4f48-941d-7497e2bb3ba5 button.colab-df-convert');\n",
              "        buttonEl.style.display =\n",
              "          google.colab.kernel.accessAllowed ? 'block' : 'none';\n",
              "\n",
              "        async function convertToInteractive(key) {\n",
              "          const element = document.querySelector('#df-2bc78a22-3d55-4f48-941d-7497e2bb3ba5');\n",
              "          const dataTable =\n",
              "            await google.colab.kernel.invokeFunction('convertToInteractive',\n",
              "                                                     [key], {});\n",
              "          if (!dataTable) return;\n",
              "\n",
              "          const docLinkHtml = 'Like what you see? Visit the ' +\n",
              "            '<a target=\"_blank\" href=https://colab.research.google.com/notebooks/data_table.ipynb>data table notebook</a>'\n",
              "            + ' to learn more about interactive tables.';\n",
              "          element.innerHTML = '';\n",
              "          dataTable['output_type'] = 'display_data';\n",
              "          await google.colab.output.renderOutput(dataTable, element);\n",
              "          const docLink = document.createElement('div');\n",
              "          docLink.innerHTML = docLinkHtml;\n",
              "          element.appendChild(docLink);\n",
              "        }\n",
              "      </script>\n",
              "    </div>\n",
              "  </div>\n",
              "  "
            ]
          },
          "metadata": {},
          "execution_count": 45
        }
      ]
    },
    {
      "cell_type": "code",
      "source": [
        "roc_curve(test_y, classifier.predict_proba(test_X)[:, 1], pos_label=1)"
      ],
      "metadata": {
        "colab": {
          "base_uri": "https://localhost:8080/",
          "height": 0
        },
        "id": "4GsNYqKrb2sg",
        "outputId": "08156e70-ccf1-4fd2-f3c8-80d59afcbd9f"
      },
      "execution_count": 46,
      "outputs": [
        {
          "output_type": "display_data",
          "data": {
            "text/plain": [
              "<Figure size 432x288 with 1 Axes>"
            ],
            "image/png": "[encoded data removed]"
          },
          "metadata": {
            "needs_background": "light"
          }
        },
        {
          "output_type": "execute_result",
          "data": {
            "text/plain": [
              "0.8435338521952321"
            ]
          },
          "metadata": {},
          "execution_count": 46
        }
      ]
    },
    {
      "cell_type": "code",
      "source": [
        "get_statistics(test_y, classifier.predict(test_X) >= 0.5)"
      ],
      "metadata": {
        "colab": {
          "base_uri": "https://localhost:8080/"
        },
        "id": "ul1ihRfktQ7w",
        "outputId": "ad08d899-1c2e-430d-c640-ff1b3a6fefa3"
      },
      "execution_count": 47,
      "outputs": [
        {
          "output_type": "stream",
          "name": "stdout",
          "text": [
            "Accuracy Score: 0.7883395840436414\n",
            "Precision Score: 0.6260677000949066\n",
            "MSE: 0.21166041595635868\n",
            "ROC_AUC: 0.6987476698225334\n"
          ]
        },
        {
          "output_type": "execute_result",
          "data": {
            "text/plain": [
              "(0.7883395840436414,\n",
              " 0.6260677000949066,\n",
              " 0.21166041595635868,\n",
              " 0.6987476698225334)"
            ]
          },
          "metadata": {},
          "execution_count": 47
        }
      ]
    },
    {
      "cell_type": "markdown",
      "source": [
        "## Hyper Params #1 (GradientBoostedClassifier)"
      ],
      "metadata": {
        "id": "ElogxZK3mteD"
      }
    },
    {
      "cell_type": "code",
      "source": [
        "max_depth = list(range(1,11))\n",
        "accuracies = []\n",
        "precisions = []\n",
        "# from sklearn.ensemble import GradientBoostingClassifier, GradientBoostingRegressor\n",
        "train_X, test_X, train_y , test_y = train_test_split(df_with_null, cancellation_labels_with_null)\n",
        "\n",
        "for i in max_depth:\n",
        "  print(f\"Max Depth {i}\")\n",
        "  estimator = xgb.XGBRegressor(n_estimators=200, learning_rate = float(i)/10, max_depth=8, verbosity=2).fit(train_X, train_y)\n",
        "  accuracy = sklearn.metrics.accuracy_score(estimator.predict(test_X), test_y)\n",
        "  precision = sklearn.metrics.precision_score(estimator.predict(test_X), test_y)\n",
        "  accuracies.append(accuracy)\n",
        "  precisions.append(precision)"
      ],
      "metadata": {
        "id": "3yve0LpyFCHa"
      },
      "execution_count": null,
      "outputs": []
    },
    {
      "cell_type": "code",
      "source": [
        "import matplotlib.pyplot as plt\n",
        "\n",
        "#accuracy\n",
        "fig, ax = plt.subplots()\n",
        "ax.plot(max_depth[:15], accuracies)\n",
        "\n",
        "ax.set(xlabel='Max Depth', ylabel='Accuracy',\n",
        "       title='Accuracy vs. Max Depth')\n",
        "ax.grid()\n",
        "\n",
        "plt.show()\n",
        "\n",
        "# precision\n",
        "fig, ax = plt.subplots()\n",
        "\n",
        "ax.set(xlabel='Max Depth', ylabel='Precision',\n",
        "       title='Precision vs. Max Depth')\n",
        "ax.grid()\n",
        "\n",
        "ax.plot(max_depth[:15], precisions)\n",
        "\n",
        "plt.show()"
      ],
      "metadata": {
        "id": "6xZJ_JdhF6yQ"
      },
      "execution_count": null,
      "outputs": []
    },
    {
      "cell_type": "markdown",
      "source": [
        "## Fitting Classifier #2 (KNN)"
      ],
      "metadata": {
        "id": "uzKILwOBCyAn"
      }
    },
    {
      "cell_type": "code",
      "source": [
        "np.random.seed(0)\n",
        "train_X, test_X, train_y , test_y = train_test_split(df_with_null, cancellation_labels_with_null)\n",
        "from sklearn.neighbors import KNeighborsClassifier\n",
        "from sklearn.model_selection import GridSearchCV\n",
        "classifier = KNeighborsClassifier(n_neighbors=100, weights=\"distance\").fit(train_X, train_y)"
      ],
      "metadata": {
        "id": "zT1lXu8EC1xw"
      },
      "execution_count": null,
      "outputs": []
    },
    {
      "cell_type": "code",
      "source": [
        "roc_curve(test_y, classifier.predict_proba(test_X)[:, 1], pos_label=1)"
      ],
      "metadata": {
        "colab": {
          "base_uri": "https://localhost:8080/",
          "height": 296
        },
        "id": "JIpG8YqHDjbS",
        "outputId": "f6aa1b3f-6afa-401a-c06d-b9d65cad8b81"
      },
      "execution_count": null,
      "outputs": [
        {
          "output_type": "display_data",
          "data": {
            "text/plain": [
              "<Figure size 432x288 with 1 Axes>"
            ],
            "image/png": "[encoded data removed]"
          },
          "metadata": {
            "needs_background": "light"
          }
        },
        {
          "output_type": "execute_result",
          "data": {
            "text/plain": [
              "0.8172642775852098"
            ]
          },
          "metadata": {},
          "execution_count": 68
        }
      ]
    },
    {
      "cell_type": "markdown",
      "source": [
        "## Hyper-Params #2 (KNN)"
      ],
      "metadata": {
        "id": "oAIvjPeaIEa-"
      }
    },
    {
      "cell_type": "code",
      "source": [
        "from sklearn.neighbors import KNeighborsRegressor\n",
        "from sklearn.model_selection import GridSearchCV\n",
        "np.random.seed(0)\n",
        "\n",
        "estimator = KNeighborsClassifier()"
      ],
      "metadata": {
        "id": "UYTgnZ7TIAuh"
      },
      "execution_count": null,
      "outputs": []
    },
    {
      "cell_type": "code",
      "source": [
        "estimator.get_params().keys()"
      ],
      "metadata": {
        "colab": {
          "base_uri": "https://localhost:8080/"
        },
        "outputId": "386bbd99-411d-40d5-e5ce-ff15d3bd85ba",
        "id": "tYFXFN2oIAuh"
      },
      "execution_count": null,
      "outputs": [
        {
          "output_type": "execute_result",
          "data": {
            "text/plain": [
              "dict_keys(['algorithm', 'leaf_size', 'metric', 'metric_params', 'n_jobs', 'n_neighbors', 'p', 'weights'])"
            ]
          },
          "metadata": {},
          "execution_count": 61
        }
      ]
    },
    {
      "cell_type": "code",
      "source": [
        "param_grid={'n_neighbors': [5,20,50,100], 'weights': ['uniform', 'distance']}\n",
        "clf = GridSearchCV(estimator, param_grid=param_grid, cv=3, verbose=3)\n",
        "clf.fit(train_X, train_y)"
      ],
      "metadata": {
        "colab": {
          "base_uri": "https://localhost:8080/"
        },
        "id": "9lVULjViIAui",
        "outputId": "229c760f-2f80-4a79-c54f-cc64d4cd0fbe"
      },
      "execution_count": null,
      "outputs": [
        {
          "output_type": "stream",
          "name": "stdout",
          "text": [
            "Fitting 3 folds for each of 8 candidates, totalling 24 fits\n",
            "[CV 1/3] END ....n_neighbors=5, weights=uniform;, score=0.758 total time=  30.9s\n",
            "[CV 2/3] END ....n_neighbors=5, weights=uniform;, score=0.760 total time=  27.2s\n",
            "[CV 3/3] END ....n_neighbors=5, weights=uniform;, score=0.754 total time=  26.1s\n",
            "[CV 1/3] END ...n_neighbors=5, weights=distance;, score=0.759 total time=  25.4s\n",
            "[CV 2/3] END ...n_neighbors=5, weights=distance;, score=0.760 total time=  29.8s\n",
            "[CV 3/3] END ...n_neighbors=5, weights=distance;, score=0.755 total time=  30.7s\n",
            "[CV 1/3] END ...n_neighbors=20, weights=uniform;, score=0.764 total time=  38.3s\n",
            "[CV 2/3] END ...n_neighbors=20, weights=uniform;, score=0.766 total time=  35.9s\n",
            "[CV 3/3] END ...n_neighbors=20, weights=uniform;, score=0.763 total time=  31.1s\n",
            "[CV 1/3] END ..n_neighbors=20, weights=distance;, score=0.768 total time=  31.6s\n",
            "[CV 2/3] END ..n_neighbors=20, weights=distance;, score=0.770 total time=  26.9s\n",
            "[CV 3/3] END ..n_neighbors=20, weights=distance;, score=0.767 total time=  26.4s\n",
            "[CV 1/3] END ...n_neighbors=50, weights=uniform;, score=0.771 total time=  26.4s\n",
            "[CV 2/3] END ...n_neighbors=50, weights=uniform;, score=0.767 total time=  27.1s\n",
            "[CV 3/3] END ...n_neighbors=50, weights=uniform;, score=0.767 total time=  29.4s\n",
            "[CV 1/3] END ..n_neighbors=50, weights=distance;, score=0.774 total time=  26.4s\n",
            "[CV 2/3] END ..n_neighbors=50, weights=distance;, score=0.772 total time=  26.8s\n",
            "[CV 3/3] END ..n_neighbors=50, weights=distance;, score=0.771 total time=  26.0s\n",
            "[CV 1/3] END ..n_neighbors=100, weights=uniform;, score=0.769 total time=  26.4s\n",
            "[CV 2/3] END ..n_neighbors=100, weights=uniform;, score=0.766 total time=  27.4s\n",
            "[CV 3/3] END ..n_neighbors=100, weights=uniform;, score=0.769 total time=  31.0s\n",
            "[CV 1/3] END .n_neighbors=100, weights=distance;, score=0.773 total time=  26.6s\n",
            "[CV 2/3] END .n_neighbors=100, weights=distance;, score=0.771 total time=  27.2s\n",
            "[CV 3/3] END .n_neighbors=100, weights=distance;, score=0.774 total time=  26.5s\n"
          ]
        },
        {
          "output_type": "execute_result",
          "data": {
            "text/plain": [
              "GridSearchCV(cv=3, estimator=KNeighborsClassifier(),\n",
              "             param_grid={'n_neighbors': [5, 20, 50, 100],\n",
              "                         'weights': ['uniform', 'distance']},\n",
              "             verbose=3)"
            ]
          },
          "metadata": {},
          "execution_count": 64
        }
      ]
    },
    {
      "cell_type": "code",
      "source": [
        "clf.best_score_"
      ],
      "metadata": {
        "colab": {
          "base_uri": "https://localhost:8080/"
        },
        "outputId": "b7709ebe-0f1e-485e-f15b-5c0171fe3300",
        "id": "ysobh6uBIAui"
      },
      "execution_count": null,
      "outputs": [
        {
          "output_type": "execute_result",
          "data": {
            "text/plain": [
              "0.7725371866576863"
            ]
          },
          "metadata": {},
          "execution_count": 65
        }
      ]
    },
    {
      "cell_type": "code",
      "source": [
        "clf.best_params_"
      ],
      "metadata": {
        "colab": {
          "base_uri": "https://localhost:8080/"
        },
        "outputId": "91373137-7cd6-48c8-904e-6ddaf740d659",
        "id": "uhfqHe4QIAui"
      },
      "execution_count": null,
      "outputs": [
        {
          "output_type": "execute_result",
          "data": {
            "text/plain": [
              "{'n_neighbors': 100, 'weights': 'distance'}"
            ]
          },
          "metadata": {},
          "execution_count": 66
        }
      ]
    },
    {
      "cell_type": "markdown",
      "source": [
        "## Fitting Classifier #3 (Logistic Regression)"
      ],
      "metadata": {
        "id": "-q6e0qI1I8EL"
      }
    },
    {
      "cell_type": "code",
      "source": [
        "np.random.seed(0)\n",
        "train_X, test_X, train_y , test_y = train_test_split(df_with_null, cancellation_labels_with_null)\n",
        "\n",
        "from sklearn.linear_model import LogisticRegression\n",
        "from sklearn.model_selection import GridSearchCV\n",
        "classifier = LogisticRegression(C=0.5, max_iter=1000, verbose=1).fit(train_X, train_y)\n",
        "# C == regularization strength (smaller = more regularization)"
      ],
      "metadata": {
        "colab": {
          "base_uri": "https://localhost:8080/"
        },
        "id": "-cjmBXOEJB-m",
        "outputId": "8528b192-1da8-473b-8d22-d4f6f33de98d"
      },
      "execution_count": null,
      "outputs": [
        {
          "output_type": "stream",
          "name": "stderr",
          "text": [
            "[Parallel(n_jobs=1)]: Using backend SequentialBackend with 1 concurrent workers.\n",
            "/usr/local/lib/python3.7/dist-packages/sklearn/linear_model/_logistic.py:818: ConvergenceWarning: lbfgs failed to converge (status=1):\n",
            "STOP: TOTAL NO. of ITERATIONS REACHED LIMIT.\n",
            "\n",
            "Increase the number of iterations (max_iter) or scale the data as shown in:\n",
            "    https://scikit-learn.org/stable/modules/preprocessing.html\n",
            "Please also refer to the documentation for alternative solver options:\n",
            "    https://scikit-learn.org/stable/modules/linear_model.html#logistic-regression\n",
            "  extra_warning_msg=_LOGISTIC_SOLVER_CONVERGENCE_MSG,\n",
            "[Parallel(n_jobs=1)]: Done   1 out of   1 | elapsed:  1.3min finished\n"
          ]
        }
      ]
    },
    {
      "cell_type": "code",
      "source": [
        "classifier_coefs = pd.DataFrame(\n",
        "   classifier.coef_.T,\n",
        "   columns=['Coefficients'], index=train_X.columns\n",
        ")"
      ],
      "metadata": {
        "id": "82_Cgb9GNg9H"
      },
      "execution_count": null,
      "outputs": []
    },
    {
      "cell_type": "code",
      "source": [
        "classifier_coefs.sort_values(by=\"Coefficients\", ascending=False).head(40)"
      ],
      "metadata": {
        "id": "CKa096afL5xM"
      },
      "execution_count": null,
      "outputs": []
    },
    {
      "cell_type": "code",
      "source": [
        "roc_curve(test_y, classifier.predict_proba(test_X)[:, 1], pos_label=1)"
      ],
      "metadata": {
        "colab": {
          "base_uri": "https://localhost:8080/",
          "height": 296
        },
        "outputId": "0d63525d-7389-4835-e79c-6def15cf8693",
        "id": "VVoQjyiwL5xM"
      },
      "execution_count": null,
      "outputs": [
        {
          "output_type": "display_data",
          "data": {
            "text/plain": [
              "<Figure size 432x288 with 1 Axes>"
            ],
            "image/png": "[encoded data removed]"
          },
          "metadata": {
            "needs_background": "light"
          }
        },
        {
          "output_type": "execute_result",
          "data": {
            "text/plain": [
              "0.8221080674604299"
            ]
          },
          "metadata": {},
          "execution_count": 92
        }
      ]
    },
    {
      "cell_type": "code",
      "source": [
        "get_statistics(test_y, classifier.predict(test_X) >= 0.5)"
      ],
      "metadata": {
        "colab": {
          "base_uri": "https://localhost:8080/"
        },
        "outputId": "a1678581-1bf7-4916-f448-bee662f07ebe",
        "id": "7c3alESdL5xM"
      },
      "execution_count": null,
      "outputs": [
        {
          "output_type": "stream",
          "name": "stdout",
          "text": [
            "Accuracy Score: 0.7813842482100238\n",
            "Precision Score: 0.6349514563106796\n",
            "MSE: 0.21861575178997614\n",
            "ROC_AUC: 0.6658975854555583\n"
          ]
        },
        {
          "output_type": "execute_result",
          "data": {
            "text/plain": [
              "(0.7813842482100238,\n",
              " 0.6349514563106796,\n",
              " 0.21861575178997614,\n",
              " 0.6658975854555583)"
            ]
          },
          "metadata": {},
          "execution_count": 93
        }
      ]
    },
    {
      "cell_type": "markdown",
      "source": [
        "## Hyper-Params #3 (Logistic Regression)"
      ],
      "metadata": {
        "id": "uccOo-KNLhg-"
      }
    },
    {
      "cell_type": "code",
      "source": [
        "from sklearn.neighbors import KNeighborsRegressor\n",
        "from sklearn.model_selection import GridSearchCV\n",
        "np.random.seed(0)\n",
        "\n",
        "estimator = LogisticRegression()"
      ],
      "metadata": {
        "id": "GtZpoziMMLxo"
      },
      "execution_count": null,
      "outputs": []
    },
    {
      "cell_type": "code",
      "source": [
        "estimator.get_params().keys()"
      ],
      "metadata": {
        "colab": {
          "base_uri": "https://localhost:8080/"
        },
        "outputId": "db41c853-6767-4b13-ef0d-00c5948b164e",
        "id": "-qgZ7xnCMLxo"
      },
      "execution_count": null,
      "outputs": [
        {
          "output_type": "execute_result",
          "data": {
            "text/plain": [
              "dict_keys(['C', 'class_weight', 'dual', 'fit_intercept', 'intercept_scaling', 'l1_ratio', 'max_iter', 'multi_class', 'n_jobs', 'penalty', 'random_state', 'solver', 'tol', 'verbose', 'warm_start'])"
            ]
          },
          "metadata": {},
          "execution_count": 81
        }
      ]
    },
    {
      "cell_type": "code",
      "source": [
        "param_grid={'C': [5,2,1,0.5,0.1,0.05,0.01], 'penalty': ['l1', 'l2', 'elastic']}\n",
        "clf = GridSearchCV(estimator, param_grid=param_grid, cv=3, verbose=3)\n",
        "clf.fit(train_X, train_y)"
      ],
      "metadata": {
        "colab": {
          "base_uri": "https://localhost:8080/"
        },
        "outputId": "8dbf94cf-6463-432c-95bf-cca47cf719b4",
        "id": "qyTVT-YvMLxp"
      },
      "execution_count": null,
      "outputs": [
        {
          "output_type": "stream",
          "name": "stdout",
          "text": [
            "Fitting 3 folds for each of 21 candidates, totalling 63 fits\n",
            "[CV 1/3] END .....................C=5, penalty=l1;, score=nan total time=   0.1s\n",
            "[CV 2/3] END .....................C=5, penalty=l1;, score=nan total time=   0.1s\n",
            "[CV 3/3] END .....................C=5, penalty=l1;, score=nan total time=   0.1s\n"
          ]
        },
        {
          "output_type": "stream",
          "name": "stderr",
          "text": [
            "/usr/local/lib/python3.7/dist-packages/sklearn/linear_model/_logistic.py:818: ConvergenceWarning: lbfgs failed to converge (status=1):\n",
            "STOP: TOTAL NO. of ITERATIONS REACHED LIMIT.\n",
            "\n",
            "Increase the number of iterations (max_iter) or scale the data as shown in:\n",
            "    https://scikit-learn.org/stable/modules/preprocessing.html\n",
            "Please also refer to the documentation for alternative solver options:\n",
            "    https://scikit-learn.org/stable/modules/linear_model.html#logistic-regression\n",
            "  extra_warning_msg=_LOGISTIC_SOLVER_CONVERGENCE_MSG,\n"
          ]
        },
        {
          "output_type": "stream",
          "name": "stdout",
          "text": [
            "[CV 1/3] END ...................C=5, penalty=l2;, score=0.766 total time=   7.7s\n"
          ]
        },
        {
          "output_type": "stream",
          "name": "stderr",
          "text": [
            "/usr/local/lib/python3.7/dist-packages/sklearn/linear_model/_logistic.py:818: ConvergenceWarning: lbfgs failed to converge (status=1):\n",
            "STOP: TOTAL NO. of ITERATIONS REACHED LIMIT.\n",
            "\n",
            "Increase the number of iterations (max_iter) or scale the data as shown in:\n",
            "    https://scikit-learn.org/stable/modules/preprocessing.html\n",
            "Please also refer to the documentation for alternative solver options:\n",
            "    https://scikit-learn.org/stable/modules/linear_model.html#logistic-regression\n",
            "  extra_warning_msg=_LOGISTIC_SOLVER_CONVERGENCE_MSG,\n"
          ]
        },
        {
          "output_type": "stream",
          "name": "stdout",
          "text": [
            "[CV 2/3] END ...................C=5, penalty=l2;, score=0.766 total time=   5.9s\n"
          ]
        },
        {
          "output_type": "stream",
          "name": "stderr",
          "text": [
            "/usr/local/lib/python3.7/dist-packages/sklearn/linear_model/_logistic.py:818: ConvergenceWarning: lbfgs failed to converge (status=1):\n",
            "STOP: TOTAL NO. of ITERATIONS REACHED LIMIT.\n",
            "\n",
            "Increase the number of iterations (max_iter) or scale the data as shown in:\n",
            "    https://scikit-learn.org/stable/modules/preprocessing.html\n",
            "Please also refer to the documentation for alternative solver options:\n",
            "    https://scikit-learn.org/stable/modules/linear_model.html#logistic-regression\n",
            "  extra_warning_msg=_LOGISTIC_SOLVER_CONVERGENCE_MSG,\n"
          ]
        },
        {
          "output_type": "stream",
          "name": "stdout",
          "text": [
            "[CV 3/3] END ...................C=5, penalty=l2;, score=0.767 total time=   5.3s\n",
            "[CV 1/3] END ................C=5, penalty=elastic;, score=nan total time=   0.1s\n",
            "[CV 2/3] END ................C=5, penalty=elastic;, score=nan total time=   0.1s\n",
            "[CV 3/3] END ................C=5, penalty=elastic;, score=nan total time=   0.1s\n",
            "[CV 1/3] END .....................C=2, penalty=l1;, score=nan total time=   0.1s\n",
            "[CV 2/3] END .....................C=2, penalty=l1;, score=nan total time=   0.1s\n",
            "[CV 3/3] END .....................C=2, penalty=l1;, score=nan total time=   0.1s\n"
          ]
        },
        {
          "output_type": "stream",
          "name": "stderr",
          "text": [
            "/usr/local/lib/python3.7/dist-packages/sklearn/linear_model/_logistic.py:818: ConvergenceWarning: lbfgs failed to converge (status=1):\n",
            "STOP: TOTAL NO. of ITERATIONS REACHED LIMIT.\n",
            "\n",
            "Increase the number of iterations (max_iter) or scale the data as shown in:\n",
            "    https://scikit-learn.org/stable/modules/preprocessing.html\n",
            "Please also refer to the documentation for alternative solver options:\n",
            "    https://scikit-learn.org/stable/modules/linear_model.html#logistic-regression\n",
            "  extra_warning_msg=_LOGISTIC_SOLVER_CONVERGENCE_MSG,\n"
          ]
        },
        {
          "output_type": "stream",
          "name": "stdout",
          "text": [
            "[CV 1/3] END ...................C=2, penalty=l2;, score=0.764 total time=   5.1s\n"
          ]
        },
        {
          "output_type": "stream",
          "name": "stderr",
          "text": [
            "/usr/local/lib/python3.7/dist-packages/sklearn/linear_model/_logistic.py:818: ConvergenceWarning: lbfgs failed to converge (status=1):\n",
            "STOP: TOTAL NO. of ITERATIONS REACHED LIMIT.\n",
            "\n",
            "Increase the number of iterations (max_iter) or scale the data as shown in:\n",
            "    https://scikit-learn.org/stable/modules/preprocessing.html\n",
            "Please also refer to the documentation for alternative solver options:\n",
            "    https://scikit-learn.org/stable/modules/linear_model.html#logistic-regression\n",
            "  extra_warning_msg=_LOGISTIC_SOLVER_CONVERGENCE_MSG,\n"
          ]
        },
        {
          "output_type": "stream",
          "name": "stdout",
          "text": [
            "[CV 2/3] END ...................C=2, penalty=l2;, score=0.766 total time=   5.2s\n"
          ]
        },
        {
          "output_type": "stream",
          "name": "stderr",
          "text": [
            "/usr/local/lib/python3.7/dist-packages/sklearn/linear_model/_logistic.py:818: ConvergenceWarning: lbfgs failed to converge (status=1):\n",
            "STOP: TOTAL NO. of ITERATIONS REACHED LIMIT.\n",
            "\n",
            "Increase the number of iterations (max_iter) or scale the data as shown in:\n",
            "    https://scikit-learn.org/stable/modules/preprocessing.html\n",
            "Please also refer to the documentation for alternative solver options:\n",
            "    https://scikit-learn.org/stable/modules/linear_model.html#logistic-regression\n",
            "  extra_warning_msg=_LOGISTIC_SOLVER_CONVERGENCE_MSG,\n"
          ]
        },
        {
          "output_type": "stream",
          "name": "stdout",
          "text": [
            "[CV 3/3] END ...................C=2, penalty=l2;, score=0.766 total time=   5.2s\n",
            "[CV 1/3] END ................C=2, penalty=elastic;, score=nan total time=   0.1s\n",
            "[CV 2/3] END ................C=2, penalty=elastic;, score=nan total time=   0.1s\n",
            "[CV 3/3] END ................C=2, penalty=elastic;, score=nan total time=   0.1s\n",
            "[CV 1/3] END .....................C=1, penalty=l1;, score=nan total time=   0.1s\n",
            "[CV 2/3] END .....................C=1, penalty=l1;, score=nan total time=   0.1s\n",
            "[CV 3/3] END .....................C=1, penalty=l1;, score=nan total time=   0.1s\n"
          ]
        },
        {
          "output_type": "stream",
          "name": "stderr",
          "text": [
            "/usr/local/lib/python3.7/dist-packages/sklearn/linear_model/_logistic.py:818: ConvergenceWarning: lbfgs failed to converge (status=1):\n",
            "STOP: TOTAL NO. of ITERATIONS REACHED LIMIT.\n",
            "\n",
            "Increase the number of iterations (max_iter) or scale the data as shown in:\n",
            "    https://scikit-learn.org/stable/modules/preprocessing.html\n",
            "Please also refer to the documentation for alternative solver options:\n",
            "    https://scikit-learn.org/stable/modules/linear_model.html#logistic-regression\n",
            "  extra_warning_msg=_LOGISTIC_SOLVER_CONVERGENCE_MSG,\n"
          ]
        },
        {
          "output_type": "stream",
          "name": "stdout",
          "text": [
            "[CV 1/3] END ...................C=1, penalty=l2;, score=0.764 total time=   5.4s\n"
          ]
        },
        {
          "output_type": "stream",
          "name": "stderr",
          "text": [
            "/usr/local/lib/python3.7/dist-packages/sklearn/linear_model/_logistic.py:818: ConvergenceWarning: lbfgs failed to converge (status=1):\n",
            "STOP: TOTAL NO. of ITERATIONS REACHED LIMIT.\n",
            "\n",
            "Increase the number of iterations (max_iter) or scale the data as shown in:\n",
            "    https://scikit-learn.org/stable/modules/preprocessing.html\n",
            "Please also refer to the documentation for alternative solver options:\n",
            "    https://scikit-learn.org/stable/modules/linear_model.html#logistic-regression\n",
            "  extra_warning_msg=_LOGISTIC_SOLVER_CONVERGENCE_MSG,\n"
          ]
        },
        {
          "output_type": "stream",
          "name": "stdout",
          "text": [
            "[CV 2/3] END ...................C=1, penalty=l2;, score=0.766 total time=   5.2s\n"
          ]
        },
        {
          "output_type": "stream",
          "name": "stderr",
          "text": [
            "/usr/local/lib/python3.7/dist-packages/sklearn/linear_model/_logistic.py:818: ConvergenceWarning: lbfgs failed to converge (status=1):\n",
            "STOP: TOTAL NO. of ITERATIONS REACHED LIMIT.\n",
            "\n",
            "Increase the number of iterations (max_iter) or scale the data as shown in:\n",
            "    https://scikit-learn.org/stable/modules/preprocessing.html\n",
            "Please also refer to the documentation for alternative solver options:\n",
            "    https://scikit-learn.org/stable/modules/linear_model.html#logistic-regression\n",
            "  extra_warning_msg=_LOGISTIC_SOLVER_CONVERGENCE_MSG,\n"
          ]
        },
        {
          "output_type": "stream",
          "name": "stdout",
          "text": [
            "[CV 3/3] END ...................C=1, penalty=l2;, score=0.765 total time=   5.3s\n",
            "[CV 1/3] END ................C=1, penalty=elastic;, score=nan total time=   0.1s\n",
            "[CV 2/3] END ................C=1, penalty=elastic;, score=nan total time=   0.1s\n",
            "[CV 3/3] END ................C=1, penalty=elastic;, score=nan total time=   0.1s\n",
            "[CV 1/3] END ...................C=0.5, penalty=l1;, score=nan total time=   0.1s\n",
            "[CV 2/3] END ...................C=0.5, penalty=l1;, score=nan total time=   0.1s\n",
            "[CV 3/3] END ...................C=0.5, penalty=l1;, score=nan total time=   0.1s\n"
          ]
        },
        {
          "output_type": "stream",
          "name": "stderr",
          "text": [
            "/usr/local/lib/python3.7/dist-packages/sklearn/linear_model/_logistic.py:818: ConvergenceWarning: lbfgs failed to converge (status=1):\n",
            "STOP: TOTAL NO. of ITERATIONS REACHED LIMIT.\n",
            "\n",
            "Increase the number of iterations (max_iter) or scale the data as shown in:\n",
            "    https://scikit-learn.org/stable/modules/preprocessing.html\n",
            "Please also refer to the documentation for alternative solver options:\n",
            "    https://scikit-learn.org/stable/modules/linear_model.html#logistic-regression\n",
            "  extra_warning_msg=_LOGISTIC_SOLVER_CONVERGENCE_MSG,\n"
          ]
        },
        {
          "output_type": "stream",
          "name": "stdout",
          "text": [
            "[CV 1/3] END .................C=0.5, penalty=l2;, score=0.767 total time=   4.1s\n"
          ]
        },
        {
          "output_type": "stream",
          "name": "stderr",
          "text": [
            "/usr/local/lib/python3.7/dist-packages/sklearn/linear_model/_logistic.py:818: ConvergenceWarning: lbfgs failed to converge (status=1):\n",
            "STOP: TOTAL NO. of ITERATIONS REACHED LIMIT.\n",
            "\n",
            "Increase the number of iterations (max_iter) or scale the data as shown in:\n",
            "    https://scikit-learn.org/stable/modules/preprocessing.html\n",
            "Please also refer to the documentation for alternative solver options:\n",
            "    https://scikit-learn.org/stable/modules/linear_model.html#logistic-regression\n",
            "  extra_warning_msg=_LOGISTIC_SOLVER_CONVERGENCE_MSG,\n"
          ]
        },
        {
          "output_type": "stream",
          "name": "stdout",
          "text": [
            "[CV 2/3] END .................C=0.5, penalty=l2;, score=0.765 total time=   4.0s\n"
          ]
        },
        {
          "output_type": "stream",
          "name": "stderr",
          "text": [
            "/usr/local/lib/python3.7/dist-packages/sklearn/linear_model/_logistic.py:818: ConvergenceWarning: lbfgs failed to converge (status=1):\n",
            "STOP: TOTAL NO. of ITERATIONS REACHED LIMIT.\n",
            "\n",
            "Increase the number of iterations (max_iter) or scale the data as shown in:\n",
            "    https://scikit-learn.org/stable/modules/preprocessing.html\n",
            "Please also refer to the documentation for alternative solver options:\n",
            "    https://scikit-learn.org/stable/modules/linear_model.html#logistic-regression\n",
            "  extra_warning_msg=_LOGISTIC_SOLVER_CONVERGENCE_MSG,\n"
          ]
        },
        {
          "output_type": "stream",
          "name": "stdout",
          "text": [
            "[CV 3/3] END .................C=0.5, penalty=l2;, score=0.767 total time=   4.3s\n",
            "[CV 1/3] END ..............C=0.5, penalty=elastic;, score=nan total time=   0.1s\n",
            "[CV 2/3] END ..............C=0.5, penalty=elastic;, score=nan total time=   0.1s\n",
            "[CV 3/3] END ..............C=0.5, penalty=elastic;, score=nan total time=   0.1s\n",
            "[CV 1/3] END ...................C=0.1, penalty=l1;, score=nan total time=   0.1s\n",
            "[CV 2/3] END ...................C=0.1, penalty=l1;, score=nan total time=   0.1s\n",
            "[CV 3/3] END ...................C=0.1, penalty=l1;, score=nan total time=   0.1s\n"
          ]
        },
        {
          "output_type": "stream",
          "name": "stderr",
          "text": [
            "/usr/local/lib/python3.7/dist-packages/sklearn/linear_model/_logistic.py:818: ConvergenceWarning: lbfgs failed to converge (status=1):\n",
            "STOP: TOTAL NO. of ITERATIONS REACHED LIMIT.\n",
            "\n",
            "Increase the number of iterations (max_iter) or scale the data as shown in:\n",
            "    https://scikit-learn.org/stable/modules/preprocessing.html\n",
            "Please also refer to the documentation for alternative solver options:\n",
            "    https://scikit-learn.org/stable/modules/linear_model.html#logistic-regression\n",
            "  extra_warning_msg=_LOGISTIC_SOLVER_CONVERGENCE_MSG,\n"
          ]
        },
        {
          "output_type": "stream",
          "name": "stdout",
          "text": [
            "[CV 1/3] END .................C=0.1, penalty=l2;, score=0.764 total time=   3.9s\n"
          ]
        },
        {
          "output_type": "stream",
          "name": "stderr",
          "text": [
            "/usr/local/lib/python3.7/dist-packages/sklearn/linear_model/_logistic.py:818: ConvergenceWarning: lbfgs failed to converge (status=1):\n",
            "STOP: TOTAL NO. of ITERATIONS REACHED LIMIT.\n",
            "\n",
            "Increase the number of iterations (max_iter) or scale the data as shown in:\n",
            "    https://scikit-learn.org/stable/modules/preprocessing.html\n",
            "Please also refer to the documentation for alternative solver options:\n",
            "    https://scikit-learn.org/stable/modules/linear_model.html#logistic-regression\n",
            "  extra_warning_msg=_LOGISTIC_SOLVER_CONVERGENCE_MSG,\n"
          ]
        },
        {
          "output_type": "stream",
          "name": "stdout",
          "text": [
            "[CV 2/3] END .................C=0.1, penalty=l2;, score=0.766 total time=   4.2s\n"
          ]
        },
        {
          "output_type": "stream",
          "name": "stderr",
          "text": [
            "/usr/local/lib/python3.7/dist-packages/sklearn/linear_model/_logistic.py:818: ConvergenceWarning: lbfgs failed to converge (status=1):\n",
            "STOP: TOTAL NO. of ITERATIONS REACHED LIMIT.\n",
            "\n",
            "Increase the number of iterations (max_iter) or scale the data as shown in:\n",
            "    https://scikit-learn.org/stable/modules/preprocessing.html\n",
            "Please also refer to the documentation for alternative solver options:\n",
            "    https://scikit-learn.org/stable/modules/linear_model.html#logistic-regression\n",
            "  extra_warning_msg=_LOGISTIC_SOLVER_CONVERGENCE_MSG,\n"
          ]
        },
        {
          "output_type": "stream",
          "name": "stdout",
          "text": [
            "[CV 3/3] END .................C=0.1, penalty=l2;, score=0.766 total time=   5.0s\n",
            "[CV 1/3] END ..............C=0.1, penalty=elastic;, score=nan total time=   0.1s\n",
            "[CV 2/3] END ..............C=0.1, penalty=elastic;, score=nan total time=   0.1s\n",
            "[CV 3/3] END ..............C=0.1, penalty=elastic;, score=nan total time=   0.1s\n",
            "[CV 1/3] END ..................C=0.05, penalty=l1;, score=nan total time=   0.1s\n",
            "[CV 2/3] END ..................C=0.05, penalty=l1;, score=nan total time=   0.1s\n",
            "[CV 3/3] END ..................C=0.05, penalty=l1;, score=nan total time=   0.1s\n"
          ]
        },
        {
          "output_type": "stream",
          "name": "stderr",
          "text": [
            "/usr/local/lib/python3.7/dist-packages/sklearn/linear_model/_logistic.py:818: ConvergenceWarning: lbfgs failed to converge (status=1):\n",
            "STOP: TOTAL NO. of ITERATIONS REACHED LIMIT.\n",
            "\n",
            "Increase the number of iterations (max_iter) or scale the data as shown in:\n",
            "    https://scikit-learn.org/stable/modules/preprocessing.html\n",
            "Please also refer to the documentation for alternative solver options:\n",
            "    https://scikit-learn.org/stable/modules/linear_model.html#logistic-regression\n",
            "  extra_warning_msg=_LOGISTIC_SOLVER_CONVERGENCE_MSG,\n"
          ]
        },
        {
          "output_type": "stream",
          "name": "stdout",
          "text": [
            "[CV 1/3] END ................C=0.05, penalty=l2;, score=0.765 total time=   4.8s\n"
          ]
        },
        {
          "output_type": "stream",
          "name": "stderr",
          "text": [
            "/usr/local/lib/python3.7/dist-packages/sklearn/linear_model/_logistic.py:818: ConvergenceWarning: lbfgs failed to converge (status=1):\n",
            "STOP: TOTAL NO. of ITERATIONS REACHED LIMIT.\n",
            "\n",
            "Increase the number of iterations (max_iter) or scale the data as shown in:\n",
            "    https://scikit-learn.org/stable/modules/preprocessing.html\n",
            "Please also refer to the documentation for alternative solver options:\n",
            "    https://scikit-learn.org/stable/modules/linear_model.html#logistic-regression\n",
            "  extra_warning_msg=_LOGISTIC_SOLVER_CONVERGENCE_MSG,\n"
          ]
        },
        {
          "output_type": "stream",
          "name": "stdout",
          "text": [
            "[CV 2/3] END ................C=0.05, penalty=l2;, score=0.766 total time=   5.5s\n"
          ]
        },
        {
          "output_type": "stream",
          "name": "stderr",
          "text": [
            "/usr/local/lib/python3.7/dist-packages/sklearn/linear_model/_logistic.py:818: ConvergenceWarning: lbfgs failed to converge (status=1):\n",
            "STOP: TOTAL NO. of ITERATIONS REACHED LIMIT.\n",
            "\n",
            "Increase the number of iterations (max_iter) or scale the data as shown in:\n",
            "    https://scikit-learn.org/stable/modules/preprocessing.html\n",
            "Please also refer to the documentation for alternative solver options:\n",
            "    https://scikit-learn.org/stable/modules/linear_model.html#logistic-regression\n",
            "  extra_warning_msg=_LOGISTIC_SOLVER_CONVERGENCE_MSG,\n"
          ]
        },
        {
          "output_type": "stream",
          "name": "stdout",
          "text": [
            "[CV 3/3] END ................C=0.05, penalty=l2;, score=0.766 total time=   4.6s\n",
            "[CV 1/3] END .............C=0.05, penalty=elastic;, score=nan total time=   0.1s\n",
            "[CV 2/3] END .............C=0.05, penalty=elastic;, score=nan total time=   0.1s\n",
            "[CV 3/3] END .............C=0.05, penalty=elastic;, score=nan total time=   0.1s\n",
            "[CV 1/3] END ..................C=0.01, penalty=l1;, score=nan total time=   0.1s\n",
            "[CV 2/3] END ..................C=0.01, penalty=l1;, score=nan total time=   0.1s\n",
            "[CV 3/3] END ..................C=0.01, penalty=l1;, score=nan total time=   0.1s\n"
          ]
        },
        {
          "output_type": "stream",
          "name": "stderr",
          "text": [
            "/usr/local/lib/python3.7/dist-packages/sklearn/linear_model/_logistic.py:818: ConvergenceWarning: lbfgs failed to converge (status=1):\n",
            "STOP: TOTAL NO. of ITERATIONS REACHED LIMIT.\n",
            "\n",
            "Increase the number of iterations (max_iter) or scale the data as shown in:\n",
            "    https://scikit-learn.org/stable/modules/preprocessing.html\n",
            "Please also refer to the documentation for alternative solver options:\n",
            "    https://scikit-learn.org/stable/modules/linear_model.html#logistic-regression\n",
            "  extra_warning_msg=_LOGISTIC_SOLVER_CONVERGENCE_MSG,\n"
          ]
        },
        {
          "output_type": "stream",
          "name": "stdout",
          "text": [
            "[CV 1/3] END ................C=0.01, penalty=l2;, score=0.764 total time=   5.6s\n"
          ]
        },
        {
          "output_type": "stream",
          "name": "stderr",
          "text": [
            "/usr/local/lib/python3.7/dist-packages/sklearn/linear_model/_logistic.py:818: ConvergenceWarning: lbfgs failed to converge (status=1):\n",
            "STOP: TOTAL NO. of ITERATIONS REACHED LIMIT.\n",
            "\n",
            "Increase the number of iterations (max_iter) or scale the data as shown in:\n",
            "    https://scikit-learn.org/stable/modules/preprocessing.html\n",
            "Please also refer to the documentation for alternative solver options:\n",
            "    https://scikit-learn.org/stable/modules/linear_model.html#logistic-regression\n",
            "  extra_warning_msg=_LOGISTIC_SOLVER_CONVERGENCE_MSG,\n"
          ]
        },
        {
          "output_type": "stream",
          "name": "stdout",
          "text": [
            "[CV 2/3] END ................C=0.01, penalty=l2;, score=0.766 total time=   4.3s\n"
          ]
        },
        {
          "output_type": "stream",
          "name": "stderr",
          "text": [
            "/usr/local/lib/python3.7/dist-packages/sklearn/linear_model/_logistic.py:818: ConvergenceWarning: lbfgs failed to converge (status=1):\n",
            "STOP: TOTAL NO. of ITERATIONS REACHED LIMIT.\n",
            "\n",
            "Increase the number of iterations (max_iter) or scale the data as shown in:\n",
            "    https://scikit-learn.org/stable/modules/preprocessing.html\n",
            "Please also refer to the documentation for alternative solver options:\n",
            "    https://scikit-learn.org/stable/modules/linear_model.html#logistic-regression\n",
            "  extra_warning_msg=_LOGISTIC_SOLVER_CONVERGENCE_MSG,\n"
          ]
        },
        {
          "output_type": "stream",
          "name": "stdout",
          "text": [
            "[CV 3/3] END ................C=0.01, penalty=l2;, score=0.766 total time=   4.2s\n",
            "[CV 1/3] END .............C=0.01, penalty=elastic;, score=nan total time=   0.1s\n",
            "[CV 2/3] END .............C=0.01, penalty=elastic;, score=nan total time=   0.1s\n",
            "[CV 3/3] END .............C=0.01, penalty=elastic;, score=nan total time=   0.1s\n"
          ]
        },
        {
          "output_type": "stream",
          "name": "stderr",
          "text": [
            "/usr/local/lib/python3.7/dist-packages/sklearn/model_selection/_validation.py:372: FitFailedWarning: \n",
            "42 fits failed out of a total of 63.\n",
            "The score on these train-test partitions for these parameters will be set to nan.\n",
            "If these failures are not expected, you can try to debug them by setting error_score='raise'.\n",
            "\n",
            "Below are more details about the failures:\n",
            "--------------------------------------------------------------------------------\n",
            "21 fits failed with the following error:\n",
            "Traceback (most recent call last):\n",
            "  File \"/usr/local/lib/python3.7/dist-packages/sklearn/model_selection/_validation.py\", line 680, in _fit_and_score\n",
            "    estimator.fit(X_train, y_train, **fit_params)\n",
            "  File \"/usr/local/lib/python3.7/dist-packages/sklearn/linear_model/_logistic.py\", line 1461, in fit\n",
            "    solver = _check_solver(self.solver, self.penalty, self.dual)\n",
            "  File \"/usr/local/lib/python3.7/dist-packages/sklearn/linear_model/_logistic.py\", line 449, in _check_solver\n",
            "    % (solver, penalty)\n",
            "ValueError: Solver lbfgs supports only 'l2' or 'none' penalties, got l1 penalty.\n",
            "\n",
            "--------------------------------------------------------------------------------\n",
            "21 fits failed with the following error:\n",
            "Traceback (most recent call last):\n",
            "  File \"/usr/local/lib/python3.7/dist-packages/sklearn/model_selection/_validation.py\", line 680, in _fit_and_score\n",
            "    estimator.fit(X_train, y_train, **fit_params)\n",
            "  File \"/usr/local/lib/python3.7/dist-packages/sklearn/linear_model/_logistic.py\", line 1461, in fit\n",
            "    solver = _check_solver(self.solver, self.penalty, self.dual)\n",
            "  File \"/usr/local/lib/python3.7/dist-packages/sklearn/linear_model/_logistic.py\", line 443, in _check_solver\n",
            "    % (all_penalties, penalty)\n",
            "ValueError: Logistic Regression supports only penalties in ['l1', 'l2', 'elasticnet', 'none'], got elastic.\n",
            "\n",
            "  warnings.warn(some_fits_failed_message, FitFailedWarning)\n",
            "/usr/local/lib/python3.7/dist-packages/sklearn/model_selection/_search.py:972: UserWarning: One or more of the test scores are non-finite: [       nan 0.76608175        nan        nan 0.76542258        nan\n",
            "        nan 0.76528618        nan        nan 0.7664227         nan\n",
            "        nan 0.7654453         nan        nan 0.76571806        nan\n",
            "        nan 0.76517254        nan]\n",
            "  category=UserWarning,\n",
            "/usr/local/lib/python3.7/dist-packages/sklearn/linear_model/_logistic.py:818: ConvergenceWarning: lbfgs failed to converge (status=1):\n",
            "STOP: TOTAL NO. of ITERATIONS REACHED LIMIT.\n",
            "\n",
            "Increase the number of iterations (max_iter) or scale the data as shown in:\n",
            "    https://scikit-learn.org/stable/modules/preprocessing.html\n",
            "Please also refer to the documentation for alternative solver options:\n",
            "    https://scikit-learn.org/stable/modules/linear_model.html#logistic-regression\n",
            "  extra_warning_msg=_LOGISTIC_SOLVER_CONVERGENCE_MSG,\n"
          ]
        },
        {
          "output_type": "execute_result",
          "data": {
            "text/plain": [
              "GridSearchCV(cv=3, estimator=LogisticRegression(),\n",
              "             param_grid={'C': [5, 2, 1, 0.5, 0.1, 0.05, 0.01],\n",
              "                         'penalty': ['l1', 'l2', 'elastic']},\n",
              "             verbose=3)"
            ]
          },
          "metadata": {},
          "execution_count": 82
        }
      ]
    },
    {
      "cell_type": "code",
      "source": [
        "clf.best_score_"
      ],
      "metadata": {
        "colab": {
          "base_uri": "https://localhost:8080/"
        },
        "outputId": "83003e32-bc4a-4454-f157-b46719898562",
        "id": "bPz5eTi2MLxp"
      },
      "execution_count": null,
      "outputs": [
        {
          "output_type": "execute_result",
          "data": {
            "text/plain": [
              "0.7664226989291733"
            ]
          },
          "metadata": {},
          "execution_count": 83
        }
      ]
    },
    {
      "cell_type": "code",
      "source": [
        "clf.best_params_"
      ],
      "metadata": {
        "colab": {
          "base_uri": "https://localhost:8080/"
        },
        "outputId": "dd3fd330-7da7-4f0f-89e5-2653b0f05e58",
        "id": "DLbV3fVUMLxp"
      },
      "execution_count": null,
      "outputs": [
        {
          "output_type": "execute_result",
          "data": {
            "text/plain": [
              "{'C': 0.5, 'penalty': 'l2'}"
            ]
          },
          "metadata": {},
          "execution_count": 84
        }
      ]
    },
    {
      "cell_type": "markdown",
      "source": [
        "# Regressor"
      ],
      "metadata": {
        "id": "eFlqcTwJRo8w"
      }
    },
    {
      "cell_type": "markdown",
      "source": [
        "## Fitting Regressor #1 (GradientBoostedRegressor) (USING THIS MODEL ONLY)"
      ],
      "metadata": {
        "id": "2exlzTjy9ys9"
      }
    },
    {
      "cell_type": "code",
      "source": [
        "np.random.seed(0)\n",
        "train_X, test_X, train_y , test_y = train_test_split(df_small_null, cancellation_labels_small_null)\n",
        "\n",
        "from sklearn.ensemble import GradientBoostingRegressor\n",
        "# regressor = xgb.XGBRegressor(base_score=0.5, booster='gbtree', colsample_bylevel=1,\n",
        "#        colsample_bynode=1, colsample_bytree=1, gamma=0,\n",
        "#        importance_type='gain', learning_rate=0.1, max_delta_step=0,\n",
        "#        max_depth=3, min_child_weight=1, missing=None, n_estimators=100,\n",
        "#        n_jobs=1, nthread=None, objective='reg:linear', random_state=0,\n",
        "#        reg_alpha=0, reg_lambda=1, scale_pos_weight=1, seed=None,\n",
        "#        silent=None, subsample=1, verbosity=1).fit(train_X, train_y)\n",
        "# regressor = xgb.XGBRegressor(n_estimators=200, learning_rate = 0.1, max_depth=3, verbosity=0).fit(train_X, train_y)\n",
        "regressor = GradientBoostingRegressor(n_estimators=300, subsample=0.5, min_samples_leaf=1, learning_rate = 0.01, max_depth=3, verbose=1, criterion=\"squared_error\").fit(train_X, train_y)"
      ],
      "metadata": {
        "id": "ZMoaUiaWxxId",
        "colab": {
          "base_uri": "https://localhost:8080/"
        },
        "outputId": "b78ce05a-8b96-4378-8de0-50a064e1644d"
      },
      "execution_count": 63,
      "outputs": [
        {
          "output_type": "stream",
          "name": "stdout",
          "text": [
            "      Iter       Train Loss      OOB Improve   Remaining Time \n",
            "         1        2535.1042          37.5197            2.38s\n",
            "         2        2753.6522          34.7051            2.26s\n",
            "         3        2613.2250          34.6178            2.22s\n",
            "         4        2614.3853          34.2359            2.29s\n",
            "         5        2285.8141          39.4081            2.28s\n",
            "         6        2498.3150          35.1232            2.25s\n",
            "         7        2251.3747          33.9475            2.57s\n",
            "         8        2565.4702          29.4832            2.55s\n",
            "         9        2359.9308          29.8393            2.50s\n",
            "        10        2050.0127          29.6940            2.46s\n",
            "        20        2019.7256          23.1510            2.08s\n",
            "        30        1822.2587          20.1001            1.93s\n",
            "        40        1643.5801          15.5636            1.86s\n",
            "        50        1238.6094          12.5230            1.76s\n",
            "        60        1286.9799          11.2903            1.68s\n",
            "        70        1072.3974           9.5792            1.59s\n",
            "        80        1129.4669           6.9806            1.50s\n",
            "        90         833.0811           7.0243            1.42s\n",
            "       100         864.3383           4.5267            1.35s\n",
            "       200         585.9811          -0.4012            0.94s\n",
            "       300         476.1094          -0.1699            0.00s\n"
          ]
        }
      ]
    },
    {
      "cell_type": "code",
      "source": [
        "err = sklearn.metrics.mean_squared_error(regressor.predict(test_X), test_y)\n",
        "print(f\"MSE: {err}\\nsquared MSE: {np.sqrt(err)}\")"
      ],
      "metadata": {
        "colab": {
          "base_uri": "https://localhost:8080/"
        },
        "id": "L6wq-ueZpfLq",
        "outputId": "7ddd99c9-4a0a-4d03-f74d-9169db392e89"
      },
      "execution_count": 70,
      "outputs": [
        {
          "output_type": "stream",
          "name": "stdout",
          "text": [
            "MSE: 828.0265912436047\n",
            "squared MSE: 28.775451190964926\n"
          ]
        }
      ]
    },
    {
      "cell_type": "code",
      "source": [
        "regressor.feature_importances_\n",
        "\n",
        "regressor_coefs = pd.DataFrame(\n",
        "   regressor.feature_importances_,\n",
        "   columns=['Coefficients'], index=train_X.columns\n",
        ")"
      ],
      "metadata": {
        "id": "38Yl9E9fFhhm"
      },
      "execution_count": 65,
      "outputs": []
    },
    {
      "cell_type": "code",
      "source": [
        "regressor_coefs.sort_values(by=\"Coefficients\", ascending=False).head(40)"
      ],
      "metadata": {
        "id": "qTd-CsrgFhhm",
        "colab": {
          "base_uri": "https://localhost:8080/",
          "height": 1000
        },
        "outputId": "8e0a74b8-8d5c-4222-d453-1738e526f52e"
      },
      "execution_count": 66,
      "outputs": [
        {
          "output_type": "execute_result",
          "data": {
            "text/plain": [
              "                                          Coefficients\n",
              "booking_to_checkout_days                      0.510218\n",
              "booking_to_checkin_days                       0.376370\n",
              "cancellation_price_-3_days                    0.017326\n",
              "cancellation_price_1_days                     0.010864\n",
              "hotel_live_year                               0.007660\n",
              "customer_nationality_Malaysia                 0.007218\n",
              "original_selling_amount_usd                   0.006500\n",
              "guest_nationality_country_name_Malaysia       0.004099\n",
              "order_hour                                    0.003582\n",
              "origin_country_code_TH                        0.003569\n",
              "hotel_country_code_MY                         0.003527\n",
              "hotel_country_code_CA                         0.003258\n",
              "origin_country_code_MY                        0.002911\n",
              "stay_length_days                              0.002831\n",
              "cancellation_price_0_days                     0.002546\n",
              "hotel_star_rating                             0.002462\n",
              "cancellation_price_-1_days                    0.002230\n",
              "original_payment_method_MasterCard            0.001958\n",
              "cancellation_price_-10_days                   0.001754\n",
              "accommadation_type_name_Hotel                 0.001680\n",
              "no_of_adults                                  0.001383\n",
              "charge_option_Pay at Check-in                 0.001360\n",
              "request_nonesmoke                             0.001337\n",
              "cancellation_price_-5_days                    0.001313\n",
              "cancellation_price_-60_days                   0.001252\n",
              "origin_country_code_MO                        0.001138\n",
              "hotel_country_code_JP                         0.001096\n",
              "customer_nationality_Thailand                 0.001060\n",
              "charge_option_Pay Later                       0.001040\n",
              "original_payment_method_Visa                  0.000920\n",
              "cancellation_price_-80_days                   0.000834\n",
              "hotel_country_code_KR                         0.000830\n",
              "is_user_logged_in                             0.000745\n",
              "origin_country_code_GB                        0.000731\n",
              "original_payment_method_American Express      0.000710\n",
              "cancellation_price_-30_days                   0.000704\n",
              "charge_option_Pay Now                         0.000698\n",
              "customer_nationality_Singapore                0.000666\n",
              "hotel_country_code_US                         0.000637\n",
              "cancellation_price_-100_days                  0.000588"
            ],
            "text/html": [
              "\n",
              "  <div id=\"df-016e7828-ffba-4d3b-bd14-482ef48e7138\">\n",
              "    <div class=\"colab-df-container\">\n",
              "      <div>\n",
              "<style scoped>\n",
              "    .dataframe tbody tr th:only-of-type {\n",
              "        vertical-align: middle;\n",
              "    }\n",
              "\n",
              "    .dataframe tbody tr th {\n",
              "        vertical-align: top;\n",
              "    }\n",
              "\n",
              "    .dataframe thead th {\n",
              "        text-align: right;\n",
              "    }\n",
              "</style>\n",
              "<table border=\"1\" class=\"dataframe\">\n",
              "  <thead>\n",
              "    <tr style=\"text-align: right;\">\n",
              "      <th></th>\n",
              "      <th>Coefficients</th>\n",
              "    </tr>\n",
              "  </thead>\n",
              "  <tbody>\n",
              "    <tr>\n",
              "      <th>booking_to_checkout_days</th>\n",
              "      <td>0.510218</td>\n",
              "    </tr>\n",
              "    <tr>\n",
              "      <th>booking_to_checkin_days</th>\n",
              "      <td>0.376370</td>\n",
              "    </tr>\n",
              "    <tr>\n",
              "      <th>cancellation_price_-3_days</th>\n",
              "      <td>0.017326</td>\n",
              "    </tr>\n",
              "    <tr>\n",
              "      <th>cancellation_price_1_days</th>\n",
              "      <td>0.010864</td>\n",
              "    </tr>\n",
              "    <tr>\n",
              "      <th>hotel_live_year</th>\n",
              "      <td>0.007660</td>\n",
              "    </tr>\n",
              "    <tr>\n",
              "      <th>customer_nationality_Malaysia</th>\n",
              "      <td>0.007218</td>\n",
              "    </tr>\n",
              "    <tr>\n",
              "      <th>original_selling_amount_usd</th>\n",
              "      <td>0.006500</td>\n",
              "    </tr>\n",
              "    <tr>\n",
              "      <th>guest_nationality_country_name_Malaysia</th>\n",
              "      <td>0.004099</td>\n",
              "    </tr>\n",
              "    <tr>\n",
              "      <th>order_hour</th>\n",
              "      <td>0.003582</td>\n",
              "    </tr>\n",
              "    <tr>\n",
              "      <th>origin_country_code_TH</th>\n",
              "      <td>0.003569</td>\n",
              "    </tr>\n",
              "    <tr>\n",
              "      <th>hotel_country_code_MY</th>\n",
              "      <td>0.003527</td>\n",
              "    </tr>\n",
              "    <tr>\n",
              "      <th>hotel_country_code_CA</th>\n",
              "      <td>0.003258</td>\n",
              "    </tr>\n",
              "    <tr>\n",
              "      <th>origin_country_code_MY</th>\n",
              "      <td>0.002911</td>\n",
              "    </tr>\n",
              "    <tr>\n",
              "      <th>stay_length_days</th>\n",
              "      <td>0.002831</td>\n",
              "    </tr>\n",
              "    <tr>\n",
              "      <th>cancellation_price_0_days</th>\n",
              "      <td>0.002546</td>\n",
              "    </tr>\n",
              "    <tr>\n",
              "      <th>hotel_star_rating</th>\n",
              "      <td>0.002462</td>\n",
              "    </tr>\n",
              "    <tr>\n",
              "      <th>cancellation_price_-1_days</th>\n",
              "      <td>0.002230</td>\n",
              "    </tr>\n",
              "    <tr>\n",
              "      <th>original_payment_method_MasterCard</th>\n",
              "      <td>0.001958</td>\n",
              "    </tr>\n",
              "    <tr>\n",
              "      <th>cancellation_price_-10_days</th>\n",
              "      <td>0.001754</td>\n",
              "    </tr>\n",
              "    <tr>\n",
              "      <th>accommadation_type_name_Hotel</th>\n",
              "      <td>0.001680</td>\n",
              "    </tr>\n",
              "    <tr>\n",
              "      <th>no_of_adults</th>\n",
              "      <td>0.001383</td>\n",
              "    </tr>\n",
              "    <tr>\n",
              "      <th>charge_option_Pay at Check-in</th>\n",
              "      <td>0.001360</td>\n",
              "    </tr>\n",
              "    <tr>\n",
              "      <th>request_nonesmoke</th>\n",
              "      <td>0.001337</td>\n",
              "    </tr>\n",
              "    <tr>\n",
              "      <th>cancellation_price_-5_days</th>\n",
              "      <td>0.001313</td>\n",
              "    </tr>\n",
              "    <tr>\n",
              "      <th>cancellation_price_-60_days</th>\n",
              "      <td>0.001252</td>\n",
              "    </tr>\n",
              "    <tr>\n",
              "      <th>origin_country_code_MO</th>\n",
              "      <td>0.001138</td>\n",
              "    </tr>\n",
              "    <tr>\n",
              "      <th>hotel_country_code_JP</th>\n",
              "      <td>0.001096</td>\n",
              "    </tr>\n",
              "    <tr>\n",
              "      <th>customer_nationality_Thailand</th>\n",
              "      <td>0.001060</td>\n",
              "    </tr>\n",
              "    <tr>\n",
              "      <th>charge_option_Pay Later</th>\n",
              "      <td>0.001040</td>\n",
              "    </tr>\n",
              "    <tr>\n",
              "      <th>original_payment_method_Visa</th>\n",
              "      <td>0.000920</td>\n",
              "    </tr>\n",
              "    <tr>\n",
              "      <th>cancellation_price_-80_days</th>\n",
              "      <td>0.000834</td>\n",
              "    </tr>\n",
              "    <tr>\n",
              "      <th>hotel_country_code_KR</th>\n",
              "      <td>0.000830</td>\n",
              "    </tr>\n",
              "    <tr>\n",
              "      <th>is_user_logged_in</th>\n",
              "      <td>0.000745</td>\n",
              "    </tr>\n",
              "    <tr>\n",
              "      <th>origin_country_code_GB</th>\n",
              "      <td>0.000731</td>\n",
              "    </tr>\n",
              "    <tr>\n",
              "      <th>original_payment_method_American Express</th>\n",
              "      <td>0.000710</td>\n",
              "    </tr>\n",
              "    <tr>\n",
              "      <th>cancellation_price_-30_days</th>\n",
              "      <td>0.000704</td>\n",
              "    </tr>\n",
              "    <tr>\n",
              "      <th>charge_option_Pay Now</th>\n",
              "      <td>0.000698</td>\n",
              "    </tr>\n",
              "    <tr>\n",
              "      <th>customer_nationality_Singapore</th>\n",
              "      <td>0.000666</td>\n",
              "    </tr>\n",
              "    <tr>\n",
              "      <th>hotel_country_code_US</th>\n",
              "      <td>0.000637</td>\n",
              "    </tr>\n",
              "    <tr>\n",
              "      <th>cancellation_price_-100_days</th>\n",
              "      <td>0.000588</td>\n",
              "    </tr>\n",
              "  </tbody>\n",
              "</table>\n",
              "</div>\n",
              "      <button class=\"colab-df-convert\" onclick=\"convertToInteractive('df-016e7828-ffba-4d3b-bd14-482ef48e7138')\"\n",
              "              title=\"Convert this dataframe to an interactive table.\"\n",
              "              style=\"display:none;\">\n",
              "        \n",
              "  <svg xmlns=\"http://www.w3.org/2000/svg\" height=\"24px\"viewBox=\"0 0 24 24\"\n",
              "       width=\"24px\">\n",
              "    <path d=\"M0 0h24v24H0V0z\" fill=\"none\"/>\n",
              "    <path d=\"M18.56 5.44l.94 2.06.94-2.06 2.06-.94-2.06-.94-.94-2.06-.94 2.06-2.06.94zm-11 1L8.5 8.5l.94-2.06 2.06-.94-2.06-.94L8.5 2.5l-.94 2.06-2.06.94zm10 10l.94 2.06.94-2.06 2.06-.94-2.06-.94-.94-2.06-.94 2.06-2.06.94z\"/><path d=\"M17.41 7.96l-1.37-1.37c-.4-.4-.92-.59-1.43-.59-.52 0-1.04.2-1.43.59L10.3 9.45l-7.72 7.72c-.78.78-.78 2.05 0 2.83L4 21.41c.39.39.9.59 1.41.59.51 0 1.02-.2 1.41-.59l7.78-7.78 2.81-2.81c.8-.78.8-2.07 0-2.86zM5.41 20L4 18.59l7.72-7.72 1.47 1.35L5.41 20z\"/>\n",
              "  </svg>\n",
              "      </button>\n",
              "      \n",
              "  <style>\n",
              "    .colab-df-container {\n",
              "      display:flex;\n",
              "      flex-wrap:wrap;\n",
              "      gap: 12px;\n",
              "    }\n",
              "\n",
              "    .colab-df-convert {\n",
              "      background-color: #E8F0FE;\n",
              "      border: none;\n",
              "      border-radius: 50%;\n",
              "      cursor: pointer;\n",
              "      display: none;\n",
              "      fill: #1967D2;\n",
              "      height: 32px;\n",
              "      padding: 0 0 0 0;\n",
              "      width: 32px;\n",
              "    }\n",
              "\n",
              "    .colab-df-convert:hover {\n",
              "      background-color: #E2EBFA;\n",
              "      box-shadow: 0px 1px 2px rgba(60, 64, 67, 0.3), 0px 1px 3px 1px rgba(60, 64, 67, 0.15);\n",
              "      fill: #174EA6;\n",
              "    }\n",
              "\n",
              "    [theme=dark] .colab-df-convert {\n",
              "      background-color: #3B4455;\n",
              "      fill: #D2E3FC;\n",
              "    }\n",
              "\n",
              "    [theme=dark] .colab-df-convert:hover {\n",
              "      background-color: #434B5C;\n",
              "      box-shadow: 0px 1px 3px 1px rgba(0, 0, 0, 0.15);\n",
              "      filter: drop-shadow(0px 1px 2px rgba(0, 0, 0, 0.3));\n",
              "      fill: #FFFFFF;\n",
              "    }\n",
              "  </style>\n",
              "\n",
              "      <script>\n",
              "        const buttonEl =\n",
              "          document.querySelector('#df-016e7828-ffba-4d3b-bd14-482ef48e7138 button.colab-df-convert');\n",
              "        buttonEl.style.display =\n",
              "          google.colab.kernel.accessAllowed ? 'block' : 'none';\n",
              "\n",
              "        async function convertToInteractive(key) {\n",
              "          const element = document.querySelector('#df-016e7828-ffba-4d3b-bd14-482ef48e7138');\n",
              "          const dataTable =\n",
              "            await google.colab.kernel.invokeFunction('convertToInteractive',\n",
              "                                                     [key], {});\n",
              "          if (!dataTable) return;\n",
              "\n",
              "          const docLinkHtml = 'Like what you see? Visit the ' +\n",
              "            '<a target=\"_blank\" href=https://colab.research.google.com/notebooks/data_table.ipynb>data table notebook</a>'\n",
              "            + ' to learn more about interactive tables.';\n",
              "          element.innerHTML = '';\n",
              "          dataTable['output_type'] = 'display_data';\n",
              "          await google.colab.output.renderOutput(dataTable, element);\n",
              "          const docLink = document.createElement('div');\n",
              "          docLink.innerHTML = docLinkHtml;\n",
              "          element.appendChild(docLink);\n",
              "        }\n",
              "      </script>\n",
              "    </div>\n",
              "  </div>\n",
              "  "
            ]
          },
          "metadata": {},
          "execution_count": 66
        }
      ]
    },
    {
      "cell_type": "markdown",
      "source": [
        "## Hyper-Params #1 (GradientBoostedRegressor)"
      ],
      "metadata": {
        "id": "_mIjD5j10MoR"
      }
    },
    {
      "cell_type": "code",
      "source": [
        "np.random.seed(0)\n",
        "from sklearn.ensemble import GradientBoostingRegressor\n",
        "from sklearn.model_selection import GridSearchCV\n",
        "# .fit(train_X, train_y)\n",
        "estimator = GradientBoostingRegressor()"
      ],
      "metadata": {
        "id": "NqjBLAH90Kmv"
      },
      "execution_count": null,
      "outputs": []
    },
    {
      "cell_type": "code",
      "source": [
        "estimator.get_params().keys()"
      ],
      "metadata": {
        "colab": {
          "base_uri": "https://localhost:8080/"
        },
        "id": "CYgmm7pXKY2j",
        "outputId": "a5f268b2-3809-484e-828a-aa1e2fc0be8d"
      },
      "execution_count": null,
      "outputs": [
        {
          "output_type": "execute_result",
          "data": {
            "text/plain": [
              "dict_keys(['alpha', 'ccp_alpha', 'criterion', 'init', 'learning_rate', 'loss', 'max_depth', 'max_features', 'max_leaf_nodes', 'min_impurity_decrease', 'min_samples_leaf', 'min_samples_split', 'min_weight_fraction_leaf', 'n_estimators', 'n_iter_no_change', 'random_state', 'subsample', 'tol', 'validation_fraction', 'verbose', 'warm_start'])"
            ]
          },
          "metadata": {},
          "execution_count": 45
        }
      ]
    },
    {
      "cell_type": "code",
      "source": [
        "param_grid={'learning_rate': [0.1,0.01], 'max_depth':[3,4,6,8,9], 'min_samples_leaf':[1,5,10], \"n_estimators\":[100,200,300], \"subsample\":[0.5,1], \"verbose\":[0]}\n",
        "clf = GridSearchCV(estimator, param_grid=param_grid, cv=2, verbose=3)\n",
        "clf.fit(train_X, train_y)"
      ],
      "metadata": {
        "id": "aeHYH2WvJ-Vc"
      },
      "execution_count": null,
      "outputs": []
    },
    {
      "cell_type": "code",
      "source": [
        "clf.best_score_"
      ],
      "metadata": {
        "colab": {
          "base_uri": "https://localhost:8080/"
        },
        "id": "ldvPLu3eXq3M",
        "outputId": "effa8641-c2a1-4e06-9ccc-9306f956cc89"
      },
      "execution_count": null,
      "outputs": [
        {
          "output_type": "execute_result",
          "data": {
            "text/plain": [
              "0.7044821101691023"
            ]
          },
          "metadata": {},
          "execution_count": 68
        }
      ]
    },
    {
      "cell_type": "code",
      "source": [
        "clf.best_params_"
      ],
      "metadata": {
        "colab": {
          "base_uri": "https://localhost:8080/"
        },
        "id": "yutjhT6XejoB",
        "outputId": "dc7b0763-654a-4e3e-a146-408ef4832b57"
      },
      "execution_count": null,
      "outputs": [
        {
          "output_type": "execute_result",
          "data": {
            "text/plain": [
              "{'learning_rate': 0.01,\n",
              " 'max_depth': 3,\n",
              " 'min_samples_leaf': 1,\n",
              " 'n_estimators': 300,\n",
              " 'subsample': 0.5,\n",
              " 'verbose': 0}"
            ]
          },
          "metadata": {},
          "execution_count": 69
        }
      ]
    },
    {
      "cell_type": "code",
      "source": [
        "# from sklearn.externals import joblib\n",
        "\n",
        "# joblib.dump(clf, 'model_file_name.pkl')"
      ],
      "metadata": {
        "id": "q7lv4G5MLUSt"
      },
      "execution_count": null,
      "outputs": []
    },
    {
      "cell_type": "markdown",
      "source": [
        "## Fitting Regressor #2 (KNN)"
      ],
      "metadata": {
        "id": "_g5FRbHw-NL6"
      }
    },
    {
      "cell_type": "code",
      "source": [
        "np.random.seed(0)\n",
        "train_X, test_X, train_y , test_y = train_test_split(df_small_null, cancellation_labels_small_null)\n",
        "\n",
        "from sklearn.neighbors import KNeighborsRegressor\n",
        "regressor = KNeighborsRegressor(n_neighbors=20, weights=\"distance\").fit(train_X, train_y)"
      ],
      "metadata": {
        "id": "tYnkX5_t-Mlm"
      },
      "execution_count": null,
      "outputs": []
    },
    {
      "cell_type": "code",
      "source": [
        "err = sklearn.metrics.mean_squared_error(regressor.predict(test_X), test_y)\n",
        "print(f\"MSE: {err}\\nsquared MSE: {np.sqrt(err)}\")"
      ],
      "metadata": {
        "colab": {
          "base_uri": "https://localhost:8080/"
        },
        "outputId": "0c33d210-b3e5-401f-c723-95ba9216a728",
        "id": "slkEKxu6_vUR"
      },
      "execution_count": null,
      "outputs": [
        {
          "output_type": "stream",
          "name": "stdout",
          "text": [
            "MSE: 1627.9705522302252\n",
            "squared MSE: 40.34811708407501\n"
          ]
        }
      ]
    },
    {
      "cell_type": "markdown",
      "source": [
        "## Hyper-Params #2 (KNN)"
      ],
      "metadata": {
        "id": "ZcOmcbyoAEoE"
      }
    },
    {
      "cell_type": "code",
      "source": [
        "from sklearn.neighbors import KNeighborsRegressor\n",
        "from sklearn.model_selection import GridSearchCV\n",
        "np.random.seed(0)\n",
        "\n",
        "estimator = KNeighborsRegressor()"
      ],
      "metadata": {
        "id": "xiVSPaYhAL4a"
      },
      "execution_count": null,
      "outputs": []
    },
    {
      "cell_type": "code",
      "source": [
        "estimator.get_params().keys()"
      ],
      "metadata": {
        "colab": {
          "base_uri": "https://localhost:8080/"
        },
        "outputId": "170e8222-ab9c-4ec6-beea-d513621f4e68",
        "id": "B9twGjPOA2Gx"
      },
      "execution_count": null,
      "outputs": [
        {
          "output_type": "execute_result",
          "data": {
            "text/plain": [
              "dict_keys(['algorithm', 'leaf_size', 'metric', 'metric_params', 'n_jobs', 'n_neighbors', 'p', 'weights'])"
            ]
          },
          "metadata": {},
          "execution_count": 22
        }
      ]
    },
    {
      "cell_type": "code",
      "source": [
        "param_grid={'n_neighbors': list(range(1,100)), 'weights': ['uniform', 'distance']}\n",
        "clf = GridSearchCV(estimator, param_grid=param_grid, cv=4, verbose=3)\n",
        "clf.fit(train_X, train_y)"
      ],
      "metadata": {
        "id": "nvytkDiCAAp3"
      },
      "execution_count": null,
      "outputs": []
    },
    {
      "cell_type": "code",
      "source": [
        "clf.best_score_"
      ],
      "metadata": {
        "colab": {
          "base_uri": "https://localhost:8080/"
        },
        "outputId": "c5e0a725-5058-4fbc-9177-38cbccfffdff",
        "id": "RsvOhYZfA2Gx"
      },
      "execution_count": null,
      "outputs": [
        {
          "output_type": "execute_result",
          "data": {
            "text/plain": [
              "0.5597626151217254"
            ]
          },
          "metadata": {},
          "execution_count": 28
        }
      ]
    },
    {
      "cell_type": "code",
      "source": [
        "clf.best_params_"
      ],
      "metadata": {
        "colab": {
          "base_uri": "https://localhost:8080/"
        },
        "outputId": "3f1a7c76-70b8-40f0-c3fb-e4561361e7fd",
        "id": "4xNQNi32A2Gx"
      },
      "execution_count": null,
      "outputs": [
        {
          "output_type": "execute_result",
          "data": {
            "text/plain": [
              "{'n_neighbors': 20, 'weights': 'distance'}"
            ]
          },
          "metadata": {},
          "execution_count": 29
        }
      ]
    },
    {
      "cell_type": "markdown",
      "source": [
        "## Fitting Regressor #3 (MLPRegressor)"
      ],
      "metadata": {
        "id": "j4k_VnrFOnni"
      }
    },
    {
      "cell_type": "code",
      "source": [
        "np.random.seed(0)\n",
        "train_X, test_X, train_y , test_y = train_test_split(df_small_null, cancellation_labels_small_null)\n",
        "\n",
        "from sklearn.neural_network import MLPRegressor\n",
        "regressor = MLPRegressor(hidden_layer_sizes=(1200,), activation=\"logistic\", alpha=1, learning_rate=\"invscaling\", learning_rate_init=0.001, max_iter=1000, n_iter_no_change=15, verbose=1).fit(train_X, train_y)"
      ],
      "metadata": {
        "colab": {
          "base_uri": "https://localhost:8080/"
        },
        "outputId": "1a092277-ccc4-4880-bb77-6680a3443ede",
        "id": "j2ThK3W0Onno"
      },
      "execution_count": null,
      "outputs": [
        {
          "output_type": "stream",
          "name": "stdout",
          "text": [
            "Iteration 1, loss = 1732.17449584\n",
            "Iteration 2, loss = 1456.51923925\n",
            "Iteration 3, loss = 1344.28836331\n",
            "Iteration 4, loss = 1287.11954535\n",
            "Iteration 5, loss = 1230.58635654\n",
            "Iteration 6, loss = 1171.28951508\n",
            "Iteration 7, loss = 1103.16291223\n",
            "Iteration 8, loss = 1035.35344214\n",
            "Iteration 9, loss = 966.57093848\n",
            "Iteration 10, loss = 899.84714775\n",
            "Iteration 11, loss = 841.47690136\n",
            "Iteration 12, loss = 789.30191765\n",
            "Iteration 13, loss = 743.33738482\n",
            "Iteration 14, loss = 705.22342237\n",
            "Iteration 15, loss = 670.22254564\n",
            "Iteration 16, loss = 644.46941667\n",
            "Iteration 17, loss = 617.88543278\n",
            "Iteration 18, loss = 597.14135218\n",
            "Iteration 19, loss = 577.70218962\n",
            "Iteration 20, loss = 565.17423643\n",
            "Iteration 21, loss = 551.80545791\n",
            "Iteration 22, loss = 543.48732027\n",
            "Iteration 23, loss = 537.26599449\n",
            "Iteration 24, loss = 524.39175918\n",
            "Iteration 25, loss = 517.71102128\n",
            "Iteration 26, loss = 505.57732523\n",
            "Iteration 27, loss = 493.30854562\n",
            "Iteration 28, loss = 488.19816771\n",
            "Iteration 29, loss = 479.36208573\n",
            "Iteration 30, loss = 470.88518904\n",
            "Iteration 31, loss = 469.36040025\n",
            "Iteration 32, loss = 463.76383024\n",
            "Iteration 33, loss = 453.99374543\n",
            "Iteration 34, loss = 452.67778580\n",
            "Iteration 35, loss = 450.61890234\n",
            "Iteration 36, loss = 441.76610192\n",
            "Iteration 37, loss = 440.34443862\n",
            "Iteration 38, loss = 434.39645341\n",
            "Iteration 39, loss = 429.93372542\n",
            "Iteration 40, loss = 423.73599653\n",
            "Iteration 41, loss = 420.69840054\n",
            "Iteration 42, loss = 416.03774222\n",
            "Iteration 43, loss = 414.61958843\n",
            "Iteration 44, loss = 413.70153499\n",
            "Iteration 45, loss = 411.18380090\n",
            "Iteration 46, loss = 407.09971791\n",
            "Iteration 47, loss = 408.46388665\n",
            "Iteration 48, loss = 401.66369149\n",
            "Iteration 49, loss = 403.25970943\n",
            "Iteration 50, loss = 399.04405088\n",
            "Iteration 51, loss = 399.29883981\n",
            "Iteration 52, loss = 398.42693541\n",
            "Iteration 53, loss = 395.57249384\n",
            "Iteration 54, loss = 396.22892974\n",
            "Iteration 55, loss = 393.93632887\n",
            "Iteration 56, loss = 388.67404245\n",
            "Iteration 57, loss = 383.69170202\n",
            "Iteration 58, loss = 382.37796134\n",
            "Iteration 59, loss = 380.18294652\n",
            "Iteration 60, loss = 380.91464836\n",
            "Iteration 61, loss = 384.86092081\n",
            "Iteration 62, loss = 377.50330411\n",
            "Iteration 63, loss = 376.20576486\n",
            "Iteration 64, loss = 379.61654637\n",
            "Iteration 65, loss = 375.03746737\n",
            "Iteration 66, loss = 376.40517395\n",
            "Iteration 67, loss = 369.49924909\n",
            "Iteration 68, loss = 370.71855270\n",
            "Iteration 69, loss = 367.43275235\n",
            "Iteration 70, loss = 365.45365186\n",
            "Iteration 71, loss = 367.07290364\n",
            "Iteration 72, loss = 361.65859195\n",
            "Iteration 73, loss = 361.80810364\n",
            "Iteration 74, loss = 359.77478897\n",
            "Iteration 75, loss = 359.31775066\n",
            "Iteration 76, loss = 363.39131186\n",
            "Iteration 77, loss = 359.71713915\n",
            "Iteration 78, loss = 358.07885001\n",
            "Iteration 79, loss = 359.88601878\n",
            "Iteration 80, loss = 354.43909211\n",
            "Iteration 81, loss = 354.51332998\n",
            "Iteration 82, loss = 356.72024447\n",
            "Iteration 83, loss = 361.53310369\n",
            "Iteration 84, loss = 352.13636600\n",
            "Iteration 85, loss = 356.32286861\n",
            "Iteration 86, loss = 346.49020409\n",
            "Iteration 87, loss = 348.99264304\n",
            "Iteration 88, loss = 349.91082012\n",
            "Iteration 89, loss = 348.91533615\n",
            "Iteration 90, loss = 344.60902883\n",
            "Iteration 91, loss = 349.40378920\n",
            "Iteration 92, loss = 351.88712233\n",
            "Iteration 93, loss = 345.27969178\n",
            "Iteration 94, loss = 342.72837209\n",
            "Iteration 95, loss = 342.62193599\n",
            "Iteration 96, loss = 345.13174670\n",
            "Iteration 97, loss = 347.50885767\n",
            "Iteration 98, loss = 342.23723047\n",
            "Iteration 99, loss = 336.73302241\n",
            "Iteration 100, loss = 336.60136457\n",
            "Iteration 101, loss = 332.10341479\n",
            "Iteration 102, loss = 332.20892870\n",
            "Iteration 103, loss = 336.68426682\n",
            "Iteration 104, loss = 332.86211874\n",
            "Iteration 105, loss = 332.89218511\n",
            "Iteration 106, loss = 328.97151349\n",
            "Iteration 107, loss = 330.13250038\n",
            "Iteration 108, loss = 329.29508947\n",
            "Iteration 109, loss = 330.01796602\n",
            "Iteration 110, loss = 338.92539727\n",
            "Iteration 111, loss = 337.74696511\n",
            "Iteration 112, loss = 326.43545141\n",
            "Iteration 113, loss = 326.13870929\n",
            "Iteration 114, loss = 324.36975052\n",
            "Iteration 115, loss = 321.40295601\n",
            "Iteration 116, loss = 318.81192632\n",
            "Iteration 117, loss = 319.79074710\n",
            "Iteration 118, loss = 320.46899995\n",
            "Iteration 119, loss = 317.80688784\n",
            "Iteration 120, loss = 317.95538309\n",
            "Iteration 121, loss = 313.93780696\n",
            "Iteration 122, loss = 312.28604321\n",
            "Iteration 123, loss = 314.01842519\n",
            "Iteration 124, loss = 312.21350965\n",
            "Iteration 125, loss = 309.70778487\n",
            "Iteration 126, loss = 307.62655094\n",
            "Iteration 127, loss = 307.98292722\n",
            "Iteration 128, loss = 304.85055868\n",
            "Iteration 129, loss = 307.41611008\n",
            "Iteration 130, loss = 308.55619881\n",
            "Iteration 131, loss = 302.48062634\n",
            "Iteration 132, loss = 306.01356890\n",
            "Iteration 133, loss = 305.09766216\n",
            "Iteration 134, loss = 302.62607081\n",
            "Iteration 135, loss = 302.69979625\n",
            "Iteration 136, loss = 304.27269407\n",
            "Iteration 137, loss = 303.81479032\n",
            "Iteration 138, loss = 298.18098535\n",
            "Iteration 139, loss = 299.63061432\n",
            "Iteration 140, loss = 301.02221032\n",
            "Iteration 141, loss = 302.53862155\n",
            "Iteration 142, loss = 301.26138687\n",
            "Iteration 143, loss = 299.25996639\n",
            "Iteration 144, loss = 297.35078327\n",
            "Iteration 145, loss = 302.61197409\n",
            "Iteration 146, loss = 298.42907177\n",
            "Iteration 147, loss = 296.64866125\n",
            "Iteration 148, loss = 294.74675321\n",
            "Iteration 149, loss = 296.83502180\n",
            "Iteration 150, loss = 293.07189989\n",
            "Iteration 151, loss = 292.20752022\n",
            "Iteration 152, loss = 305.18735027\n",
            "Iteration 153, loss = 304.53882877\n",
            "Iteration 154, loss = 296.33656631\n",
            "Iteration 155, loss = 294.92458557\n",
            "Iteration 156, loss = 293.79432298\n",
            "Iteration 157, loss = 288.27271143\n",
            "Iteration 158, loss = 290.46945148\n",
            "Iteration 159, loss = 292.57950392\n",
            "Iteration 160, loss = 293.94890069\n",
            "Iteration 161, loss = 291.06502956\n",
            "Iteration 162, loss = 293.31886380\n",
            "Iteration 163, loss = 294.41797104\n",
            "Iteration 164, loss = 286.61227638\n",
            "Iteration 165, loss = 287.22747190\n",
            "Iteration 166, loss = 285.04285974\n",
            "Iteration 167, loss = 283.26994035\n",
            "Iteration 168, loss = 280.30994227\n",
            "Iteration 169, loss = 281.76946458\n",
            "Iteration 170, loss = 282.74862419\n",
            "Iteration 171, loss = 281.01749909\n",
            "Iteration 172, loss = 277.74528556\n",
            "Iteration 173, loss = 278.56081850\n",
            "Iteration 174, loss = 278.09624228\n",
            "Iteration 175, loss = 277.66038498\n",
            "Iteration 176, loss = 279.24430754\n",
            "Iteration 177, loss = 278.25142213\n",
            "Iteration 178, loss = 277.37158370\n",
            "Iteration 179, loss = 271.95398530\n",
            "Iteration 180, loss = 269.39205232\n",
            "Iteration 181, loss = 268.67365169\n",
            "Iteration 182, loss = 276.63273948\n",
            "Iteration 183, loss = 281.60830615\n",
            "Iteration 184, loss = 280.39920201\n",
            "Iteration 185, loss = 275.81558877\n",
            "Iteration 186, loss = 283.12179035\n",
            "Iteration 187, loss = 274.41888757\n",
            "Iteration 188, loss = 273.81592334\n",
            "Iteration 189, loss = 276.40839434\n",
            "Iteration 190, loss = 276.28381490\n",
            "Iteration 191, loss = 274.08709890\n",
            "Iteration 192, loss = 270.94842796\n",
            "Iteration 193, loss = 268.48914249\n",
            "Iteration 194, loss = 265.40184282\n",
            "Iteration 195, loss = 264.54099855\n",
            "Iteration 196, loss = 268.13127174\n",
            "Iteration 197, loss = 272.51945959\n",
            "Iteration 198, loss = 267.47837201\n",
            "Iteration 199, loss = 262.91099166\n",
            "Iteration 200, loss = 263.15752116\n",
            "Iteration 201, loss = 264.49651189\n",
            "Iteration 202, loss = 262.86326541\n",
            "Iteration 203, loss = 259.03212274\n",
            "Iteration 204, loss = 260.83101044\n",
            "Iteration 205, loss = 257.41953083\n",
            "Iteration 206, loss = 256.74746844\n",
            "Iteration 207, loss = 254.87238517\n",
            "Iteration 208, loss = 254.22267338\n",
            "Iteration 209, loss = 256.07673135\n",
            "Iteration 210, loss = 268.84854183\n",
            "Iteration 211, loss = 268.20165445\n",
            "Iteration 212, loss = 267.71503188\n",
            "Iteration 213, loss = 267.94855926\n",
            "Iteration 214, loss = 262.06020493\n",
            "Iteration 215, loss = 257.17229089\n",
            "Iteration 216, loss = 252.39364544\n",
            "Iteration 217, loss = 251.36660743\n",
            "Iteration 218, loss = 254.17637253\n",
            "Iteration 219, loss = 253.24466034\n",
            "Iteration 220, loss = 255.54327500\n",
            "Iteration 221, loss = 253.94353361\n",
            "Iteration 222, loss = 252.87497162\n",
            "Iteration 223, loss = 248.16247865\n",
            "Iteration 224, loss = 252.03177004\n",
            "Iteration 225, loss = 257.24634311\n",
            "Iteration 226, loss = 253.75397260\n",
            "Iteration 227, loss = 246.50899618\n",
            "Iteration 228, loss = 244.71249914\n",
            "Iteration 229, loss = 243.89215425\n",
            "Iteration 230, loss = 241.68552766\n",
            "Iteration 231, loss = 242.99392524\n",
            "Iteration 232, loss = 242.57050497\n",
            "Iteration 233, loss = 244.36693151\n",
            "Iteration 234, loss = 248.18840246\n",
            "Iteration 235, loss = 247.56011474\n",
            "Iteration 236, loss = 243.28442750\n",
            "Iteration 237, loss = 243.95213982\n",
            "Iteration 238, loss = 243.13119274\n",
            "Iteration 239, loss = 245.59363504\n",
            "Iteration 240, loss = 243.87087167\n",
            "Iteration 241, loss = 246.98290082\n",
            "Iteration 242, loss = 244.14815703\n",
            "Iteration 243, loss = 238.54869062\n",
            "Iteration 244, loss = 237.68816229\n",
            "Iteration 245, loss = 233.97312315\n",
            "Iteration 246, loss = 233.10054728\n",
            "Iteration 247, loss = 236.16138624\n",
            "Iteration 248, loss = 238.13552316\n",
            "Iteration 249, loss = 240.14207183\n",
            "Iteration 250, loss = 246.85768136\n",
            "Iteration 251, loss = 247.86554192\n",
            "Iteration 252, loss = 246.91798068\n",
            "Iteration 253, loss = 244.26818649\n",
            "Iteration 254, loss = 238.41816447\n",
            "Iteration 255, loss = 235.06792160\n",
            "Iteration 256, loss = 234.32295805\n",
            "Iteration 257, loss = 233.54668615\n",
            "Iteration 258, loss = 232.01238247\n",
            "Iteration 259, loss = 230.17703975\n",
            "Iteration 260, loss = 232.01814316\n",
            "Iteration 261, loss = 236.31190860\n",
            "Iteration 262, loss = 234.07591880\n",
            "Iteration 263, loss = 232.49405099\n",
            "Iteration 264, loss = 230.24573855\n",
            "Iteration 265, loss = 228.14708639\n",
            "Iteration 266, loss = 229.84027347\n",
            "Iteration 267, loss = 230.03551687\n",
            "Iteration 268, loss = 229.20752085\n",
            "Iteration 269, loss = 227.93830908\n",
            "Iteration 270, loss = 226.90566380\n",
            "Iteration 271, loss = 224.55647803\n",
            "Iteration 272, loss = 224.65054194\n",
            "Iteration 273, loss = 224.28232274\n",
            "Iteration 274, loss = 223.00788273\n",
            "Iteration 275, loss = 223.40891427\n",
            "Iteration 276, loss = 222.66497269\n",
            "Iteration 277, loss = 224.80461102\n",
            "Iteration 278, loss = 225.44482204\n",
            "Iteration 279, loss = 226.02403782\n",
            "Iteration 280, loss = 219.69460925\n",
            "Iteration 281, loss = 219.50271512\n",
            "Iteration 282, loss = 222.24520336\n",
            "Iteration 283, loss = 223.37723474\n",
            "Iteration 284, loss = 221.58584769\n",
            "Iteration 285, loss = 220.67981515\n",
            "Iteration 286, loss = 217.32335254\n",
            "Iteration 287, loss = 215.78980955\n",
            "Iteration 288, loss = 218.38673211\n",
            "Iteration 289, loss = 219.61648536\n",
            "Iteration 290, loss = 217.05764538\n",
            "Iteration 291, loss = 219.97437873\n",
            "Iteration 292, loss = 223.60819986\n",
            "Iteration 293, loss = 227.13076289\n",
            "Iteration 294, loss = 229.28818325\n",
            "Iteration 295, loss = 228.61737029\n",
            "Iteration 296, loss = 219.23947891\n",
            "Iteration 297, loss = 216.96244474\n",
            "Iteration 298, loss = 215.94323542\n",
            "Iteration 299, loss = 215.09691903\n",
            "Iteration 300, loss = 215.38108110\n",
            "Iteration 301, loss = 213.56201744\n",
            "Iteration 302, loss = 216.89856699\n",
            "Iteration 303, loss = 216.61903241\n",
            "Iteration 304, loss = 212.74144559\n",
            "Iteration 305, loss = 212.68964181\n",
            "Iteration 306, loss = 214.85913072\n",
            "Iteration 307, loss = 212.29580588\n",
            "Iteration 308, loss = 207.69253932\n",
            "Iteration 309, loss = 207.80720850\n",
            "Iteration 310, loss = 205.47045865\n",
            "Iteration 311, loss = 210.24689999\n",
            "Iteration 312, loss = 207.63352091\n",
            "Iteration 313, loss = 207.37953913\n",
            "Iteration 314, loss = 208.29003377\n",
            "Iteration 315, loss = 209.26646698\n",
            "Iteration 316, loss = 210.22851668\n",
            "Iteration 317, loss = 211.69743604\n",
            "Iteration 318, loss = 208.78349104\n",
            "Iteration 319, loss = 207.25023347\n",
            "Iteration 320, loss = 207.00518318\n",
            "Iteration 321, loss = 206.09353098\n",
            "Iteration 322, loss = 207.89018367\n",
            "Iteration 323, loss = 204.73913023\n",
            "Iteration 324, loss = 203.34051886\n",
            "Iteration 325, loss = 202.79505833\n",
            "Iteration 326, loss = 201.63658435\n",
            "Iteration 327, loss = 202.41012384\n",
            "Iteration 328, loss = 203.22945280\n",
            "Iteration 329, loss = 204.61480571\n",
            "Iteration 330, loss = 208.28539663\n",
            "Iteration 331, loss = 205.51792945\n",
            "Iteration 332, loss = 205.24306868\n",
            "Iteration 333, loss = 202.03483538\n",
            "Iteration 334, loss = 199.54578429\n",
            "Iteration 335, loss = 204.43410283\n",
            "Iteration 336, loss = 198.90758391\n",
            "Iteration 337, loss = 200.75402428\n",
            "Iteration 338, loss = 198.93873116\n",
            "Iteration 339, loss = 200.16523344\n",
            "Iteration 340, loss = 199.95460223\n",
            "Iteration 341, loss = 198.72190336\n",
            "Iteration 342, loss = 198.71893330\n",
            "Iteration 343, loss = 194.93047006\n",
            "Iteration 344, loss = 201.81106824\n",
            "Iteration 345, loss = 211.15373121\n",
            "Iteration 346, loss = 203.19049367\n",
            "Iteration 347, loss = 199.04952483\n",
            "Iteration 348, loss = 196.30263887\n",
            "Iteration 349, loss = 197.47337282\n",
            "Iteration 350, loss = 195.73793945\n",
            "Iteration 351, loss = 196.65428844\n",
            "Iteration 352, loss = 193.88724389\n",
            "Iteration 353, loss = 194.46335546\n",
            "Iteration 354, loss = 193.97328726\n",
            "Iteration 355, loss = 195.89448083\n",
            "Iteration 356, loss = 196.35804255\n",
            "Iteration 357, loss = 194.86652021\n",
            "Iteration 358, loss = 194.38734080\n",
            "Iteration 359, loss = 192.71102445\n",
            "Iteration 360, loss = 190.27116909\n",
            "Iteration 361, loss = 188.38673969\n",
            "Iteration 362, loss = 186.42423990\n",
            "Iteration 363, loss = 185.20538829\n",
            "Iteration 364, loss = 188.86140495\n",
            "Iteration 365, loss = 188.00080194\n",
            "Iteration 366, loss = 187.96827642\n",
            "Iteration 367, loss = 190.36363533\n",
            "Iteration 368, loss = 194.48216085\n",
            "Iteration 369, loss = 189.34344306\n",
            "Iteration 370, loss = 186.76809819\n",
            "Iteration 371, loss = 189.42942292\n",
            "Iteration 372, loss = 190.61713383\n",
            "Iteration 373, loss = 191.86390877\n",
            "Iteration 374, loss = 191.50540150\n",
            "Iteration 375, loss = 182.93968129\n",
            "Iteration 376, loss = 185.14480742\n",
            "Iteration 377, loss = 184.38472204\n",
            "Iteration 378, loss = 183.70911037\n",
            "Iteration 379, loss = 181.98491564\n",
            "Iteration 380, loss = 185.43908035\n",
            "Iteration 381, loss = 184.09334341\n",
            "Iteration 382, loss = 182.42082282\n",
            "Iteration 383, loss = 192.48502569\n",
            "Iteration 384, loss = 187.39979517\n",
            "Iteration 385, loss = 187.06550014\n",
            "Iteration 386, loss = 183.28421160\n",
            "Iteration 387, loss = 184.53626180\n",
            "Iteration 388, loss = 186.50507915\n",
            "Iteration 389, loss = 181.03077104\n",
            "Iteration 390, loss = 181.70691727\n",
            "Iteration 391, loss = 179.19917162\n",
            "Iteration 392, loss = 177.22450510\n",
            "Iteration 393, loss = 177.14672078\n",
            "Iteration 394, loss = 179.28103806\n",
            "Iteration 395, loss = 177.42655648\n",
            "Iteration 396, loss = 182.01117611\n",
            "Iteration 397, loss = 181.65337714\n",
            "Iteration 398, loss = 180.81520140\n",
            "Iteration 399, loss = 177.58730228\n",
            "Iteration 400, loss = 177.84560380\n",
            "Iteration 401, loss = 176.24251358\n",
            "Iteration 402, loss = 175.62710353\n",
            "Iteration 403, loss = 179.04436881\n",
            "Iteration 404, loss = 177.68850825\n",
            "Iteration 405, loss = 177.31393937\n",
            "Iteration 406, loss = 175.19158453\n",
            "Iteration 407, loss = 174.48891805\n",
            "Iteration 408, loss = 173.98350743\n",
            "Iteration 409, loss = 179.66695715\n",
            "Iteration 410, loss = 171.89684937\n",
            "Iteration 411, loss = 172.61426793\n",
            "Iteration 412, loss = 172.62181421\n",
            "Iteration 413, loss = 171.65085028\n",
            "Iteration 414, loss = 176.42509408\n",
            "Iteration 415, loss = 176.55602911\n",
            "Iteration 416, loss = 173.35728720\n",
            "Iteration 417, loss = 172.60926590\n",
            "Iteration 418, loss = 174.87415223\n",
            "Iteration 419, loss = 172.73760760\n",
            "Iteration 420, loss = 170.30376460\n",
            "Iteration 421, loss = 171.75998338\n",
            "Iteration 422, loss = 172.71498214\n",
            "Iteration 423, loss = 170.12134261\n",
            "Iteration 424, loss = 168.67427757\n",
            "Iteration 425, loss = 168.27306905\n",
            "Iteration 426, loss = 168.19816578\n",
            "Iteration 427, loss = 167.07430107\n",
            "Iteration 428, loss = 167.53154917\n",
            "Iteration 429, loss = 170.32611468\n",
            "Iteration 430, loss = 166.85963064\n",
            "Iteration 431, loss = 170.90374486\n",
            "Iteration 432, loss = 169.96849718\n",
            "Iteration 433, loss = 165.41414819\n",
            "Iteration 434, loss = 167.86100844\n",
            "Iteration 435, loss = 167.58253815\n",
            "Iteration 436, loss = 166.64376117\n",
            "Iteration 437, loss = 167.16042550\n",
            "Iteration 438, loss = 168.22376243\n",
            "Iteration 439, loss = 166.71922689\n",
            "Iteration 440, loss = 168.93750645\n",
            "Iteration 441, loss = 165.40409343\n",
            "Iteration 442, loss = 169.47101820\n",
            "Iteration 443, loss = 168.84187204\n",
            "Iteration 444, loss = 167.59508818\n",
            "Iteration 445, loss = 167.46829831\n",
            "Iteration 446, loss = 166.61880522\n",
            "Iteration 447, loss = 166.64395068\n",
            "Iteration 448, loss = 168.79717357\n",
            "Iteration 449, loss = 164.18481680\n",
            "Iteration 450, loss = 163.77382684\n",
            "Iteration 451, loss = 162.01669842\n",
            "Iteration 452, loss = 163.87198636\n",
            "Iteration 453, loss = 163.45128964\n",
            "Iteration 454, loss = 162.93458824\n",
            "Iteration 455, loss = 163.09354983\n",
            "Iteration 456, loss = 161.03231067\n",
            "Iteration 457, loss = 160.13377212\n",
            "Iteration 458, loss = 163.70300923\n",
            "Iteration 459, loss = 162.50961685\n",
            "Iteration 460, loss = 161.05090744\n",
            "Iteration 461, loss = 160.46663522\n",
            "Iteration 462, loss = 159.33170263\n",
            "Iteration 463, loss = 164.97122337\n",
            "Iteration 464, loss = 162.04122838\n",
            "Iteration 465, loss = 159.78419865\n",
            "Iteration 466, loss = 157.23395048\n",
            "Iteration 467, loss = 159.01965955\n",
            "Iteration 468, loss = 156.07358214\n",
            "Iteration 469, loss = 157.31408764\n",
            "Iteration 470, loss = 157.93287958\n",
            "Iteration 471, loss = 162.08705308\n",
            "Iteration 472, loss = 161.23603129\n",
            "Iteration 473, loss = 158.60240626\n",
            "Iteration 474, loss = 156.73663007\n",
            "Iteration 475, loss = 160.96553832\n",
            "Iteration 476, loss = 162.18786333\n",
            "Iteration 477, loss = 159.08325526\n",
            "Iteration 478, loss = 155.30071265\n",
            "Iteration 479, loss = 155.65827331\n",
            "Iteration 480, loss = 153.14475774\n",
            "Iteration 481, loss = 154.68839388\n",
            "Iteration 482, loss = 158.74893599\n",
            "Iteration 483, loss = 159.26455229\n",
            "Iteration 484, loss = 158.68072628\n",
            "Iteration 485, loss = 160.62364650\n",
            "Iteration 486, loss = 163.42027622\n",
            "Iteration 487, loss = 159.84507431\n",
            "Iteration 488, loss = 158.85619931\n",
            "Iteration 489, loss = 157.55176668\n",
            "Iteration 490, loss = 154.55871125\n",
            "Iteration 491, loss = 152.85942076\n",
            "Iteration 492, loss = 151.24445058\n",
            "Iteration 493, loss = 151.86845888\n",
            "Iteration 494, loss = 157.77333926\n",
            "Iteration 495, loss = 152.78275794\n",
            "Iteration 496, loss = 155.99114002\n",
            "Iteration 497, loss = 158.30349793\n",
            "Iteration 498, loss = 156.03556546\n",
            "Iteration 499, loss = 156.38698035\n",
            "Iteration 500, loss = 157.83352564\n",
            "Iteration 501, loss = 151.66899976\n",
            "Iteration 502, loss = 151.26253345\n",
            "Iteration 503, loss = 150.81931051\n",
            "Iteration 504, loss = 150.62920623\n",
            "Iteration 505, loss = 150.74679238\n",
            "Iteration 506, loss = 157.48375342\n",
            "Iteration 507, loss = 159.64017810\n",
            "Iteration 508, loss = 158.09209483\n",
            "Iteration 509, loss = 155.66334779\n",
            "Iteration 510, loss = 153.68246350\n",
            "Iteration 511, loss = 151.53742584\n",
            "Iteration 512, loss = 151.66367544\n",
            "Iteration 513, loss = 151.22765709\n",
            "Iteration 514, loss = 155.14295908\n",
            "Iteration 515, loss = 151.16185873\n",
            "Iteration 516, loss = 146.57222793\n",
            "Iteration 517, loss = 148.90221396\n",
            "Iteration 518, loss = 147.56413852\n",
            "Iteration 519, loss = 145.79629490\n",
            "Iteration 520, loss = 145.65387810\n",
            "Iteration 521, loss = 149.95873161\n",
            "Iteration 522, loss = 146.82340961\n",
            "Iteration 523, loss = 146.70314693\n",
            "Iteration 524, loss = 148.83006949\n",
            "Iteration 525, loss = 153.94506017\n",
            "Iteration 526, loss = 150.85706561\n",
            "Iteration 527, loss = 149.02883036\n",
            "Iteration 528, loss = 150.54676816\n",
            "Iteration 529, loss = 146.36702696\n",
            "Iteration 530, loss = 149.26399563\n",
            "Iteration 531, loss = 144.66565081\n",
            "Iteration 532, loss = 144.34945850\n",
            "Iteration 533, loss = 141.11078838\n",
            "Iteration 534, loss = 143.03331717\n",
            "Iteration 535, loss = 141.68170271\n",
            "Iteration 536, loss = 141.24670096\n",
            "Iteration 537, loss = 147.42601958\n",
            "Iteration 538, loss = 152.05492467\n",
            "Iteration 539, loss = 145.72339358\n",
            "Iteration 540, loss = 142.98137663\n",
            "Iteration 541, loss = 141.33151408\n",
            "Iteration 542, loss = 141.11760865\n",
            "Iteration 543, loss = 142.29920352\n",
            "Iteration 544, loss = 141.38056880\n",
            "Iteration 545, loss = 141.30591025\n",
            "Iteration 546, loss = 144.38838633\n",
            "Iteration 547, loss = 142.81345693\n",
            "Iteration 548, loss = 140.83415972\n",
            "Iteration 549, loss = 142.36384728\n",
            "Iteration 550, loss = 144.74549252\n",
            "Iteration 551, loss = 146.76759802\n",
            "Iteration 552, loss = 140.37310270\n",
            "Iteration 553, loss = 145.40896447\n",
            "Iteration 554, loss = 141.38276916\n",
            "Iteration 555, loss = 138.17419317\n",
            "Iteration 556, loss = 143.84286635\n",
            "Iteration 557, loss = 141.72061718\n",
            "Iteration 558, loss = 138.91131316\n",
            "Iteration 559, loss = 139.58543190\n",
            "Iteration 560, loss = 136.84721760\n",
            "Iteration 561, loss = 137.27881041\n",
            "Iteration 562, loss = 137.73312435\n",
            "Iteration 563, loss = 136.86809969\n",
            "Iteration 564, loss = 138.48321559\n",
            "Iteration 565, loss = 139.45874538\n",
            "Iteration 566, loss = 144.62409282\n",
            "Iteration 567, loss = 140.57509400\n",
            "Iteration 568, loss = 141.02671234\n",
            "Iteration 569, loss = 136.55150783\n",
            "Iteration 570, loss = 137.93832849\n",
            "Iteration 571, loss = 140.46371770\n",
            "Iteration 572, loss = 140.22280312\n",
            "Iteration 573, loss = 142.25456072\n",
            "Iteration 574, loss = 142.88745350\n",
            "Iteration 575, loss = 140.62217481\n",
            "Iteration 576, loss = 138.23356113\n",
            "Iteration 577, loss = 140.77433747\n",
            "Iteration 578, loss = 139.37367399\n",
            "Iteration 579, loss = 139.19781986\n",
            "Iteration 580, loss = 145.33406588\n",
            "Iteration 581, loss = 136.27262419\n",
            "Iteration 582, loss = 133.89824754\n",
            "Iteration 583, loss = 136.66245660\n",
            "Iteration 584, loss = 135.75647955\n",
            "Iteration 585, loss = 135.96706119\n",
            "Iteration 586, loss = 134.48121038\n",
            "Iteration 587, loss = 131.86363550\n",
            "Iteration 588, loss = 135.28771269\n",
            "Iteration 589, loss = 139.83385071\n",
            "Iteration 590, loss = 139.91999902\n",
            "Iteration 591, loss = 138.76557697\n",
            "Iteration 592, loss = 140.11556125\n",
            "Iteration 593, loss = 137.05332576\n",
            "Iteration 594, loss = 132.75524725\n",
            "Iteration 595, loss = 132.66615479\n",
            "Iteration 596, loss = 130.60535809\n",
            "Iteration 597, loss = 129.46738869\n",
            "Iteration 598, loss = 129.42121854\n",
            "Iteration 599, loss = 130.85553239\n",
            "Iteration 600, loss = 129.86561311\n",
            "Iteration 601, loss = 129.03586998\n",
            "Iteration 602, loss = 131.89726379\n",
            "Iteration 603, loss = 129.79870514\n",
            "Iteration 604, loss = 131.35086632\n",
            "Iteration 605, loss = 131.89854561\n",
            "Iteration 606, loss = 129.62297276\n",
            "Iteration 607, loss = 128.83256534\n",
            "Iteration 608, loss = 128.56855027\n",
            "Iteration 609, loss = 127.44358512\n",
            "Iteration 610, loss = 128.74923953\n",
            "Iteration 611, loss = 127.24241920\n",
            "Iteration 612, loss = 127.31742056\n",
            "Iteration 613, loss = 130.17700307\n",
            "Iteration 614, loss = 128.43094746\n",
            "Iteration 615, loss = 128.42680408\n",
            "Iteration 616, loss = 132.55032594\n",
            "Iteration 617, loss = 133.22547640\n",
            "Iteration 618, loss = 132.85050662\n",
            "Iteration 619, loss = 134.13435474\n",
            "Iteration 620, loss = 130.17120802\n",
            "Iteration 621, loss = 129.49933536\n",
            "Iteration 622, loss = 130.27164949\n",
            "Iteration 623, loss = 129.58652459\n",
            "Iteration 624, loss = 132.59284376\n",
            "Iteration 625, loss = 133.75079028\n",
            "Iteration 626, loss = 135.60753729\n",
            "Iteration 627, loss = 130.33950537\n",
            "Training loss did not improve more than tol=0.000100 for 15 consecutive epochs. Stopping.\n"
          ]
        }
      ]
    },
    {
      "cell_type": "code",
      "source": [
        "err = sklearn.metrics.mean_squared_error(regressor.predict(test_X), test_y)\n",
        "print(f\"MSE: {err}\\nsquared MSE: {np.sqrt(err)}\")"
      ],
      "metadata": {
        "colab": {
          "base_uri": "https://localhost:8080/"
        },
        "outputId": "da0f6fd7-de52-4f34-bed4-4db87d2e96e4",
        "id": "M3jUw6WrOnno"
      },
      "execution_count": null,
      "outputs": [
        {
          "output_type": "stream",
          "name": "stdout",
          "text": [
            "MSE: 1125.592478515355\n",
            "squared MSE: 33.54985064818255\n"
          ]
        }
      ]
    },
    {
      "cell_type": "markdown",
      "source": [
        "## Hyper-Params #3 (MLPRegressor)"
      ],
      "metadata": {
        "id": "ZYvo96-COnnp"
      }
    },
    {
      "cell_type": "code",
      "source": [
        "np.random.seed(0)\n",
        "train_X, test_X, train_y , test_y = train_test_split(df_small_null, cancellation_labels_small_null)\n",
        "from sklearn.neural_network import MLPRegressor\n",
        "from sklearn.model_selection import GridSearchCV\n",
        "estimator = MLPRegressor()"
      ],
      "metadata": {
        "id": "7exeHMmBOnnp"
      },
      "execution_count": null,
      "outputs": []
    },
    {
      "cell_type": "code",
      "source": [
        "estimator.get_params().keys()"
      ],
      "metadata": {
        "colab": {
          "base_uri": "https://localhost:8080/"
        },
        "outputId": "ecea14b4-1172-44e5-cb87-8a024fa69c1c",
        "id": "iBwUIPJ3Onnp"
      },
      "execution_count": null,
      "outputs": [
        {
          "output_type": "execute_result",
          "data": {
            "text/plain": [
              "dict_keys(['activation', 'alpha', 'batch_size', 'beta_1', 'beta_2', 'early_stopping', 'epsilon', 'hidden_layer_sizes', 'learning_rate', 'learning_rate_init', 'max_fun', 'max_iter', 'momentum', 'n_iter_no_change', 'nesterovs_momentum', 'power_t', 'random_state', 'shuffle', 'solver', 'tol', 'validation_fraction', 'verbose', 'warm_start'])"
            ]
          },
          "metadata": {},
          "execution_count": 13
        }
      ]
    },
    {
      "cell_type": "code",
      "source": [
        "param_grid={'hidden_layer_sizes':[(600,),(600,600)], 'activation':['logistic', 'relu'], 'alpha':[1,10,100],\n",
        "            'max_iter': [500], 'learning_rate':['constant'],\"verbose\":[0]}\n",
        "clf = GridSearchCV(estimator, param_grid=param_grid, cv=4, verbose=3)\n",
        "clf.fit(train_X, train_y)"
      ],
      "metadata": {
        "id": "AkmzQtSyOnnp"
      },
      "execution_count": null,
      "outputs": []
    },
    {
      "cell_type": "code",
      "source": [
        "clf.best_score_"
      ],
      "metadata": {
        "colab": {
          "base_uri": "https://localhost:8080/"
        },
        "outputId": "9645677d-ea51-4021-f0cd-a019c54a9053",
        "id": "Ypt-SDXcOnnp"
      },
      "execution_count": null,
      "outputs": [
        {
          "output_type": "execute_result",
          "data": {
            "text/plain": [
              "0.6556752972728243"
            ]
          },
          "metadata": {},
          "execution_count": 18
        }
      ]
    },
    {
      "cell_type": "code",
      "source": [
        "clf.best_params_"
      ],
      "metadata": {
        "colab": {
          "base_uri": "https://localhost:8080/"
        },
        "outputId": "06552025-a8c0-4679-a06c-2fb387b6fb99",
        "id": "3c6lLHrMOnnp"
      },
      "execution_count": null,
      "outputs": [
        {
          "output_type": "execute_result",
          "data": {
            "text/plain": [
              "{'activation': 'logistic',\n",
              " 'alpha': 10,\n",
              " 'hidden_layer_sizes': (600,),\n",
              " 'learning_rate': 'constant',\n",
              " 'max_iter': 500,\n",
              " 'verbose': 0}"
            ]
          },
          "metadata": {},
          "execution_count": 19
        }
      ]
    },
    {
      "cell_type": "code",
      "source": [
        ""
      ],
      "metadata": {
        "id": "pXLgh5vXzVPe"
      },
      "execution_count": null,
      "outputs": []
    },
    {
      "cell_type": "code",
      "source": [
        "# from sklearn.externals import joblib\n",
        "\n",
        "# joblib.dump(clf, 'model_file_name.pkl')"
      ],
      "metadata": {
        "id": "woTM5oILOnnp"
      },
      "execution_count": null,
      "outputs": []
    },
    {
      "cell_type": "code",
      "source": [
        "err = sklearn.metrics.mean_squared_error(clf.best_estimator_.predict(test_X), test_y)\n",
        "print(f\"MSE: {err}\\nsquared MSE: {np.sqrt(err)}\")"
      ],
      "metadata": {
        "colab": {
          "base_uri": "https://localhost:8080/"
        },
        "id": "qHtW9RKtzQsx",
        "outputId": "7b65c581-3b2a-46cc-87d6-fde7903a1dbe"
      },
      "execution_count": null,
      "outputs": [
        {
          "output_type": "stream",
          "name": "stdout",
          "text": [
            "MSE: 1155.189897799926\n",
            "squared MSE: 33.98808464447395\n"
          ]
        }
      ]
    },
    {
      "cell_type": "markdown",
      "source": [
        "## Fitting Regressor #4 (HistGradientBoostingRegressor)"
      ],
      "metadata": {
        "id": "rpZSACDO2jPM"
      }
    },
    {
      "cell_type": "code",
      "source": [
        "np.random.seed(0)\n",
        "train_X, test_X, train_y , test_y = train_test_split(df_small_null, cancellation_labels_small_null)\n",
        "\n",
        "from sklearn.ensemble import HistGradientBoostingRegressor\n",
        "# regressor = xgb.XGBRegressor(base_score=0.5, booster='gbtree', colsample_bylevel=1,\n",
        "#        colsample_bynode=1, colsample_bytree=1, gamma=0,\n",
        "#        importance_type='gain', learning_rate=0.1, max_delta_step=0,\n",
        "#        max_depth=3, min_child_weight=1, missing=None, n_estimators=100,\n",
        "#        n_jobs=1, nthread=None, objective='reg:linear', random_state=0,\n",
        "#        reg_alpha=0, reg_lambda=1, scale_pos_weight=1, seed=None,\n",
        "#        silent=None, subsample=1, verbosity=1).fit(train_X, train_y)\n",
        "# regressor = xgb.XGBRegressor(n_estimators=200, learning_rate = 0.1, max_depth=3, verbosity=0).fit(train_X, train_y)\n",
        "regressor = HistGradientBoostingRegressor(max_iter=1000, verbose=1, l2_regularization=0, learning_rate=0.005, min_samples_leaf=3).fit(train_X, train_y)"
      ],
      "metadata": {
        "id": "cdDM9y5u2jPR"
      },
      "execution_count": null,
      "outputs": []
    },
    {
      "cell_type": "code",
      "source": [
        "err = sklearn.metrics.mean_squared_error(regressor.predict(test_X), test_y)\n",
        "print(f\"MSE: {err}\\nsquared MSE: {np.sqrt(err)}\")"
      ],
      "metadata": {
        "colab": {
          "base_uri": "https://localhost:8080/"
        },
        "outputId": "b70a6383-fd39-4809-d00a-d757057b22f3",
        "id": "Y78Mfo2n2jPS"
      },
      "execution_count": 49,
      "outputs": [
        {
          "output_type": "stream",
          "name": "stdout",
          "text": [
            "MSE: 1352.187876400762\n",
            "squared MSE: 36.772107315202405\n"
          ]
        }
      ]
    },
    {
      "cell_type": "markdown",
      "source": [
        "## Hyper-Params #4 (HistGradientBoostingRegressor)"
      ],
      "metadata": {
        "id": "4u5c6CWC2jPS"
      }
    },
    {
      "cell_type": "code",
      "source": [
        "np.random.seed(0)\n",
        "from sklearn.ensemble import HistGradientBoostingRegressor\n",
        "from sklearn.model_selection import GridSearchCV\n",
        "# .fit(train_X, train_y)\n",
        "estimator = HistGradientBoostingRegressor()"
      ],
      "metadata": {
        "id": "UqDrS3at2jPS"
      },
      "execution_count": 16,
      "outputs": []
    },
    {
      "cell_type": "code",
      "source": [
        "estimator.get_params().keys()"
      ],
      "metadata": {
        "colab": {
          "base_uri": "https://localhost:8080/"
        },
        "outputId": "ac10f52e-0b2d-4d11-c3e3-96dba9352f4f",
        "id": "0oLb3MSg2jPS"
      },
      "execution_count": 17,
      "outputs": [
        {
          "output_type": "execute_result",
          "data": {
            "text/plain": [
              "dict_keys(['categorical_features', 'early_stopping', 'l2_regularization', 'learning_rate', 'loss', 'max_bins', 'max_depth', 'max_iter', 'max_leaf_nodes', 'min_samples_leaf', 'monotonic_cst', 'n_iter_no_change', 'random_state', 'scoring', 'tol', 'validation_fraction', 'verbose', 'warm_start'])"
            ]
          },
          "metadata": {},
          "execution_count": 17
        }
      ]
    },
    {
      "cell_type": "code",
      "source": [
        "param_grid={\"max_iter\":[150,200,250], \"verbose\":[0], \"l2_regularization\":[0], \"learning_rate\":[0.01], \"min_samples_leaf\":[1,2,3,4]}\n",
        "clf = GridSearchCV(estimator, param_grid=param_grid, cv=3, verbose=3)\n",
        "clf.fit(train_X, train_y)"
      ],
      "metadata": {
        "id": "wvYSuzo72jPS"
      },
      "execution_count": null,
      "outputs": []
    },
    {
      "cell_type": "code",
      "source": [
        "clf.best_score_"
      ],
      "metadata": {
        "colab": {
          "base_uri": "https://localhost:8080/"
        },
        "outputId": "1930b465-0c9d-43b0-b6eb-3eb22f969606",
        "id": "774_AxLn2jPS"
      },
      "execution_count": 20,
      "outputs": [
        {
          "output_type": "execute_result",
          "data": {
            "text/plain": [
              "0.7062832219006939"
            ]
          },
          "metadata": {},
          "execution_count": 20
        }
      ]
    },
    {
      "cell_type": "code",
      "source": [
        "clf.best_params_"
      ],
      "metadata": {
        "colab": {
          "base_uri": "https://localhost:8080/"
        },
        "outputId": "2e01d256-87e9-4748-f7eb-227dbb8b8b11",
        "id": "Qm4h3uGQ2jPT"
      },
      "execution_count": 21,
      "outputs": [
        {
          "output_type": "execute_result",
          "data": {
            "text/plain": [
              "{'l2_regularization': 0,\n",
              " 'learning_rate': 0.01,\n",
              " 'max_iter': 250,\n",
              " 'min_samples_leaf': 1,\n",
              " 'verbose': 0}"
            ]
          },
          "metadata": {},
          "execution_count": 21
        }
      ]
    },
    {
      "cell_type": "code",
      "source": [
        "clf.cv_results_"
      ],
      "metadata": {
        "id": "Do4nLLbm9r0L"
      },
      "execution_count": null,
      "outputs": []
    },
    {
      "cell_type": "code",
      "source": [
        "# from sklearn.externals import joblib\n",
        "\n",
        "# joblib.dump(clf, 'model_file_name.pkl')"
      ],
      "metadata": {
        "id": "zunolwDj2jPT"
      },
      "execution_count": null,
      "outputs": []
    },
    {
      "cell_type": "markdown",
      "source": [
        "# Output Setup"
      ],
      "metadata": {
        "id": "CSBUQby2zNhR"
      }
    },
    {
      "cell_type": "code",
      "source": [
        "def evaluate_and_export(pred_y: np.ndarray, filename: str):\n",
        "    \"\"\"\n",
        "    Export to specified file the prediction results of given estimator on given testset.\n",
        "\n",
        "    File saved is in csv format with a single column named 'predicted_values' and n_samples rows containing\n",
        "    predicted values.\n",
        "\n",
        "    Parameters\n",
        "    ----------\n",
        "    estimator: BaseEstimator or any object implementing predict() method as in BaseEstimator (for example sklearn)\n",
        "        Fitted estimator to use for prediction\n",
        "\n",
        "    X: ndarray of shape (n_samples, n_features)\n",
        "        Test design matrix to predict its responses\n",
        "\n",
        "    filename:\n",
        "        path to store file at\n",
        "\n",
        "    \"\"\"\n",
        "    pd.DataFrame(pred_y, columns=[\"predicted_values\"]).to_csv(filename, index=False)"
      ],
      "metadata": {
        "id": "ZvSUFCBRqE78"
      },
      "execution_count": 78,
      "outputs": []
    },
    {
      "cell_type": "code",
      "source": [
        "from datetime import timedelta\n",
        "def predict_on_test_data(classifier_model, regressor_model, test_data_x, amount_of_hours_to_accept_for_cancel, classifier_threshold):\n",
        "  proccessed_test_data_x, _, _ = pre_proccess_data(test_data_x, None, classifier_mode=True)\n",
        "  cancelled = classifier_model.predict_proba(proccessed_test_data_x)[:, 1] >= classifier_threshold # <-- IMPORTANT THRESHOLD FOR CLASSIFIER\n",
        "  proccessed_test_data_no_null_x, _, _ = pre_proccess_data(test_data_x, None, classifier_mode=False)\n",
        "  proccessed_test_data_only_cancelled = proccessed_test_data_no_null_x[cancelled]\n",
        "  predicted_days_before_to_cancel = regressor_model.predict(proccessed_test_data_only_cancelled)\n",
        "  time_deltas = np.array([timedelta(days=float(x)) for x in predicted_days_before_to_cancel])\n",
        "  checkin_dates = test_data_x[cancelled][\"checkin_date\"]\n",
        "  final_times = pd.to_datetime(checkin_dates) - time_deltas\n",
        "  final_answer_no_non_cancels = (datetime(2018, 12, 10, 0, 0, 0) + timedelta(hours=amount_of_hours_to_accept_for_cancel) >= final_times) & (final_times >= datetime(2018, 12, 10, 0, 0, 0) - timedelta(hours=amount_of_hours_to_accept_for_cancel))\n",
        "  final_answer_no_non_cancels = np.where(final_answer_no_non_cancels)\n",
        "  final_answer = np.zeros(test_data_x.shape[0])\n",
        "  final_answer[final_answer_no_non_cancels] = True\n",
        "  return final_answer"
      ],
      "metadata": {
        "id": "0_CZfBUGtUCg"
      },
      "execution_count": 79,
      "outputs": []
    },
    {
      "cell_type": "code",
      "source": [
        "def perform_entire_test(classifier_model, regressor_model, week_number, amount_of_hours_to_accept_for_cancel=72, classifier_threshold=0.0, printing=True):\n",
        "  test_data_x = pd.read_csv(f\"/content/drive/MyDrive/data challenge/week_{week_number}_test_data.csv\")\n",
        "  test_data_y = pd.read_csv(f\"/content/drive/MyDrive/data challenge/week_{week_number}_labels.csv\")\n",
        "  y_test_predict = predict_on_test_data(classifier_model, regressor_model, test_data_x, amount_of_hours_to_accept_for_cancel, classifier_threshold)\n",
        "  total_test = test_data_x.copy()\n",
        "  total_test[\"label\"] = test_data_y[\"cancel\"]\n",
        "  total_test[\"prediction\"] = y_test_predict\n",
        "  get_statistics(total_test[\"label\"], total_test[\"prediction\"], printing)\n",
        "  confusion_matrix = sklearn.metrics.confusion_matrix(total_test[\"label\"], total_test[\"prediction\"])\n",
        "  disp = sklearn.metrics.ConfusionMatrixDisplay(confusion_matrix = confusion_matrix)\n",
        "  if printing:\n",
        "    disp.plot()\n",
        "  auc = roc_curve(total_test[\"label\"], total_test[\"prediction\"], showing=printing)\n",
        "  return auc, confusion_matrix"
      ],
      "metadata": {
        "id": "Gl3A8o5Ru-rY"
      },
      "execution_count": 80,
      "outputs": []
    },
    {
      "cell_type": "markdown",
      "source": [
        "# Finding Best Time Threshold For Regressor"
      ],
      "metadata": {
        "id": "5TnuczABAg3v"
      }
    },
    {
      "cell_type": "code",
      "source": [
        "test_data_x_weeks = [pd.read_csv(f\"/content/drive/MyDrive/data challenge/week_{week_number}_test_data.csv\") for week_number in range(1,7)]\n",
        "test_data_y_weeks = [pd.read_csv(f\"/content/drive/MyDrive/data challenge/week_{week_number}_labels.csv\") for week_number in range(1,7)]\n",
        "total_test_data_x = pd.DataFrame().append(test_data_x_weeks, ignore_index=True)\n",
        "total_test_data_y = pd.DataFrame().append(test_data_y_weeks, ignore_index=True)"
      ],
      "metadata": {
        "id": "2ww3pUw9-Yab"
      },
      "execution_count": 53,
      "outputs": []
    },
    {
      "cell_type": "code",
      "source": [
        "np.random.seed(0)\n",
        "import pandas as pd\n",
        "import warnings\n",
        "warnings.simplefilter(action='ignore', category=pd.errors.PerformanceWarning)\n",
        "\n",
        "threshold_hours = list(range(1,72*4+1))\n",
        "aucs = []\n",
        "confusion_matrices = []\n",
        "printing = False\n",
        "\n",
        "test_data_x = total_test_data_x\n",
        "test_data_y = total_test_data_y\n",
        "total_test = test_data_x.copy()\n",
        "proccessed_test_data_x, _, _ = pre_proccess_data(test_data_x, None, classifier_mode=True)\n",
        "cancelled = classifier.predict_proba(proccessed_test_data_x)[:, 1] >= 0.0\n",
        "proccessed_test_data_no_null_x, _, _ = pre_proccess_data(test_data_x, None, classifier_mode=False)\n",
        "proccessed_test_data_only_cancelled = proccessed_test_data_no_null_x[cancelled]\n",
        "predicted_days_before_to_cancel = regressor.predict(proccessed_test_data_only_cancelled)\n",
        "time_deltas = np.array([timedelta(days=float(x)) for x in predicted_days_before_to_cancel])\n",
        "checkin_dates = test_data_x[cancelled][\"checkin_date\"]\n",
        "final_times = pd.to_datetime(checkin_dates) - time_deltas\n",
        "for threshold in threshold_hours:\n",
        "  final_answer_no_non_cancels = (datetime(2018, 12, 10, 0, 0, 0) + timedelta(hours=threshold) >= final_times) & (final_times >= datetime(2018, 12, 10, 0, 0, 0) - timedelta(hours=threshold))\n",
        "  final_answer_no_non_cancels = np.where(final_answer_no_non_cancels)\n",
        "  final_answer = np.zeros(test_data_x.shape[0])\n",
        "  final_answer[final_answer_no_non_cancels] = True\n",
        "  total_test[\"label\"] = test_data_y[\"cancel\"]\n",
        "  total_test[\"prediction\"] = final_answer\n",
        "  get_statistics(total_test[\"label\"], total_test[\"prediction\"], printing)\n",
        "  confusion_matrix = sklearn.metrics.confusion_matrix(total_test[\"label\"], total_test[\"prediction\"])\n",
        "  disp = sklearn.metrics.ConfusionMatrixDisplay(confusion_matrix = confusion_matrix)\n",
        "  if printing:\n",
        "    disp.plot()\n",
        "  auc = roc_curve(total_test[\"label\"], total_test[\"prediction\"], showing=printing)\n",
        "\n",
        "  print(f\"{threshold} Hours, AUC: {auc}\")\n",
        "  aucs.append(auc)\n",
        "  confusion_matrices.append(confusion_matrix)"
      ],
      "metadata": {
        "id": "FUOeGEsv5j6x"
      },
      "execution_count": null,
      "outputs": []
    },
    {
      "cell_type": "code",
      "source": [
        "plt.plot(threshold_hours, aucs)"
      ],
      "metadata": {
        "id": "aPOP8RrR6yyG"
      },
      "execution_count": null,
      "outputs": []
    },
    {
      "cell_type": "markdown",
      "source": [
        "# Testing On Weeks"
      ],
      "metadata": {
        "id": "5kj81NPfAm9X"
      }
    },
    {
      "cell_type": "code",
      "source": [
        "CLASSIFIER_THRESHOLD = 0.0\n",
        "AMOUNT_OF_HOURS_TO_ACCEPT_FOR_CANCEL = 150"
      ],
      "metadata": {
        "id": "PMFi3Th-xQo9"
      },
      "execution_count": 71,
      "outputs": []
    },
    {
      "cell_type": "markdown",
      "source": [
        "Week 1"
      ],
      "metadata": {
        "id": "7_m_LBN_wr5b"
      }
    },
    {
      "cell_type": "code",
      "source": [
        "perform_entire_test(classifier, regressor, 1, AMOUNT_OF_HOURS_TO_ACCEPT_FOR_CANCEL, CLASSIFIER_THRESHOLD)"
      ],
      "metadata": {
        "colab": {
          "base_uri": "https://localhost:8080/",
          "height": 645
        },
        "id": "EKcmKiLCvl7q",
        "outputId": "c5c612f4-4d8b-473a-f6d7-ab35bb6dd3e8"
      },
      "execution_count": 72,
      "outputs": [
        {
          "output_type": "stream",
          "name": "stdout",
          "text": [
            "Accuracy Score: 0.6457142857142857\n",
            "Precision Score: 0.04918032786885246\n",
            "MSE: 0.35428571428571426\n",
            "ROC_AUC: 0.5416666666666667\n"
          ]
        },
        {
          "output_type": "display_data",
          "data": {
            "text/plain": [
              "<Figure size 432x288 with 2 Axes>"
            ],
            "image/png": "[encoded data removed]"
          },
          "metadata": {
            "needs_background": "light"
          }
        },
        {
          "output_type": "display_data",
          "data": {
            "text/plain": [
              "<Figure size 432x288 with 1 Axes>"
            ],
            "image/png": "[encoded data removed]"
          },
          "metadata": {
            "needs_background": "light"
          }
        },
        {
          "output_type": "execute_result",
          "data": {
            "text/plain": [
              "(0.5416666666666667, array([[440, 232],\n",
              "        [ 16,  12]]))"
            ]
          },
          "metadata": {},
          "execution_count": 72
        }
      ]
    },
    {
      "cell_type": "markdown",
      "source": [
        "Week 2"
      ],
      "metadata": {
        "id": "mJMfRzD7w5Kn"
      }
    },
    {
      "cell_type": "code",
      "source": [
        "perform_entire_test(classifier, regressor, 2, AMOUNT_OF_HOURS_TO_ACCEPT_FOR_CANCEL, CLASSIFIER_THRESHOLD)"
      ],
      "metadata": {
        "colab": {
          "base_uri": "https://localhost:8080/",
          "height": 647
        },
        "id": "Re-pwHJiw5Kn",
        "outputId": "f3d350f5-27c5-4c58-d397-5f4840e106e1"
      },
      "execution_count": 73,
      "outputs": [
        {
          "output_type": "stream",
          "name": "stdout",
          "text": [
            "Accuracy Score: 0.6614285714285715\n",
            "Precision Score: 0.0379746835443038\n",
            "MSE: 0.3385714285714286\n",
            "ROC_AUC: 0.5828445747800587\n"
          ]
        },
        {
          "output_type": "display_data",
          "data": {
            "text/plain": [
              "<Figure size 432x288 with 2 Axes>"
            ],
            "image/png": "[encoded data removed]"
          },
          "metadata": {
            "needs_background": "light"
          }
        },
        {
          "output_type": "display_data",
          "data": {
            "text/plain": [
              "<Figure size 432x288 with 1 Axes>"
            ],
            "image/png": "[encoded data removed]"
          },
          "metadata": {
            "needs_background": "light"
          }
        },
        {
          "output_type": "execute_result",
          "data": {
            "text/plain": [
              "(0.5828445747800587, array([[454, 228],\n",
              "        [  9,   9]]))"
            ]
          },
          "metadata": {},
          "execution_count": 73
        }
      ]
    },
    {
      "cell_type": "markdown",
      "source": [
        "Week 3"
      ],
      "metadata": {
        "id": "dAPGFIahw5T1"
      }
    },
    {
      "cell_type": "code",
      "source": [
        "perform_entire_test(classifier, regressor, 3, AMOUNT_OF_HOURS_TO_ACCEPT_FOR_CANCEL, CLASSIFIER_THRESHOLD)"
      ],
      "metadata": {
        "colab": {
          "base_uri": "https://localhost:8080/",
          "height": 645
        },
        "id": "21QMuWmrw5T1",
        "outputId": "b7973503-c4ed-4da3-e604-3e01df93e88d"
      },
      "execution_count": 74,
      "outputs": [
        {
          "output_type": "stream",
          "name": "stdout",
          "text": [
            "Accuracy Score: 0.6371428571428571\n",
            "Precision Score: 0.05019305019305019\n",
            "MSE: 0.3628571428571429\n",
            "ROC_AUC: 0.6283750613647521\n"
          ]
        },
        {
          "output_type": "display_data",
          "data": {
            "text/plain": [
              "<Figure size 432x288 with 2 Axes>"
            ],
            "image/png": "[encoded data removed]"
          },
          "metadata": {
            "needs_background": "light"
          }
        },
        {
          "output_type": "display_data",
          "data": {
            "text/plain": [
              "<Figure size 432x288 with 1 Axes>"
            ],
            "image/png": "[encoded data removed]"
          },
          "metadata": {
            "needs_background": "light"
          }
        },
        {
          "output_type": "execute_result",
          "data": {
            "text/plain": [
              "(0.6283750613647521, array([[433, 246],\n",
              "        [  8,  13]]))"
            ]
          },
          "metadata": {},
          "execution_count": 74
        }
      ]
    },
    {
      "cell_type": "markdown",
      "source": [
        "Week 4"
      ],
      "metadata": {
        "id": "i-SzTPGTw5Zk"
      }
    },
    {
      "cell_type": "code",
      "source": [
        "perform_entire_test(classifier, regressor, 4, AMOUNT_OF_HOURS_TO_ACCEPT_FOR_CANCEL, CLASSIFIER_THRESHOLD)"
      ],
      "metadata": {
        "colab": {
          "base_uri": "https://localhost:8080/",
          "height": 645
        },
        "id": "2x75Bf_Pw5Zl",
        "outputId": "8bda3f3f-a199-413d-8109-61fa850a1313"
      },
      "execution_count": 75,
      "outputs": [
        {
          "output_type": "stream",
          "name": "stdout",
          "text": [
            "Accuracy Score: 0.6157142857142858\n",
            "Precision Score: 0.022222222222222223\n",
            "MSE: 0.3842857142857143\n",
            "ROC_AUC: 0.5811452698245151\n"
          ]
        },
        {
          "output_type": "display_data",
          "data": {
            "text/plain": [
              "<Figure size 432x288 with 2 Axes>"
            ],
            "image/png": "[encoded data removed]"
          },
          "metadata": {
            "needs_background": "light"
          }
        },
        {
          "output_type": "display_data",
          "data": {
            "text/plain": [
              "<Figure size 432x288 with 1 Axes>"
            ],
            "image/png": "[encoded data removed]"
          },
          "metadata": {
            "needs_background": "light"
          }
        },
        {
          "output_type": "execute_result",
          "data": {
            "text/plain": [
              "(0.5811452698245151, array([[425, 264],\n",
              "        [  5,   6]]))"
            ]
          },
          "metadata": {},
          "execution_count": 75
        }
      ]
    },
    {
      "cell_type": "markdown",
      "source": [
        "Week 5"
      ],
      "metadata": {
        "id": "tUqChzykw5gZ"
      }
    },
    {
      "cell_type": "code",
      "source": [
        "perform_entire_test(classifier, regressor, 5, AMOUNT_OF_HOURS_TO_ACCEPT_FOR_CANCEL, CLASSIFIER_THRESHOLD)"
      ],
      "metadata": {
        "colab": {
          "base_uri": "https://localhost:8080/",
          "height": 649
        },
        "id": "biDcEeAZw5gZ",
        "outputId": "fd91e7ab-c959-4593-9923-4e2884b85b31"
      },
      "execution_count": 76,
      "outputs": [
        {
          "output_type": "stream",
          "name": "stdout",
          "text": [
            "Accuracy Score: 0.6557142857142857\n",
            "Precision Score: 0.034482758620689655\n",
            "MSE: 0.3442857142857143\n",
            "ROC_AUC: 0.4940740740740741\n"
          ]
        },
        {
          "output_type": "display_data",
          "data": {
            "text/plain": [
              "<Figure size 432x288 with 2 Axes>"
            ],
            "image/png": "[encoded data removed]"
          },
          "metadata": {
            "needs_background": "light"
          }
        },
        {
          "output_type": "display_data",
          "data": {
            "text/plain": [
              "<Figure size 432x288 with 1 Axes>"
            ],
            "image/png": "[encoded data removed]"
          },
          "metadata": {
            "needs_background": "light"
          }
        },
        {
          "output_type": "execute_result",
          "data": {
            "text/plain": [
              "(0.4940740740740741, array([[451, 224],\n",
              "        [ 17,   8]]))"
            ]
          },
          "metadata": {},
          "execution_count": 76
        }
      ]
    },
    {
      "cell_type": "markdown",
      "source": [
        "Week 6"
      ],
      "metadata": {
        "id": "fAy7TVaXw5q2"
      }
    },
    {
      "cell_type": "code",
      "source": [
        "perform_entire_test(classifier, regressor, 6, AMOUNT_OF_HOURS_TO_ACCEPT_FOR_CANCEL, CLASSIFIER_THRESHOLD)"
      ],
      "metadata": {
        "colab": {
          "base_uri": "https://localhost:8080/",
          "height": 645
        },
        "id": "K_oj2mWBw5q2",
        "outputId": "95f56749-5140-4db9-9c7e-ab8eb7890367"
      },
      "execution_count": 77,
      "outputs": [
        {
          "output_type": "stream",
          "name": "stdout",
          "text": [
            "Accuracy Score: 0.6342857142857142\n",
            "Precision Score: 0.056\n",
            "MSE: 0.3657142857142857\n",
            "ROC_AUC: 0.5287051757639992\n"
          ]
        },
        {
          "output_type": "display_data",
          "data": {
            "text/plain": [
              "<Figure size 432x288 with 2 Axes>"
            ],
            "image/png": "[encoded data removed]"
          },
          "metadata": {
            "needs_background": "light"
          }
        },
        {
          "output_type": "display_data",
          "data": {
            "text/plain": [
              "<Figure size 432x288 with 1 Axes>"
            ],
            "image/png": "[encoded data removed]"
          },
          "metadata": {
            "needs_background": "light"
          }
        },
        {
          "output_type": "execute_result",
          "data": {
            "text/plain": [
              "(0.5287051757639992, array([[430, 236],\n",
              "        [ 20,  14]]))"
            ]
          },
          "metadata": {},
          "execution_count": 77
        }
      ]
    },
    {
      "cell_type": "markdown",
      "source": [
        "# Testing On All Test Data"
      ],
      "metadata": {
        "id": "Uo18Ed2JA62s"
      }
    },
    {
      "cell_type": "code",
      "source": [
        "CLASSIFIER_THRESHOLD = 0.0\n",
        "AMOUNT_OF_HOURS_TO_ACCEPT_FOR_CANCEL = 150"
      ],
      "metadata": {
        "id": "ngntr2epBSjB"
      },
      "execution_count": 81,
      "outputs": []
    },
    {
      "cell_type": "code",
      "source": [
        "def test_all_data(classifier_thershold=CLASSIFIER_THRESHOLD, amount_of_hours_to_accept_for_cancel=AMOUNT_OF_HOURS_TO_ACCEPT_FOR_CANCEL):\n",
        "  print(f\"~~~ Classifier Threshold: {classifier_thershold} ~~~\\n~~~ Hour Threshold: {amount_of_hours_to_accept_for_cancel} ~~~\")\n",
        "  test_data_x_weeks = [pd.read_csv(f\"/content/drive/MyDrive/data challenge/week_{week_number}_test_data.csv\") for week_number in range(1,7)]\n",
        "  test_data_y_weeks = [pd.read_csv(f\"/content/drive/MyDrive/data challenge/week_{week_number}_labels.csv\") for week_number in range(1,7)]\n",
        "  total_test_data_x = pd.DataFrame().append(test_data_x_weeks, ignore_index=True)\n",
        "  total_test_data_y = pd.DataFrame().append(test_data_y_weeks, ignore_index=True)\n",
        "  printing = True\n",
        "  test_data_x = total_test_data_x\n",
        "  test_data_y = total_test_data_y\n",
        "  y_test_predict = predict_on_test_data(classifier, regressor, test_data_x, amount_of_hours_to_accept_for_cancel, classifier_thershold)\n",
        "  total_test = test_data_x.copy()\n",
        "  total_test[\"label\"] = test_data_y[\"cancel\"]\n",
        "  total_test[\"prediction\"] = y_test_predict\n",
        "  get_statistics(total_test[\"label\"], total_test[\"prediction\"], printing)\n",
        "  confusion_matrix = sklearn.metrics.confusion_matrix(total_test[\"label\"], total_test[\"prediction\"])\n",
        "  disp = sklearn.metrics.ConfusionMatrixDisplay(confusion_matrix = confusion_matrix)\n",
        "  if printing:\n",
        "    disp.plot()\n",
        "  auc = roc_curve(total_test[\"label\"], total_test[\"prediction\"], showing=printing)\n",
        "  return auc"
      ],
      "metadata": {
        "id": "7Rame99nBuEA"
      },
      "execution_count": 84,
      "outputs": []
    },
    {
      "cell_type": "code",
      "source": [
        "import itertools\n",
        "class_thresholds = [0]\n",
        "hour_thresholds = [160]\n",
        "results = np.ndarray((len(class_thresholds), len(hour_thresholds)))\n",
        "for class_thresh, hour_thresh in list(itertools.product(class_thresholds, hour_thresholds)):\n",
        "  result = test_all_data(class_thresh, hour_thresh)\n",
        "  results[class_thresholds.index(class_thresh),hour_thresholds.index(hour_thresh)] = result"
      ],
      "metadata": {
        "id": "9NZ5F0quCewK",
        "colab": {
          "base_uri": "https://localhost:8080/",
          "height": 647
        },
        "outputId": "0f8698de-e13b-474f-ae99-553ebe38e2ad"
      },
      "execution_count": 85,
      "outputs": [
        {
          "output_type": "stream",
          "name": "stdout",
          "text": [
            "~~~ Classifier Threshold: 0 ~~~\n",
            "~~~ Hour Threshold: 160 ~~~\n",
            "Accuracy Score: 0.6180952380952381\n",
            "Precision Score: 0.040701314965560426\n",
            "MSE: 0.3819047619047619\n",
            "ROC_AUC: 0.5486956349897868\n"
          ]
        },
        {
          "output_type": "display_data",
          "data": {
            "text/plain": [
              "<Figure size 432x288 with 2 Axes>"
            ],
            "image/png": "[encoded data removed]"
          },
          "metadata": {
            "needs_background": "light"
          }
        },
        {
          "output_type": "display_data",
          "data": {
            "text/plain": [
              "<Figure size 432x288 with 1 Axes>"
            ],
            "image/png": "[encoded data removed]"
          },
          "metadata": {
            "needs_background": "light"
          }
        }
      ]
    },
    {
      "cell_type": "code",
      "source": [
        "results"
      ],
      "metadata": {
        "colab": {
          "base_uri": "https://localhost:8080/"
        },
        "id": "Zj5NEWaYHPEB",
        "outputId": "1d04d183-0e58-497b-e5ac-e2084d3fce95"
      },
      "execution_count": 86,
      "outputs": [
        {
          "output_type": "execute_result",
          "data": {
            "text/plain": [
              "array([[0.54869563]])"
            ]
          },
          "metadata": {},
          "execution_count": 86
        }
      ]
    },
    {
      "cell_type": "code",
      "source": [
        "import matplotlib.pyplot as plt\n",
        "\n",
        "plt.imshow(results, cmap='hot', interpolation='nearest')\n",
        "plt.show()"
      ],
      "metadata": {
        "colab": {
          "base_uri": "https://localhost:8080/",
          "height": 265
        },
        "id": "DL1yhrNBGHzF",
        "outputId": "c2cc9815-8d8b-4c75-d63c-7516c27d1def"
      },
      "execution_count": 69,
      "outputs": [
        {
          "output_type": "display_data",
          "data": {
            "text/plain": [
              "<Figure size 432x288 with 1 Axes>"
            ],
            "image/png": "[encoded data removed]"
          },
          "metadata": {
            "needs_background": "light"
          }
        }
      ]
    },
    {
      "cell_type": "markdown",
      "source": [
        "# Outputing Results"
      ],
      "metadata": {
        "id": "QZIhL7Fdww_w"
      }
    },
    {
      "cell_type": "code",
      "source": [
        "# for checking answers\n",
        "# test_data_y = pd.read_csv(\"/content/drive/MyDrive/data challenge/week_7_labels.csv\")\n",
        "# final_answer = pd.read_csv(\"/content/drive/MyDrive/data challenge/abc.csv\")"
      ],
      "metadata": {
        "id": "aThZGoh51MXr"
      },
      "execution_count": null,
      "outputs": []
    },
    {
      "cell_type": "code",
      "source": [
        "test_data_x_weeks = [pd.read_csv(f\"/content/drive/MyDrive/data challenge/week_{week_number}_test_data.csv\") for week_number in range(1,7)]\n",
        "# test_data_y_weeks = [pd.read_csv(f\"/content/drive/MyDrive/data challenge/week_{week_number}_labels.csv\") for week_number in range(1,7)]\n",
        "total_test_data_x = pd.DataFrame().append(test_data_x_weeks, ignore_index=True)\n",
        "total_test_data_y = pd.DataFrame().append(test_data_y_weeks, ignore_index=True)\n",
        "printing = True\n",
        "test_data_x = total_test_data_x\n",
        "test_data_y = total_test_data_y\n",
        "y_test_predict = predict_on_test_data(classifier, regressor, test_data_x, 160, 0)\n",
        "total_test = test_data_x.copy()\n",
        "total_test[\"label\"] = test_data_y[\"cancel\"]\n",
        "total_test[\"prediction\"] = y_test_predict"
      ],
      "metadata": {
        "id": "8zkDT-oABjzF"
      },
      "execution_count": 90,
      "outputs": []
    },
    {
      "cell_type": "code",
      "source": [
        "y_test_predict[0:5]"
      ],
      "metadata": {
        "colab": {
          "base_uri": "https://localhost:8080/"
        },
        "id": "Vto5pWsKCTxG",
        "outputId": "155bbd10-dd9b-4a4d-e857-dbefa3d24d89"
      },
      "execution_count": 95,
      "outputs": [
        {
          "output_type": "execute_result",
          "data": {
            "text/plain": [
              "array([1., 0., 0., 0., 1.])"
            ]
          },
          "metadata": {},
          "execution_count": 95
        }
      ]
    },
    {
      "cell_type": "code",
      "source": [
        "evaluate_and_export(y_test_predict, \"212554026_212362628_212722441.csv\")"
      ],
      "metadata": {
        "id": "z8XFwc9fEC0Z"
      },
      "execution_count": 94,
      "outputs": []
    }
  ]
}